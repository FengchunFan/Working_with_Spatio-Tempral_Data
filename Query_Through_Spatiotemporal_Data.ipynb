{
  "nbformat": 4,
  "nbformat_minor": 0,
  "metadata": {
    "colab": {
      "provenance": [],
      "collapsed_sections": [
        "w60EOj5hySw_",
        "g-lK2LCxDfOF",
        "MowvCj7aQ7dZ",
        "hso0RS8uQ-Zm",
        "X1U3fRQ0RDEf",
        "hM-SRX7kRs3C",
        "8Q-uWfInQ4I9",
        "XHrrpYwiS5BG"
      ]
    },
    "kernelspec": {
      "name": "python3",
      "display_name": "Python 3"
    },
    "language_info": {
      "name": "python"
    }
  },
  "cells": [
    {
      "cell_type": "markdown",
      "source": [
        "# Environment Set up"
      ],
      "metadata": {
        "id": "w60EOj5hySw_"
      }
    },
    {
      "cell_type": "markdown",
      "source": [
        "Download and Install Apache Sedona \\\n",
        "Code adopted and modified from: https://colab.research.google.com/drive/15cLZWf8Jnk2CvJePAgfjz-t00JPLDTSP?usp=sharing"
      ],
      "metadata": {
        "id": "FWecXE9mQ1Kx"
      }
    },
    {
      "cell_type": "markdown",
      "source": [
        "## Install Java"
      ],
      "metadata": {
        "id": "InEa6LjOBjak"
      }
    },
    {
      "cell_type": "code",
      "execution_count": 159,
      "metadata": {
        "id": "gstGuvLxBS9R"
      },
      "outputs": [],
      "source": [
        "!apt-get install openjdk-8-jdk-headless -qq > /dev/null"
      ]
    },
    {
      "cell_type": "markdown",
      "source": [
        "## Download Spark"
      ],
      "metadata": {
        "id": "9QiPj-tQB2Jk"
      }
    },
    {
      "cell_type": "code",
      "source": [
        "!wget -q https://dlcdn.apache.org/spark/spark-3.5.3/spark-3.5.3-bin-hadoop3.tgz\n",
        "!tar xf spark-3.5.3-bin-hadoop3.tgz"
      ],
      "metadata": {
        "id": "4U6UFoj0B624"
      },
      "execution_count": 160,
      "outputs": []
    },
    {
      "cell_type": "markdown",
      "source": [
        "## Set Environment Variables"
      ],
      "metadata": {
        "id": "NGL6R2qtCAHN"
      }
    },
    {
      "cell_type": "code",
      "source": [
        "import os\n",
        "os.environ[\"JAVA_HOME\"] = \"/usr/lib/jvm/java-8-openjdk-amd64\"\n",
        "os.environ[\"SPARK_HOME\"] = \"/content/spark-3.5.3-bin-hadoop3\"\n",
        "os.environ[\"PYTHONPATH\"] = \"/content/spark-3.5.3-bin-hadoop3/python\""
      ],
      "metadata": {
        "id": "9c0mPzI4B8_q"
      },
      "execution_count": 161,
      "outputs": []
    },
    {
      "cell_type": "markdown",
      "source": [
        "## Install PySpark"
      ],
      "metadata": {
        "id": "brpZx33gCHUO"
      }
    },
    {
      "cell_type": "code",
      "source": [
        "!pip install findspark\n",
        "import findspark\n",
        "findspark.init()"
      ],
      "metadata": {
        "colab": {
          "base_uri": "https://localhost:8080/"
        },
        "id": "rN3WTBXxCEJo",
        "outputId": "33b68071-9857-47e6-bfbc-2e0a1596cb4d"
      },
      "execution_count": 162,
      "outputs": [
        {
          "output_type": "stream",
          "name": "stdout",
          "text": [
            "Requirement already satisfied: findspark in /usr/local/lib/python3.10/dist-packages (2.0.1)\n"
          ]
        }
      ]
    },
    {
      "cell_type": "code",
      "source": [
        "!pip install pyspark"
      ],
      "metadata": {
        "colab": {
          "base_uri": "https://localhost:8080/"
        },
        "id": "vY0JBd4XR7G7",
        "outputId": "0190ecbe-0628-43e0-930d-e025d6dced39"
      },
      "execution_count": 163,
      "outputs": [
        {
          "output_type": "stream",
          "name": "stdout",
          "text": [
            "Requirement already satisfied: pyspark in ./spark-3.5.3-bin-hadoop3/python (3.5.3)\n",
            "Requirement already satisfied: py4j==0.10.9.7 in /usr/local/lib/python3.10/dist-packages (from pyspark) (0.10.9.7)\n"
          ]
        }
      ]
    },
    {
      "cell_type": "markdown",
      "source": [
        "## Install Apache Sedona"
      ],
      "metadata": {
        "id": "98JmVD9KCOCk"
      }
    },
    {
      "cell_type": "code",
      "source": [
        "!pip install apache-sedona[spark]"
      ],
      "metadata": {
        "colab": {
          "base_uri": "https://localhost:8080/"
        },
        "id": "XGZ1R5N7CLSx",
        "outputId": "e9913fa5-87b5-4e88-fe07-9c1176205fe8"
      },
      "execution_count": 164,
      "outputs": [
        {
          "output_type": "stream",
          "name": "stdout",
          "text": [
            "Requirement already satisfied: apache-sedona[spark] in /usr/local/lib/python3.10/dist-packages (1.7.0)\n",
            "Requirement already satisfied: attrs in /usr/local/lib/python3.10/dist-packages (from apache-sedona[spark]) (24.2.0)\n",
            "Requirement already satisfied: shapely>=1.7.0 in /usr/local/lib/python3.10/dist-packages (from apache-sedona[spark]) (2.0.6)\n",
            "Requirement already satisfied: pyspark>=2.3.0 in ./spark-3.5.3-bin-hadoop3/python (from apache-sedona[spark]) (3.5.3)\n",
            "Requirement already satisfied: py4j==0.10.9.7 in /usr/local/lib/python3.10/dist-packages (from pyspark>=2.3.0->apache-sedona[spark]) (0.10.9.7)\n",
            "Requirement already satisfied: numpy<3,>=1.14 in /usr/local/lib/python3.10/dist-packages (from shapely>=1.7.0->apache-sedona[spark]) (1.26.4)\n"
          ]
        }
      ]
    },
    {
      "cell_type": "markdown",
      "source": [
        "## Start Sedona"
      ],
      "metadata": {
        "id": "0paVm2PbCWid"
      }
    },
    {
      "cell_type": "code",
      "source": [
        "from sedona.spark import *\n",
        "config = SedonaContext.builder(). \\\n",
        "    config('spark.jars.packages',\n",
        "           'org.apache.sedona:sedona-spark-3.0_2.12:1.6.1,'\n",
        "           'org.datasyslab:geotools-wrapper:1.6.1-28.2'). \\\n",
        "    config('spark.jars.repositories', 'https://artifacts.unidata.ucar.edu/repository/unidata-all'). \\\n",
        "    getOrCreate()\n",
        "sedona = SedonaContext.create(config)"
      ],
      "metadata": {
        "id": "6yPNdO_wCTB_"
      },
      "execution_count": 165,
      "outputs": []
    },
    {
      "cell_type": "markdown",
      "source": [
        "## Start Spark Session"
      ],
      "metadata": {
        "id": "yhRhPk_s0O3e"
      }
    },
    {
      "cell_type": "code",
      "source": [
        "# reference: https://spark.apache.org/docs/latest/sql-getting-started.html\n",
        "\n",
        "from pyspark.sql import SparkSession\n",
        "# Creating a SparkSession\n",
        "\n",
        "spark = SparkSession \\\n",
        "    .builder \\\n",
        "    .appName(\"Spark\") \\\n",
        "    .getOrCreate()"
      ],
      "metadata": {
        "id": "0W0KpykF0Qid"
      },
      "execution_count": 166,
      "outputs": []
    },
    {
      "cell_type": "markdown",
      "source": [
        "# Regular 3D Spatio-temporal Data Processing"
      ],
      "metadata": {
        "id": "g-lK2LCxDfOF"
      }
    },
    {
      "cell_type": "markdown",
      "source": [
        "Milestone I"
      ],
      "metadata": {
        "id": "tJ58pUG1QvtN"
      }
    },
    {
      "cell_type": "markdown",
      "source": [
        "## Read the input data"
      ],
      "metadata": {
        "id": "MowvCj7aQ7dZ"
      }
    },
    {
      "cell_type": "code",
      "source": [
        "import json\n",
        "import pandas as pd\n",
        "\n",
        "# Read the input data\n",
        "# We will be working with Twitter Dataset: https://drive.google.com/file/d/1wt2YNiimTe_7-ig9Vf73SJ6N2fLsDug3/view\n",
        "input_file = \"2017-07-22_09-02-53.txt\""
      ],
      "metadata": {
        "id": "SeHsYDZqGyH7"
      },
      "execution_count": 167,
      "outputs": []
    },
    {
      "cell_type": "code",
      "source": [
        "# Parse the spatio-temporal data from the text corpus\n",
        "spatio_temporal_data = []\n",
        "\n",
        "# Loop through corpus\n",
        "with open(input_file, 'r', encoding='utf-8') as f:\n",
        "  for line in f:\n",
        "    twitter = json.loads(line)\n",
        "\n",
        "    # Get twitter ID (identifier)\n",
        "    # id = twitter.get(\"id\")\n",
        "    # Choose str for interpretation purpose\n",
        "    id = twitter.get(\"id_str\")\n",
        "\n",
        "    # If applicable, get country name\n",
        "    place = twitter.get(\"place\")\n",
        "    if place is not None:\n",
        "      country = place.get(\"country\")\n",
        "    else:\n",
        "      country = None\n",
        "\n",
        "    # Get the bounding box, the box should consists of four coordinates\n",
        "    if place is not None:\n",
        "      bounding_box = place.get(\"bounding_box\")\n",
        "      if bounding_box is not None:\n",
        "        bounding_box_coordinates = bounding_box.get(\"coordinates\")[0]\n",
        "      else:\n",
        "        bounding_box_coordinates = None\n",
        "    else:\n",
        "      bounding_box_coordinates = None\n",
        "\n",
        "    # If applicable, get coordinates\n",
        "    geo = twitter.get(\"geo\")\n",
        "    if geo is not None:\n",
        "      coordinates = geo.get(\"coordinates\")\n",
        "      latitude = coordinates[0]\n",
        "      longitude = coordinates[1]\n",
        "    else:\n",
        "      # We will pick the middle of the bounding box as coordinate\n",
        "      if bounding_box_coordinates is not None:\n",
        "        # Somehow it is reversed\n",
        "        # Bounding box coordinates [longitude, latitude]\n",
        "        longitude = (bounding_box_coordinates[0][0] + bounding_box_coordinates[2][0]) / 2\n",
        "        latitude = (bounding_box_coordinates[0][1] + bounding_box_coordinates[1][1]) / 2\n",
        "      else:\n",
        "        latitude = None\n",
        "        longitude = None\n",
        "\n",
        "    # Get the timestamp\n",
        "    timestamp_ms = twitter.get(\"timestamp_ms\")\n",
        "\n",
        "    # Append all necessary information into the list\n",
        "    spatio_temporal_data.append({\n",
        "        \"twitter_id\": id,\n",
        "        \"latitude\": latitude,\n",
        "        \"longitude\": longitude,\n",
        "        \"country\": country,\n",
        "        \"bounding_box_coordinates\": bounding_box_coordinates,\n",
        "        # Was thinking changing to int, but it will be converted to string anyways\n",
        "        # When applying RDD, so we will keep it in the type of string\n",
        "        \"timestamp_ms\": timestamp_ms\n",
        "    })\n",
        "\n",
        "# Convert the data into Pandas Dataframe\n",
        "df = pd.DataFrame(spatio_temporal_data)"
      ],
      "metadata": {
        "id": "1eHJKukCHFga"
      },
      "execution_count": 168,
      "outputs": []
    },
    {
      "cell_type": "code",
      "source": [
        "# Create another column of type geometry: (latitude, longtitude)\n",
        "# reference: https://automating-gis-processes.github.io/CSC18/lessons/L1/Geometric-Objects.html\n",
        "from shapely.geometry import Point\n",
        "df[\"geometry\"] = df.apply(lambda x: Point(x[\"latitude\"], x[\"longitude\"]), axis=1)"
      ],
      "metadata": {
        "id": "337wNVBu7vMA"
      },
      "execution_count": 169,
      "outputs": []
    },
    {
      "cell_type": "code",
      "source": [
        "# Check the dataframe\n",
        "df.head()"
      ],
      "metadata": {
        "colab": {
          "base_uri": "https://localhost:8080/",
          "height": 0
        },
        "id": "1Bjpws9BIocr",
        "outputId": "cbecd19d-2a8d-4fcc-9d0a-9d78e0e2d81c"
      },
      "execution_count": 170,
      "outputs": [
        {
          "output_type": "execute_result",
          "data": {
            "text/plain": [
              "           twitter_id   latitude   longitude                     country  \\\n",
              "0  888685771020009472  53.456952   -2.233480              United Kingdom   \n",
              "1  888685771208613889  28.377247  129.493744                          日本   \n",
              "2  888685771602878465  10.496000  -66.898300                   Venezuela   \n",
              "3  888685767148544001  22.869936  113.419725  People's Republic of China   \n",
              "4  888685770881368069  35.701657  139.709181                          日本   \n",
              "\n",
              "                            bounding_box_coordinates   timestamp_ms  \\\n",
              "0  [[-2.319934, 53.343623], [-2.319934, 53.570282...  1500714173451   \n",
              "1  [[129.343186, 28.193773], [129.343186, 28.5307...  1500714173496   \n",
              "2  [[-66.998581, 10.440464], [-66.998581, 10.5266...  1500714173590   \n",
              "3  [[109.664659, 20.221264], [109.664659, 25.5186...  1500714172528   \n",
              "4  [[139.673228, 35.673404], [139.673228, 35.7299...  1500714173418   \n",
              "\n",
              "                                 geometry  \n",
              "0             POINT (53.4569525 -2.23348)  \n",
              "1            POINT (28.377247 129.493744)  \n",
              "2                 POINT (10.496 -66.8983)  \n",
              "3  POINT (22.869936000000003 113.4197245)  \n",
              "4           POINT (35.701657 139.7091805)  "
            ],
            "text/html": [
              "\n",
              "  <div id=\"df-f9313a7a-17bf-4484-a040-a67ede0cd6f7\" class=\"colab-df-container\">\n",
              "    <div>\n",
              "<style scoped>\n",
              "    .dataframe tbody tr th:only-of-type {\n",
              "        vertical-align: middle;\n",
              "    }\n",
              "\n",
              "    .dataframe tbody tr th {\n",
              "        vertical-align: top;\n",
              "    }\n",
              "\n",
              "    .dataframe thead th {\n",
              "        text-align: right;\n",
              "    }\n",
              "</style>\n",
              "<table border=\"1\" class=\"dataframe\">\n",
              "  <thead>\n",
              "    <tr style=\"text-align: right;\">\n",
              "      <th></th>\n",
              "      <th>twitter_id</th>\n",
              "      <th>latitude</th>\n",
              "      <th>longitude</th>\n",
              "      <th>country</th>\n",
              "      <th>bounding_box_coordinates</th>\n",
              "      <th>timestamp_ms</th>\n",
              "      <th>geometry</th>\n",
              "    </tr>\n",
              "  </thead>\n",
              "  <tbody>\n",
              "    <tr>\n",
              "      <th>0</th>\n",
              "      <td>888685771020009472</td>\n",
              "      <td>53.456952</td>\n",
              "      <td>-2.233480</td>\n",
              "      <td>United Kingdom</td>\n",
              "      <td>[[-2.319934, 53.343623], [-2.319934, 53.570282...</td>\n",
              "      <td>1500714173451</td>\n",
              "      <td>POINT (53.4569525 -2.23348)</td>\n",
              "    </tr>\n",
              "    <tr>\n",
              "      <th>1</th>\n",
              "      <td>888685771208613889</td>\n",
              "      <td>28.377247</td>\n",
              "      <td>129.493744</td>\n",
              "      <td>日本</td>\n",
              "      <td>[[129.343186, 28.193773], [129.343186, 28.5307...</td>\n",
              "      <td>1500714173496</td>\n",
              "      <td>POINT (28.377247 129.493744)</td>\n",
              "    </tr>\n",
              "    <tr>\n",
              "      <th>2</th>\n",
              "      <td>888685771602878465</td>\n",
              "      <td>10.496000</td>\n",
              "      <td>-66.898300</td>\n",
              "      <td>Venezuela</td>\n",
              "      <td>[[-66.998581, 10.440464], [-66.998581, 10.5266...</td>\n",
              "      <td>1500714173590</td>\n",
              "      <td>POINT (10.496 -66.8983)</td>\n",
              "    </tr>\n",
              "    <tr>\n",
              "      <th>3</th>\n",
              "      <td>888685767148544001</td>\n",
              "      <td>22.869936</td>\n",
              "      <td>113.419725</td>\n",
              "      <td>People's Republic of China</td>\n",
              "      <td>[[109.664659, 20.221264], [109.664659, 25.5186...</td>\n",
              "      <td>1500714172528</td>\n",
              "      <td>POINT (22.869936000000003 113.4197245)</td>\n",
              "    </tr>\n",
              "    <tr>\n",
              "      <th>4</th>\n",
              "      <td>888685770881368069</td>\n",
              "      <td>35.701657</td>\n",
              "      <td>139.709181</td>\n",
              "      <td>日本</td>\n",
              "      <td>[[139.673228, 35.673404], [139.673228, 35.7299...</td>\n",
              "      <td>1500714173418</td>\n",
              "      <td>POINT (35.701657 139.7091805)</td>\n",
              "    </tr>\n",
              "  </tbody>\n",
              "</table>\n",
              "</div>\n",
              "    <div class=\"colab-df-buttons\">\n",
              "\n",
              "  <div class=\"colab-df-container\">\n",
              "    <button class=\"colab-df-convert\" onclick=\"convertToInteractive('df-f9313a7a-17bf-4484-a040-a67ede0cd6f7')\"\n",
              "            title=\"Convert this dataframe to an interactive table.\"\n",
              "            style=\"display:none;\">\n",
              "\n",
              "  <svg xmlns=\"http://www.w3.org/2000/svg\" height=\"24px\" viewBox=\"0 -960 960 960\">\n",
              "    <path d=\"M120-120v-720h720v720H120Zm60-500h600v-160H180v160Zm220 220h160v-160H400v160Zm0 220h160v-160H400v160ZM180-400h160v-160H180v160Zm440 0h160v-160H620v160ZM180-180h160v-160H180v160Zm440 0h160v-160H620v160Z\"/>\n",
              "  </svg>\n",
              "    </button>\n",
              "\n",
              "  <style>\n",
              "    .colab-df-container {\n",
              "      display:flex;\n",
              "      gap: 12px;\n",
              "    }\n",
              "\n",
              "    .colab-df-convert {\n",
              "      background-color: #E8F0FE;\n",
              "      border: none;\n",
              "      border-radius: 50%;\n",
              "      cursor: pointer;\n",
              "      display: none;\n",
              "      fill: #1967D2;\n",
              "      height: 32px;\n",
              "      padding: 0 0 0 0;\n",
              "      width: 32px;\n",
              "    }\n",
              "\n",
              "    .colab-df-convert:hover {\n",
              "      background-color: #E2EBFA;\n",
              "      box-shadow: 0px 1px 2px rgba(60, 64, 67, 0.3), 0px 1px 3px 1px rgba(60, 64, 67, 0.15);\n",
              "      fill: #174EA6;\n",
              "    }\n",
              "\n",
              "    .colab-df-buttons div {\n",
              "      margin-bottom: 4px;\n",
              "    }\n",
              "\n",
              "    [theme=dark] .colab-df-convert {\n",
              "      background-color: #3B4455;\n",
              "      fill: #D2E3FC;\n",
              "    }\n",
              "\n",
              "    [theme=dark] .colab-df-convert:hover {\n",
              "      background-color: #434B5C;\n",
              "      box-shadow: 0px 1px 3px 1px rgba(0, 0, 0, 0.15);\n",
              "      filter: drop-shadow(0px 1px 2px rgba(0, 0, 0, 0.3));\n",
              "      fill: #FFFFFF;\n",
              "    }\n",
              "  </style>\n",
              "\n",
              "    <script>\n",
              "      const buttonEl =\n",
              "        document.querySelector('#df-f9313a7a-17bf-4484-a040-a67ede0cd6f7 button.colab-df-convert');\n",
              "      buttonEl.style.display =\n",
              "        google.colab.kernel.accessAllowed ? 'block' : 'none';\n",
              "\n",
              "      async function convertToInteractive(key) {\n",
              "        const element = document.querySelector('#df-f9313a7a-17bf-4484-a040-a67ede0cd6f7');\n",
              "        const dataTable =\n",
              "          await google.colab.kernel.invokeFunction('convertToInteractive',\n",
              "                                                    [key], {});\n",
              "        if (!dataTable) return;\n",
              "\n",
              "        const docLinkHtml = 'Like what you see? Visit the ' +\n",
              "          '<a target=\"_blank\" href=https://colab.research.google.com/notebooks/data_table.ipynb>data table notebook</a>'\n",
              "          + ' to learn more about interactive tables.';\n",
              "        element.innerHTML = '';\n",
              "        dataTable['output_type'] = 'display_data';\n",
              "        await google.colab.output.renderOutput(dataTable, element);\n",
              "        const docLink = document.createElement('div');\n",
              "        docLink.innerHTML = docLinkHtml;\n",
              "        element.appendChild(docLink);\n",
              "      }\n",
              "    </script>\n",
              "  </div>\n",
              "\n",
              "\n",
              "<div id=\"df-7d7a93c4-4fd2-4f93-a434-4b04ea6284ec\">\n",
              "  <button class=\"colab-df-quickchart\" onclick=\"quickchart('df-7d7a93c4-4fd2-4f93-a434-4b04ea6284ec')\"\n",
              "            title=\"Suggest charts\"\n",
              "            style=\"display:none;\">\n",
              "\n",
              "<svg xmlns=\"http://www.w3.org/2000/svg\" height=\"24px\"viewBox=\"0 0 24 24\"\n",
              "     width=\"24px\">\n",
              "    <g>\n",
              "        <path d=\"M19 3H5c-1.1 0-2 .9-2 2v14c0 1.1.9 2 2 2h14c1.1 0 2-.9 2-2V5c0-1.1-.9-2-2-2zM9 17H7v-7h2v7zm4 0h-2V7h2v10zm4 0h-2v-4h2v4z\"/>\n",
              "    </g>\n",
              "</svg>\n",
              "  </button>\n",
              "\n",
              "<style>\n",
              "  .colab-df-quickchart {\n",
              "      --bg-color: #E8F0FE;\n",
              "      --fill-color: #1967D2;\n",
              "      --hover-bg-color: #E2EBFA;\n",
              "      --hover-fill-color: #174EA6;\n",
              "      --disabled-fill-color: #AAA;\n",
              "      --disabled-bg-color: #DDD;\n",
              "  }\n",
              "\n",
              "  [theme=dark] .colab-df-quickchart {\n",
              "      --bg-color: #3B4455;\n",
              "      --fill-color: #D2E3FC;\n",
              "      --hover-bg-color: #434B5C;\n",
              "      --hover-fill-color: #FFFFFF;\n",
              "      --disabled-bg-color: #3B4455;\n",
              "      --disabled-fill-color: #666;\n",
              "  }\n",
              "\n",
              "  .colab-df-quickchart {\n",
              "    background-color: var(--bg-color);\n",
              "    border: none;\n",
              "    border-radius: 50%;\n",
              "    cursor: pointer;\n",
              "    display: none;\n",
              "    fill: var(--fill-color);\n",
              "    height: 32px;\n",
              "    padding: 0;\n",
              "    width: 32px;\n",
              "  }\n",
              "\n",
              "  .colab-df-quickchart:hover {\n",
              "    background-color: var(--hover-bg-color);\n",
              "    box-shadow: 0 1px 2px rgba(60, 64, 67, 0.3), 0 1px 3px 1px rgba(60, 64, 67, 0.15);\n",
              "    fill: var(--button-hover-fill-color);\n",
              "  }\n",
              "\n",
              "  .colab-df-quickchart-complete:disabled,\n",
              "  .colab-df-quickchart-complete:disabled:hover {\n",
              "    background-color: var(--disabled-bg-color);\n",
              "    fill: var(--disabled-fill-color);\n",
              "    box-shadow: none;\n",
              "  }\n",
              "\n",
              "  .colab-df-spinner {\n",
              "    border: 2px solid var(--fill-color);\n",
              "    border-color: transparent;\n",
              "    border-bottom-color: var(--fill-color);\n",
              "    animation:\n",
              "      spin 1s steps(1) infinite;\n",
              "  }\n",
              "\n",
              "  @keyframes spin {\n",
              "    0% {\n",
              "      border-color: transparent;\n",
              "      border-bottom-color: var(--fill-color);\n",
              "      border-left-color: var(--fill-color);\n",
              "    }\n",
              "    20% {\n",
              "      border-color: transparent;\n",
              "      border-left-color: var(--fill-color);\n",
              "      border-top-color: var(--fill-color);\n",
              "    }\n",
              "    30% {\n",
              "      border-color: transparent;\n",
              "      border-left-color: var(--fill-color);\n",
              "      border-top-color: var(--fill-color);\n",
              "      border-right-color: var(--fill-color);\n",
              "    }\n",
              "    40% {\n",
              "      border-color: transparent;\n",
              "      border-right-color: var(--fill-color);\n",
              "      border-top-color: var(--fill-color);\n",
              "    }\n",
              "    60% {\n",
              "      border-color: transparent;\n",
              "      border-right-color: var(--fill-color);\n",
              "    }\n",
              "    80% {\n",
              "      border-color: transparent;\n",
              "      border-right-color: var(--fill-color);\n",
              "      border-bottom-color: var(--fill-color);\n",
              "    }\n",
              "    90% {\n",
              "      border-color: transparent;\n",
              "      border-bottom-color: var(--fill-color);\n",
              "    }\n",
              "  }\n",
              "</style>\n",
              "\n",
              "  <script>\n",
              "    async function quickchart(key) {\n",
              "      const quickchartButtonEl =\n",
              "        document.querySelector('#' + key + ' button');\n",
              "      quickchartButtonEl.disabled = true;  // To prevent multiple clicks.\n",
              "      quickchartButtonEl.classList.add('colab-df-spinner');\n",
              "      try {\n",
              "        const charts = await google.colab.kernel.invokeFunction(\n",
              "            'suggestCharts', [key], {});\n",
              "      } catch (error) {\n",
              "        console.error('Error during call to suggestCharts:', error);\n",
              "      }\n",
              "      quickchartButtonEl.classList.remove('colab-df-spinner');\n",
              "      quickchartButtonEl.classList.add('colab-df-quickchart-complete');\n",
              "    }\n",
              "    (() => {\n",
              "      let quickchartButtonEl =\n",
              "        document.querySelector('#df-7d7a93c4-4fd2-4f93-a434-4b04ea6284ec button');\n",
              "      quickchartButtonEl.style.display =\n",
              "        google.colab.kernel.accessAllowed ? 'block' : 'none';\n",
              "    })();\n",
              "  </script>\n",
              "</div>\n",
              "\n",
              "    </div>\n",
              "  </div>\n"
            ],
            "application/vnd.google.colaboratory.intrinsic+json": {
              "type": "dataframe",
              "variable_name": "df",
              "summary": "{\n  \"name\": \"df\",\n  \"rows\": 100000,\n  \"fields\": [\n    {\n      \"column\": \"twitter_id\",\n      \"properties\": {\n        \"dtype\": \"string\",\n        \"num_unique_values\": 98314,\n        \"samples\": [\n          \"888693397178941440\",\n          \"888686361099849728\",\n          \"888695126939361281\"\n        ],\n        \"semantic_type\": \"\",\n        \"description\": \"\"\n      }\n    },\n    {\n      \"column\": \"latitude\",\n      \"properties\": {\n        \"dtype\": \"number\",\n        \"std\": 24.278920765180565,\n        \"min\": -89.43579825,\n        \"max\": 78.62645647,\n        \"num_unique_values\": 28179,\n        \"samples\": [\n          -28.762956,\n          -32.25103,\n          39.216885500000004\n        ],\n        \"semantic_type\": \"\",\n        \"description\": \"\"\n      }\n    },\n    {\n      \"column\": \"longitude\",\n      \"properties\": {\n        \"dtype\": \"number\",\n        \"std\": 78.91005176994298,\n        \"min\": -178.72606449,\n        \"max\": 178.45017672,\n        \"num_unique_values\": 28210,\n        \"samples\": [\n          132.76184775,\n          29.05390263,\n          131.0645745\n        ],\n        \"semantic_type\": \"\",\n        \"description\": \"\"\n      }\n    },\n    {\n      \"column\": \"country\",\n      \"properties\": {\n        \"dtype\": \"category\",\n        \"num_unique_values\": 444,\n        \"samples\": [\n          \"Germania\",\n          \"\\uc77c\\ubcf8\",\n          \"\\u0411\\u0435\\u043b\\u0430\\u0440\\u0443\\u0441\\u044c\"\n        ],\n        \"semantic_type\": \"\",\n        \"description\": \"\"\n      }\n    },\n    {\n      \"column\": \"bounding_box_coordinates\",\n      \"properties\": {\n        \"dtype\": \"object\",\n        \"semantic_type\": \"\",\n        \"description\": \"\"\n      }\n    },\n    {\n      \"column\": \"timestamp_ms\",\n      \"properties\": {\n        \"dtype\": \"string\",\n        \"num_unique_values\": 96528,\n        \"samples\": [\n          \"1500714660201\",\n          \"1500714641520\",\n          \"1500716491402\"\n        ],\n        \"semantic_type\": \"\",\n        \"description\": \"\"\n      }\n    },\n    {\n      \"column\": \"geometry\",\n      \"properties\": {\n        \"dtype\": \"category\",\n        \"num_unique_values\": 28336,\n        \"samples\": [\n          \"POINT (49.888383000000005 2.507187)\",\n          \"POINT (35.63869992 139.74003196)\",\n          \"POINT (35.715131 139.815545)\"\n        ],\n        \"semantic_type\": \"\",\n        \"description\": \"\"\n      }\n    }\n  ]\n}"
            }
          },
          "metadata": {},
          "execution_count": 170
        }
      ]
    },
    {
      "cell_type": "markdown",
      "source": [
        "## Partition and Index the data"
      ],
      "metadata": {
        "id": "hso0RS8uQ-Zm"
      }
    },
    {
      "cell_type": "markdown",
      "source": [
        "reference: https://sedona.apache.org/1.6.1/tutorial/rdd/ \\\n",
        "https://sedona.apache.org/1.0.0-1.2.0-incubating/tutorial/core-python/ \\\n",
        "https://sparkbyexamples.com/spark/spark-read-options/"
      ],
      "metadata": {
        "id": "ugjZ6-xyFyaJ"
      }
    },
    {
      "cell_type": "code",
      "source": [
        "# Convert pandas DataFrame to spark DataFrame\n",
        "spark_df = spark.createDataFrame(df)"
      ],
      "metadata": {
        "id": "rF8Gjcv_RgS4"
      },
      "execution_count": 171,
      "outputs": []
    },
    {
      "cell_type": "code",
      "source": [
        "# Check Spark DataFrame\n",
        "spark_df.show()"
      ],
      "metadata": {
        "colab": {
          "base_uri": "https://localhost:8080/"
        },
        "id": "2JjyAIb8S8XE",
        "outputId": "b356e350-7024-419e-d9c8-fc0b02427faa"
      },
      "execution_count": 172,
      "outputs": [
        {
          "output_type": "stream",
          "name": "stdout",
          "text": [
            "+------------------+------------------+-------------------+--------------------+------------------------+-------------+--------------------+\n",
            "|        twitter_id|          latitude|          longitude|             country|bounding_box_coordinates| timestamp_ms|            geometry|\n",
            "+------------------+------------------+-------------------+--------------------+------------------------+-------------+--------------------+\n",
            "|888685771020009472|        53.4569525|           -2.23348|      United Kingdom|    [[-2.319934, 53.3...|1500714173451|POINT (53.4569525...|\n",
            "|888685771208613889|         28.377247|         129.493744|                日本|    [[129.343186, 28....|1500714173496|POINT (28.377247 ...|\n",
            "|888685771602878465|            10.496|           -66.8983|           Venezuela|    [[-66.998581, 10....|1500714173590|POINT (10.496 -66...|\n",
            "|888685767148544001|22.869936000000003|        113.4197245|People's Republic...|    [[109.664659, 20....|1500714172528|POINT (22.8699360...|\n",
            "|888685770881368069|         35.701657|        139.7091805|                日本|    [[139.673228, 35....|1500714173418|POINT (35.701657 ...|\n",
            "|888685769400791041|          35.67375|         139.716598|                日本|    [[139.716598, 35....|1500714173065|POINT (35.67375 1...|\n",
            "|888685771745636353|18.817911000000002|          76.771244|               India|    [[72.64293, 15.60...|1500714173624|POINT (18.8179110...|\n",
            "|888685771863068673|         46.226715| 2.2091190000000003|              France|    [[-5.141593, 41.3...|1500714173652|POINT (46.226715 ...|\n",
            "|888685772219576320|         38.236216|-0.6463220000000001|              España|    [[-0.782491, 38.1...|1500714173737|POINT (38.236216 ...|\n",
            "|888685771846189056|         15.552757|          48.174765|               Yemen|    [[41.815344, 12.1...|1500714173648|POINT (15.552757 ...|\n",
            "|888685772227915777|        38.9566025|           35.24322|             Türkiye|    [[25.668509, 35.8...|1500714173739|POINT (38.9566025...|\n",
            "|888685772575883264|        14.4480255| 120.90750299999999|Republic of the P...|    [[120.883855, 14....|1500714173822|POINT (14.4480255...|\n",
            "|888685772701814784|         28.377247|         129.493744|                日本|    [[129.343186, 28....|1500714173852|POINT (28.377247 ...|\n",
            "|888685772441780224|51.457876999999996|-2.5853900000000003|      United Kingdom|    [[-2.659936, 51.3...|1500714173790|POINT (51.4578769...|\n",
            "|              NULL|               NaN|                NaN|                NULL|                    NULL|         NULL|         POINT EMPTY|\n",
            "|888685772659871744|      -34.85916667|       149.69333333|           Australia|    [[149.606253, -34...|1500714173842|POINT (-34.859166...|\n",
            "|888685772680941568|        53.4368015|         -2.5511835|      United Kingdom|    [[-2.559912, 53.4...|1500714173847|POINT (53.4368015...|\n",
            "|888685772366376960|          37.32551|         -121.94462|       United States|    [[-122.035311, 37...|1500714173772|POINT (37.32551 -...|\n",
            "|888685772961849344|31.279915000000003| 121.41581099999999|      中华人民共和国|    [[120.858322, 30....|1500714173914|POINT (31.2799150...|\n",
            "|888685773121138689|         34.133783|         -118.03082|       United States|    [[-118.06946, 34....|1500714173952|POINT (34.133783 ...|\n",
            "+------------------+------------------+-------------------+--------------------+------------------------+-------------+--------------------+\n",
            "only showing top 20 rows\n",
            "\n"
          ]
        }
      ]
    },
    {
      "cell_type": "code",
      "source": [
        "# Create a temporary SQL view from Spark Dataframe\n",
        "spark_df.createOrReplaceTempView(\"twitter\")"
      ],
      "metadata": {
        "id": "yxQ6WxUMS3JP"
      },
      "execution_count": 173,
      "outputs": []
    },
    {
      "cell_type": "code",
      "source": [
        "# Create SedonaSQL DataFrame\n",
        "# We will only take Spatio-temporal data and an identifier for each data point\n",
        "spatial_df = spark.sql(\n",
        "    \"\"\"\n",
        "        SELECT twitter_id, geometry, timestamp_ms\n",
        "        FROM twitter\n",
        "    \"\"\"\n",
        ")\n",
        "spatial_df.printSchema()"
      ],
      "metadata": {
        "colab": {
          "base_uri": "https://localhost:8080/"
        },
        "id": "RdWwGWzGUSR5",
        "outputId": "40af7ad3-8d47-4b06-e282-74d90ae97c3c"
      },
      "execution_count": 174,
      "outputs": [
        {
          "output_type": "stream",
          "name": "stdout",
          "text": [
            "root\n",
            " |-- twitter_id: string (nullable = true)\n",
            " |-- geometry: geometry (nullable = true)\n",
            " |-- timestamp_ms: string (nullable = true)\n",
            "\n"
          ]
        }
      ]
    },
    {
      "cell_type": "code",
      "source": [
        "# We will use SedonaSQL DataFrame-RDD Adapter to convert a DataFrame to an SpatialRDD\n",
        "# SpatialRDD carry non-spatial attributes, twitter_id and timestamp_ms are in the UserData, separated by \"\\t\"\n",
        "from sedona.utils.adapter import Adapter\n",
        "spatial_rdd = Adapter.toSpatialRdd(spatial_df, \"geometry\")\n",
        "spatial_rdd.analyze()\n",
        "\n",
        "# spatial_rdd.boundaryEnvelope"
      ],
      "metadata": {
        "id": "jwQNgbZ3T_pQ",
        "colab": {
          "base_uri": "https://localhost:8080/"
        },
        "outputId": "ae41969b-a2d3-48fa-dccb-7e5d99878e6d"
      },
      "execution_count": 175,
      "outputs": [
        {
          "output_type": "execute_result",
          "data": {
            "text/plain": [
              "True"
            ]
          },
          "metadata": {},
          "execution_count": 175
        }
      ]
    },
    {
      "cell_type": "code",
      "source": [
        "# We can check our UserData() field here\n",
        "spatial_rdd.rawSpatialRDD.map(lambda x: x.getUserData()).take(1)"
      ],
      "metadata": {
        "colab": {
          "base_uri": "https://localhost:8080/"
        },
        "id": "1Tjf7_9-PW7J",
        "outputId": "f2a6bdc2-382d-4df3-97c2-43917fc327c8"
      },
      "execution_count": 176,
      "outputs": [
        {
          "output_type": "execute_result",
          "data": {
            "text/plain": [
              "['888685771020009472\\t1500714173451']"
            ]
          },
          "metadata": {},
          "execution_count": 176
        }
      ]
    },
    {
      "cell_type": "code",
      "source": [
        "# Use spatialPartitioning function to partition the data across the nodes\n",
        "# GridType does not have RTREE, we use default KDBTREE\n",
        "from sedona.core.enums import GridType\n",
        "spatial_rdd.spatialPartitioning(GridType.KDBTREE)\n",
        "# Check if partition is successful\n",
        "print(spatial_rdd.getPartitioner())"
      ],
      "metadata": {
        "colab": {
          "base_uri": "https://localhost:8080/"
        },
        "id": "parA4JBk4cJW",
        "outputId": "8a2f63b1-e3c3-4781-dc1b-761cdccf39e0"
      },
      "execution_count": 177,
      "outputs": [
        {
          "output_type": "stream",
          "name": "stdout",
          "text": [
            "SpatialPartitioner(name='KDBTreePartitioner', jvm_partitioner=JavaObject id=o313)\n"
          ]
        }
      ]
    },
    {
      "cell_type": "code",
      "source": [
        "# Build an R-Tree index on each data partition\n",
        "# RDD will be indexed based on spatial coordinates\n",
        "from sedona.core.enums import IndexType\n",
        "# According to Laila, we don't need to run join query\n",
        "build_on_spatial_partitioned_rdd = False ## Set to TRUE only if run join query\n",
        "spatial_rdd.buildIndex(IndexType.RTREE, build_on_spatial_partitioned_rdd)"
      ],
      "metadata": {
        "id": "7pg6-FksVtCN"
      },
      "execution_count": 178,
      "outputs": []
    },
    {
      "cell_type": "markdown",
      "source": [
        "## Run Range query with time filter on the data"
      ],
      "metadata": {
        "id": "X1U3fRQ0RDEf"
      }
    },
    {
      "cell_type": "markdown",
      "source": [
        "reference: https://sedona.apache.org/1.0.0-1.2.0-incubating/tutorial/core-python/"
      ],
      "metadata": {
        "id": "2jfrLOJbWFGe"
      }
    },
    {
      "cell_type": "code",
      "source": [
        "# We will first run query to find a spatial region\n",
        "# Defined by bounding rectangle (Envelope here)\n",
        "from sedona.core.spatialOperator import RangeQuery\n",
        "from sedona.core.geom.envelope import Envelope\n",
        "import timeit\n",
        "\n",
        "# Envelope (x_min, x_max, y_min, y_max)\n",
        "# We will try cover China\n",
        "# Reference: https://gist.github.com/graydon/11198540\n",
        "range_query_window = Envelope(18.198, 53.459, 73.675, 135.026)\n",
        "# Only return gemeotries fully covered by the window\n",
        "consider_boundary_intersection = False\n",
        "using_index = True\n",
        "\n",
        "spatio_start = timeit.default_timer()\n",
        "query_result = RangeQuery.SpatialRangeQuery(\n",
        "    spatial_rdd,\n",
        "    range_query_window,\n",
        "    consider_boundary_intersection,\n",
        "    using_index\n",
        ")\n",
        "spatio_end = timeit.default_timer()\n",
        "# Get query time for querying through spatio data\n",
        "spatio_time = spatio_end - spatio_start"
      ],
      "metadata": {
        "id": "JbaLlDx5RESJ"
      },
      "execution_count": 179,
      "outputs": []
    },
    {
      "cell_type": "code",
      "source": [
        "# Transforme query result to GeoPandas GeoDataFrame for better interpretation\n",
        "import geopandas as gpd\n",
        "geo_df = gpd.GeoDataFrame(\n",
        "    # We will split the userData back to twitter_id and timestamp_ms\n",
        "    # And here, we will change timestamp_ms's type to int\n",
        "    query_result.map(lambda x: [x.userData.split(\"\\t\")[0], x.geom, int(x.userData.split(\"\\t\")[1])]).collect(),\n",
        "    columns=[\"twitter_id\", \"geometry\", \"timestamp_ms\"],\n",
        "    geometry=\"geometry\"\n",
        ")"
      ],
      "metadata": {
        "id": "CCrhVCP1CBJM"
      },
      "execution_count": 180,
      "outputs": []
    },
    {
      "cell_type": "code",
      "source": [
        "geo_df.head()"
      ],
      "metadata": {
        "colab": {
          "base_uri": "https://localhost:8080/",
          "height": 0
        },
        "id": "cjmXd2F3UBZq",
        "outputId": "b377f6b2-1141-4551-cdb5-8be98f8b9fc4"
      },
      "execution_count": 181,
      "outputs": [
        {
          "output_type": "execute_result",
          "data": {
            "text/plain": [
              "           twitter_id                geometry   timestamp_ms\n",
              "0  888685888955457536   POINT (34.282 74.465)  1500714201569\n",
              "1  888689577564786688   POINT (34.585 77.471)  1500715081002\n",
              "2  888688490145304576   POINT (34.278 77.604)  1500714821741\n",
              "3  888690796622381057   POINT (34.278 77.604)  1500715371648\n",
              "4  888685927278792704  POINT (35.666 134.539)  1500714210706"
            ],
            "text/html": [
              "\n",
              "  <div id=\"df-7d8ba733-e25d-435b-ac30-de75b2ae8901\" class=\"colab-df-container\">\n",
              "    <div>\n",
              "<style scoped>\n",
              "    .dataframe tbody tr th:only-of-type {\n",
              "        vertical-align: middle;\n",
              "    }\n",
              "\n",
              "    .dataframe tbody tr th {\n",
              "        vertical-align: top;\n",
              "    }\n",
              "\n",
              "    .dataframe thead th {\n",
              "        text-align: right;\n",
              "    }\n",
              "</style>\n",
              "<table border=\"1\" class=\"dataframe\">\n",
              "  <thead>\n",
              "    <tr style=\"text-align: right;\">\n",
              "      <th></th>\n",
              "      <th>twitter_id</th>\n",
              "      <th>geometry</th>\n",
              "      <th>timestamp_ms</th>\n",
              "    </tr>\n",
              "  </thead>\n",
              "  <tbody>\n",
              "    <tr>\n",
              "      <th>0</th>\n",
              "      <td>888685888955457536</td>\n",
              "      <td>POINT (34.282 74.465)</td>\n",
              "      <td>1500714201569</td>\n",
              "    </tr>\n",
              "    <tr>\n",
              "      <th>1</th>\n",
              "      <td>888689577564786688</td>\n",
              "      <td>POINT (34.585 77.471)</td>\n",
              "      <td>1500715081002</td>\n",
              "    </tr>\n",
              "    <tr>\n",
              "      <th>2</th>\n",
              "      <td>888688490145304576</td>\n",
              "      <td>POINT (34.278 77.604)</td>\n",
              "      <td>1500714821741</td>\n",
              "    </tr>\n",
              "    <tr>\n",
              "      <th>3</th>\n",
              "      <td>888690796622381057</td>\n",
              "      <td>POINT (34.278 77.604)</td>\n",
              "      <td>1500715371648</td>\n",
              "    </tr>\n",
              "    <tr>\n",
              "      <th>4</th>\n",
              "      <td>888685927278792704</td>\n",
              "      <td>POINT (35.666 134.539)</td>\n",
              "      <td>1500714210706</td>\n",
              "    </tr>\n",
              "  </tbody>\n",
              "</table>\n",
              "</div>\n",
              "    <div class=\"colab-df-buttons\">\n",
              "\n",
              "  <div class=\"colab-df-container\">\n",
              "    <button class=\"colab-df-convert\" onclick=\"convertToInteractive('df-7d8ba733-e25d-435b-ac30-de75b2ae8901')\"\n",
              "            title=\"Convert this dataframe to an interactive table.\"\n",
              "            style=\"display:none;\">\n",
              "\n",
              "  <svg xmlns=\"http://www.w3.org/2000/svg\" height=\"24px\" viewBox=\"0 -960 960 960\">\n",
              "    <path d=\"M120-120v-720h720v720H120Zm60-500h600v-160H180v160Zm220 220h160v-160H400v160Zm0 220h160v-160H400v160ZM180-400h160v-160H180v160Zm440 0h160v-160H620v160ZM180-180h160v-160H180v160Zm440 0h160v-160H620v160Z\"/>\n",
              "  </svg>\n",
              "    </button>\n",
              "\n",
              "  <style>\n",
              "    .colab-df-container {\n",
              "      display:flex;\n",
              "      gap: 12px;\n",
              "    }\n",
              "\n",
              "    .colab-df-convert {\n",
              "      background-color: #E8F0FE;\n",
              "      border: none;\n",
              "      border-radius: 50%;\n",
              "      cursor: pointer;\n",
              "      display: none;\n",
              "      fill: #1967D2;\n",
              "      height: 32px;\n",
              "      padding: 0 0 0 0;\n",
              "      width: 32px;\n",
              "    }\n",
              "\n",
              "    .colab-df-convert:hover {\n",
              "      background-color: #E2EBFA;\n",
              "      box-shadow: 0px 1px 2px rgba(60, 64, 67, 0.3), 0px 1px 3px 1px rgba(60, 64, 67, 0.15);\n",
              "      fill: #174EA6;\n",
              "    }\n",
              "\n",
              "    .colab-df-buttons div {\n",
              "      margin-bottom: 4px;\n",
              "    }\n",
              "\n",
              "    [theme=dark] .colab-df-convert {\n",
              "      background-color: #3B4455;\n",
              "      fill: #D2E3FC;\n",
              "    }\n",
              "\n",
              "    [theme=dark] .colab-df-convert:hover {\n",
              "      background-color: #434B5C;\n",
              "      box-shadow: 0px 1px 3px 1px rgba(0, 0, 0, 0.15);\n",
              "      filter: drop-shadow(0px 1px 2px rgba(0, 0, 0, 0.3));\n",
              "      fill: #FFFFFF;\n",
              "    }\n",
              "  </style>\n",
              "\n",
              "    <script>\n",
              "      const buttonEl =\n",
              "        document.querySelector('#df-7d8ba733-e25d-435b-ac30-de75b2ae8901 button.colab-df-convert');\n",
              "      buttonEl.style.display =\n",
              "        google.colab.kernel.accessAllowed ? 'block' : 'none';\n",
              "\n",
              "      async function convertToInteractive(key) {\n",
              "        const element = document.querySelector('#df-7d8ba733-e25d-435b-ac30-de75b2ae8901');\n",
              "        const dataTable =\n",
              "          await google.colab.kernel.invokeFunction('convertToInteractive',\n",
              "                                                    [key], {});\n",
              "        if (!dataTable) return;\n",
              "\n",
              "        const docLinkHtml = 'Like what you see? Visit the ' +\n",
              "          '<a target=\"_blank\" href=https://colab.research.google.com/notebooks/data_table.ipynb>data table notebook</a>'\n",
              "          + ' to learn more about interactive tables.';\n",
              "        element.innerHTML = '';\n",
              "        dataTable['output_type'] = 'display_data';\n",
              "        await google.colab.output.renderOutput(dataTable, element);\n",
              "        const docLink = document.createElement('div');\n",
              "        docLink.innerHTML = docLinkHtml;\n",
              "        element.appendChild(docLink);\n",
              "      }\n",
              "    </script>\n",
              "  </div>\n",
              "\n",
              "\n",
              "<div id=\"df-738a446b-42f9-487e-910b-3034bb602f00\">\n",
              "  <button class=\"colab-df-quickchart\" onclick=\"quickchart('df-738a446b-42f9-487e-910b-3034bb602f00')\"\n",
              "            title=\"Suggest charts\"\n",
              "            style=\"display:none;\">\n",
              "\n",
              "<svg xmlns=\"http://www.w3.org/2000/svg\" height=\"24px\"viewBox=\"0 0 24 24\"\n",
              "     width=\"24px\">\n",
              "    <g>\n",
              "        <path d=\"M19 3H5c-1.1 0-2 .9-2 2v14c0 1.1.9 2 2 2h14c1.1 0 2-.9 2-2V5c0-1.1-.9-2-2-2zM9 17H7v-7h2v7zm4 0h-2V7h2v10zm4 0h-2v-4h2v4z\"/>\n",
              "    </g>\n",
              "</svg>\n",
              "  </button>\n",
              "\n",
              "<style>\n",
              "  .colab-df-quickchart {\n",
              "      --bg-color: #E8F0FE;\n",
              "      --fill-color: #1967D2;\n",
              "      --hover-bg-color: #E2EBFA;\n",
              "      --hover-fill-color: #174EA6;\n",
              "      --disabled-fill-color: #AAA;\n",
              "      --disabled-bg-color: #DDD;\n",
              "  }\n",
              "\n",
              "  [theme=dark] .colab-df-quickchart {\n",
              "      --bg-color: #3B4455;\n",
              "      --fill-color: #D2E3FC;\n",
              "      --hover-bg-color: #434B5C;\n",
              "      --hover-fill-color: #FFFFFF;\n",
              "      --disabled-bg-color: #3B4455;\n",
              "      --disabled-fill-color: #666;\n",
              "  }\n",
              "\n",
              "  .colab-df-quickchart {\n",
              "    background-color: var(--bg-color);\n",
              "    border: none;\n",
              "    border-radius: 50%;\n",
              "    cursor: pointer;\n",
              "    display: none;\n",
              "    fill: var(--fill-color);\n",
              "    height: 32px;\n",
              "    padding: 0;\n",
              "    width: 32px;\n",
              "  }\n",
              "\n",
              "  .colab-df-quickchart:hover {\n",
              "    background-color: var(--hover-bg-color);\n",
              "    box-shadow: 0 1px 2px rgba(60, 64, 67, 0.3), 0 1px 3px 1px rgba(60, 64, 67, 0.15);\n",
              "    fill: var(--button-hover-fill-color);\n",
              "  }\n",
              "\n",
              "  .colab-df-quickchart-complete:disabled,\n",
              "  .colab-df-quickchart-complete:disabled:hover {\n",
              "    background-color: var(--disabled-bg-color);\n",
              "    fill: var(--disabled-fill-color);\n",
              "    box-shadow: none;\n",
              "  }\n",
              "\n",
              "  .colab-df-spinner {\n",
              "    border: 2px solid var(--fill-color);\n",
              "    border-color: transparent;\n",
              "    border-bottom-color: var(--fill-color);\n",
              "    animation:\n",
              "      spin 1s steps(1) infinite;\n",
              "  }\n",
              "\n",
              "  @keyframes spin {\n",
              "    0% {\n",
              "      border-color: transparent;\n",
              "      border-bottom-color: var(--fill-color);\n",
              "      border-left-color: var(--fill-color);\n",
              "    }\n",
              "    20% {\n",
              "      border-color: transparent;\n",
              "      border-left-color: var(--fill-color);\n",
              "      border-top-color: var(--fill-color);\n",
              "    }\n",
              "    30% {\n",
              "      border-color: transparent;\n",
              "      border-left-color: var(--fill-color);\n",
              "      border-top-color: var(--fill-color);\n",
              "      border-right-color: var(--fill-color);\n",
              "    }\n",
              "    40% {\n",
              "      border-color: transparent;\n",
              "      border-right-color: var(--fill-color);\n",
              "      border-top-color: var(--fill-color);\n",
              "    }\n",
              "    60% {\n",
              "      border-color: transparent;\n",
              "      border-right-color: var(--fill-color);\n",
              "    }\n",
              "    80% {\n",
              "      border-color: transparent;\n",
              "      border-right-color: var(--fill-color);\n",
              "      border-bottom-color: var(--fill-color);\n",
              "    }\n",
              "    90% {\n",
              "      border-color: transparent;\n",
              "      border-bottom-color: var(--fill-color);\n",
              "    }\n",
              "  }\n",
              "</style>\n",
              "\n",
              "  <script>\n",
              "    async function quickchart(key) {\n",
              "      const quickchartButtonEl =\n",
              "        document.querySelector('#' + key + ' button');\n",
              "      quickchartButtonEl.disabled = true;  // To prevent multiple clicks.\n",
              "      quickchartButtonEl.classList.add('colab-df-spinner');\n",
              "      try {\n",
              "        const charts = await google.colab.kernel.invokeFunction(\n",
              "            'suggestCharts', [key], {});\n",
              "      } catch (error) {\n",
              "        console.error('Error during call to suggestCharts:', error);\n",
              "      }\n",
              "      quickchartButtonEl.classList.remove('colab-df-spinner');\n",
              "      quickchartButtonEl.classList.add('colab-df-quickchart-complete');\n",
              "    }\n",
              "    (() => {\n",
              "      let quickchartButtonEl =\n",
              "        document.querySelector('#df-738a446b-42f9-487e-910b-3034bb602f00 button');\n",
              "      quickchartButtonEl.style.display =\n",
              "        google.colab.kernel.accessAllowed ? 'block' : 'none';\n",
              "    })();\n",
              "  </script>\n",
              "</div>\n",
              "\n",
              "    </div>\n",
              "  </div>\n"
            ],
            "application/vnd.google.colaboratory.intrinsic+json": {
              "type": "dataframe",
              "variable_name": "geo_df",
              "summary": "{\n  \"name\": \"geo_df\",\n  \"rows\": 5373,\n  \"fields\": [\n    {\n      \"column\": \"twitter_id\",\n      \"properties\": {\n        \"dtype\": \"string\",\n        \"num_unique_values\": 5373,\n        \"samples\": [\n          \"888688122095075328\",\n          \"888692384782983169\",\n          \"888697240449159171\"\n        ],\n        \"semantic_type\": \"\",\n        \"description\": \"\"\n      }\n    },\n    {\n      \"column\": \"geometry\",\n      \"properties\": {\n        \"dtype\": \"geometry\",\n        \"num_unique_values\": 1678,\n        \"samples\": [\n          \"POINT (34.930578 135.007457)\",\n          \"POINT (37.51062194 127.10022622)\",\n          \"POINT (19.875805 99.7388805)\"\n        ],\n        \"semantic_type\": \"\",\n        \"description\": \"\"\n      }\n    },\n    {\n      \"column\": \"timestamp_ms\",\n      \"properties\": {\n        \"dtype\": \"number\",\n        \"std\": 802418,\n        \"min\": 1500714172528,\n        \"max\": 1500716934578,\n        \"num_unique_values\": 5371,\n        \"samples\": [\n          1500714802154,\n          1500716096119,\n          1500715260392\n        ],\n        \"semantic_type\": \"\",\n        \"description\": \"\"\n      }\n    }\n  ]\n}"
            }
          },
          "metadata": {},
          "execution_count": 181
        }
      ]
    },
    {
      "cell_type": "code",
      "source": [
        "geo_df.shape"
      ],
      "metadata": {
        "colab": {
          "base_uri": "https://localhost:8080/"
        },
        "id": "zsgYr4ydUhK3",
        "outputId": "1b9a94c6-599c-4253-a98a-bdfd628f1e1a"
      },
      "execution_count": 182,
      "outputs": [
        {
          "output_type": "execute_result",
          "data": {
            "text/plain": [
              "(5373, 3)"
            ]
          },
          "metadata": {},
          "execution_count": 182
        }
      ]
    },
    {
      "cell_type": "code",
      "source": [
        "temporal_start = timeit.default_timer()\n",
        "\n",
        "# Run query to apply time filters on the candidate set\n",
        "final_result_df = geo_df[(geo_df[\"timestamp_ms\"] <= 1500715081002) & (geo_df[\"timestamp_ms\"] >= 1500714201569)]\n",
        "temporal_end = timeit.default_timer()\n",
        "# Get query time for querying through temporal data\n",
        "temporal_time = temporal_end - temporal_start"
      ],
      "metadata": {
        "id": "dTdlkEgFNR5d"
      },
      "execution_count": 183,
      "outputs": []
    },
    {
      "cell_type": "code",
      "source": [
        "final_result_df.shape"
      ],
      "metadata": {
        "colab": {
          "base_uri": "https://localhost:8080/"
        },
        "id": "5C9ZRhQsUwR9",
        "outputId": "e600737a-4115-4f6c-f64f-705c1750e537"
      },
      "execution_count": 184,
      "outputs": [
        {
          "output_type": "execute_result",
          "data": {
            "text/plain": [
              "(1675, 3)"
            ]
          },
          "metadata": {},
          "execution_count": 184
        }
      ]
    },
    {
      "cell_type": "code",
      "source": [
        "print(f\"Time used to query the spatio data: {spatio_time} seconds\")\n",
        "print(f\"Time used to query the temporal data: {temporal_time} seconds\")\n",
        "print(f\"Total time needed to query through spatio-temporal data is: {spatio_time + temporal_time} seconds\")"
      ],
      "metadata": {
        "colab": {
          "base_uri": "https://localhost:8080/"
        },
        "id": "5RVp_QDlykLu",
        "outputId": "6c936e61-7ba1-40ad-89b3-d8d904466b49"
      },
      "execution_count": 185,
      "outputs": [
        {
          "output_type": "stream",
          "name": "stdout",
          "text": [
            "Time used to query the spatio data: 0.018559520998678636 seconds\n",
            "Time used to query the temporal data: 0.003120638999462244 seconds\n",
            "Total time needed to query through spatio-temporal data is: 0.02168015999814088 seconds\n"
          ]
        }
      ]
    },
    {
      "cell_type": "markdown",
      "source": [
        "# Hilbert Curve Based 2D Spatio-temporal Data Processing"
      ],
      "metadata": {
        "id": "fmRuaOoZQdhl"
      }
    },
    {
      "cell_type": "markdown",
      "source": [
        "We will read in the data similarly as we did in regular approach"
      ],
      "metadata": {
        "id": "DyTJ0swWQgHF"
      }
    },
    {
      "cell_type": "markdown",
      "source": [
        "## Read the input data"
      ],
      "metadata": {
        "id": "hM-SRX7kRs3C"
      }
    },
    {
      "cell_type": "code",
      "source": [
        "import json\n",
        "import pandas as pd\n",
        "\n",
        "# Read the input data\n",
        "# We will be working with Twitter Dataset: https://drive.google.com/file/d/1wt2YNiimTe_7-ig9Vf73SJ6N2fLsDug3/view\n",
        "input_file = \"2017-07-22_09-02-53.txt\""
      ],
      "metadata": {
        "id": "e0-Gl9UVRs3D"
      },
      "execution_count": 186,
      "outputs": []
    },
    {
      "cell_type": "code",
      "source": [
        "# Parse the spatio-temporal data from the text corpus\n",
        "spatio_temporal_data = []\n",
        "\n",
        "# Loop through corpus\n",
        "with open(input_file, 'r', encoding='utf-8') as f:\n",
        "  for line in f:\n",
        "    twitter = json.loads(line)\n",
        "\n",
        "    # Get twitter ID (identifier)\n",
        "    # id = twitter.get(\"id\")\n",
        "    # Choose str for interpretation purpose\n",
        "    id = twitter.get(\"id_str\")\n",
        "\n",
        "    # If applicable, get country name\n",
        "    place = twitter.get(\"place\")\n",
        "    if place is not None:\n",
        "      country = place.get(\"country\")\n",
        "    else:\n",
        "      country = None\n",
        "\n",
        "    # Get the bounding box, the box should consists of four coordinates\n",
        "    if place is not None:\n",
        "      bounding_box = place.get(\"bounding_box\")\n",
        "      if bounding_box is not None:\n",
        "        bounding_box_coordinates = bounding_box.get(\"coordinates\")[0]\n",
        "      else:\n",
        "        bounding_box_coordinates = None\n",
        "    else:\n",
        "      bounding_box_coordinates = None\n",
        "\n",
        "    # If applicable, get coordinates\n",
        "    geo = twitter.get(\"geo\")\n",
        "    if geo is not None:\n",
        "      coordinates = geo.get(\"coordinates\")\n",
        "      latitude = coordinates[0]\n",
        "      longitude = coordinates[1]\n",
        "    else:\n",
        "      # We will pick the middle of the bounding box as coordinate\n",
        "      if bounding_box_coordinates is not None:\n",
        "        # Somehow it is reversed\n",
        "        # Bounding box coordinates [longitude, latitude]\n",
        "        longitude = (bounding_box_coordinates[0][0] + bounding_box_coordinates[2][0]) / 2\n",
        "        latitude = (bounding_box_coordinates[0][1] + bounding_box_coordinates[1][1]) / 2\n",
        "      else:\n",
        "        latitude = None\n",
        "        longitude = None\n",
        "\n",
        "    # Get the timestamp\n",
        "    timestamp_ms = twitter.get(\"timestamp_ms\")\n",
        "\n",
        "    # Append all necessary information into the list\n",
        "    spatio_temporal_data.append({\n",
        "        \"twitter_id\": id,\n",
        "        \"latitude\": latitude,\n",
        "        \"longitude\": longitude,\n",
        "        \"country\": country,\n",
        "        \"bounding_box_coordinates\": bounding_box_coordinates,\n",
        "        # Was thinking changing to int, but it will be converted to string anyways\n",
        "        # When applying RDD, so we will keep it in the type of string\n",
        "        \"timestamp_ms\": timestamp_ms\n",
        "    })\n",
        "\n",
        "# Convert the data into Pandas Dataframe\n",
        "df = pd.DataFrame(spatio_temporal_data)"
      ],
      "metadata": {
        "id": "Rir8qRL9Rs3D"
      },
      "execution_count": 187,
      "outputs": []
    },
    {
      "cell_type": "code",
      "source": [
        "# Create another column of type geometry: (latitude, longtitude)\n",
        "# reference: https://automating-gis-processes.github.io/CSC18/lessons/L1/Geometric-Objects.html\n",
        "from shapely.geometry import Point\n",
        "df[\"geometry\"] = df.apply(lambda x: Point(x[\"latitude\"], x[\"longitude\"]), axis=1)"
      ],
      "metadata": {
        "id": "WJ3aChwlRs3D"
      },
      "execution_count": 188,
      "outputs": []
    },
    {
      "cell_type": "code",
      "source": [
        "# Check the dataframe\n",
        "df.head()"
      ],
      "metadata": {
        "colab": {
          "base_uri": "https://localhost:8080/",
          "height": 0
        },
        "outputId": "77da0cf3-7253-4b2b-8a8b-b50ab9a00966",
        "id": "c8i5OJkLRs3D"
      },
      "execution_count": 189,
      "outputs": [
        {
          "output_type": "execute_result",
          "data": {
            "text/plain": [
              "           twitter_id   latitude   longitude                     country  \\\n",
              "0  888685771020009472  53.456952   -2.233480              United Kingdom   \n",
              "1  888685771208613889  28.377247  129.493744                          日本   \n",
              "2  888685771602878465  10.496000  -66.898300                   Venezuela   \n",
              "3  888685767148544001  22.869936  113.419725  People's Republic of China   \n",
              "4  888685770881368069  35.701657  139.709181                          日本   \n",
              "\n",
              "                            bounding_box_coordinates   timestamp_ms  \\\n",
              "0  [[-2.319934, 53.343623], [-2.319934, 53.570282...  1500714173451   \n",
              "1  [[129.343186, 28.193773], [129.343186, 28.5307...  1500714173496   \n",
              "2  [[-66.998581, 10.440464], [-66.998581, 10.5266...  1500714173590   \n",
              "3  [[109.664659, 20.221264], [109.664659, 25.5186...  1500714172528   \n",
              "4  [[139.673228, 35.673404], [139.673228, 35.7299...  1500714173418   \n",
              "\n",
              "                                 geometry  \n",
              "0             POINT (53.4569525 -2.23348)  \n",
              "1            POINT (28.377247 129.493744)  \n",
              "2                 POINT (10.496 -66.8983)  \n",
              "3  POINT (22.869936000000003 113.4197245)  \n",
              "4           POINT (35.701657 139.7091805)  "
            ],
            "text/html": [
              "\n",
              "  <div id=\"df-01dd83b3-5886-48cb-bf28-a4ba86a9da49\" class=\"colab-df-container\">\n",
              "    <div>\n",
              "<style scoped>\n",
              "    .dataframe tbody tr th:only-of-type {\n",
              "        vertical-align: middle;\n",
              "    }\n",
              "\n",
              "    .dataframe tbody tr th {\n",
              "        vertical-align: top;\n",
              "    }\n",
              "\n",
              "    .dataframe thead th {\n",
              "        text-align: right;\n",
              "    }\n",
              "</style>\n",
              "<table border=\"1\" class=\"dataframe\">\n",
              "  <thead>\n",
              "    <tr style=\"text-align: right;\">\n",
              "      <th></th>\n",
              "      <th>twitter_id</th>\n",
              "      <th>latitude</th>\n",
              "      <th>longitude</th>\n",
              "      <th>country</th>\n",
              "      <th>bounding_box_coordinates</th>\n",
              "      <th>timestamp_ms</th>\n",
              "      <th>geometry</th>\n",
              "    </tr>\n",
              "  </thead>\n",
              "  <tbody>\n",
              "    <tr>\n",
              "      <th>0</th>\n",
              "      <td>888685771020009472</td>\n",
              "      <td>53.456952</td>\n",
              "      <td>-2.233480</td>\n",
              "      <td>United Kingdom</td>\n",
              "      <td>[[-2.319934, 53.343623], [-2.319934, 53.570282...</td>\n",
              "      <td>1500714173451</td>\n",
              "      <td>POINT (53.4569525 -2.23348)</td>\n",
              "    </tr>\n",
              "    <tr>\n",
              "      <th>1</th>\n",
              "      <td>888685771208613889</td>\n",
              "      <td>28.377247</td>\n",
              "      <td>129.493744</td>\n",
              "      <td>日本</td>\n",
              "      <td>[[129.343186, 28.193773], [129.343186, 28.5307...</td>\n",
              "      <td>1500714173496</td>\n",
              "      <td>POINT (28.377247 129.493744)</td>\n",
              "    </tr>\n",
              "    <tr>\n",
              "      <th>2</th>\n",
              "      <td>888685771602878465</td>\n",
              "      <td>10.496000</td>\n",
              "      <td>-66.898300</td>\n",
              "      <td>Venezuela</td>\n",
              "      <td>[[-66.998581, 10.440464], [-66.998581, 10.5266...</td>\n",
              "      <td>1500714173590</td>\n",
              "      <td>POINT (10.496 -66.8983)</td>\n",
              "    </tr>\n",
              "    <tr>\n",
              "      <th>3</th>\n",
              "      <td>888685767148544001</td>\n",
              "      <td>22.869936</td>\n",
              "      <td>113.419725</td>\n",
              "      <td>People's Republic of China</td>\n",
              "      <td>[[109.664659, 20.221264], [109.664659, 25.5186...</td>\n",
              "      <td>1500714172528</td>\n",
              "      <td>POINT (22.869936000000003 113.4197245)</td>\n",
              "    </tr>\n",
              "    <tr>\n",
              "      <th>4</th>\n",
              "      <td>888685770881368069</td>\n",
              "      <td>35.701657</td>\n",
              "      <td>139.709181</td>\n",
              "      <td>日本</td>\n",
              "      <td>[[139.673228, 35.673404], [139.673228, 35.7299...</td>\n",
              "      <td>1500714173418</td>\n",
              "      <td>POINT (35.701657 139.7091805)</td>\n",
              "    </tr>\n",
              "  </tbody>\n",
              "</table>\n",
              "</div>\n",
              "    <div class=\"colab-df-buttons\">\n",
              "\n",
              "  <div class=\"colab-df-container\">\n",
              "    <button class=\"colab-df-convert\" onclick=\"convertToInteractive('df-01dd83b3-5886-48cb-bf28-a4ba86a9da49')\"\n",
              "            title=\"Convert this dataframe to an interactive table.\"\n",
              "            style=\"display:none;\">\n",
              "\n",
              "  <svg xmlns=\"http://www.w3.org/2000/svg\" height=\"24px\" viewBox=\"0 -960 960 960\">\n",
              "    <path d=\"M120-120v-720h720v720H120Zm60-500h600v-160H180v160Zm220 220h160v-160H400v160Zm0 220h160v-160H400v160ZM180-400h160v-160H180v160Zm440 0h160v-160H620v160ZM180-180h160v-160H180v160Zm440 0h160v-160H620v160Z\"/>\n",
              "  </svg>\n",
              "    </button>\n",
              "\n",
              "  <style>\n",
              "    .colab-df-container {\n",
              "      display:flex;\n",
              "      gap: 12px;\n",
              "    }\n",
              "\n",
              "    .colab-df-convert {\n",
              "      background-color: #E8F0FE;\n",
              "      border: none;\n",
              "      border-radius: 50%;\n",
              "      cursor: pointer;\n",
              "      display: none;\n",
              "      fill: #1967D2;\n",
              "      height: 32px;\n",
              "      padding: 0 0 0 0;\n",
              "      width: 32px;\n",
              "    }\n",
              "\n",
              "    .colab-df-convert:hover {\n",
              "      background-color: #E2EBFA;\n",
              "      box-shadow: 0px 1px 2px rgba(60, 64, 67, 0.3), 0px 1px 3px 1px rgba(60, 64, 67, 0.15);\n",
              "      fill: #174EA6;\n",
              "    }\n",
              "\n",
              "    .colab-df-buttons div {\n",
              "      margin-bottom: 4px;\n",
              "    }\n",
              "\n",
              "    [theme=dark] .colab-df-convert {\n",
              "      background-color: #3B4455;\n",
              "      fill: #D2E3FC;\n",
              "    }\n",
              "\n",
              "    [theme=dark] .colab-df-convert:hover {\n",
              "      background-color: #434B5C;\n",
              "      box-shadow: 0px 1px 3px 1px rgba(0, 0, 0, 0.15);\n",
              "      filter: drop-shadow(0px 1px 2px rgba(0, 0, 0, 0.3));\n",
              "      fill: #FFFFFF;\n",
              "    }\n",
              "  </style>\n",
              "\n",
              "    <script>\n",
              "      const buttonEl =\n",
              "        document.querySelector('#df-01dd83b3-5886-48cb-bf28-a4ba86a9da49 button.colab-df-convert');\n",
              "      buttonEl.style.display =\n",
              "        google.colab.kernel.accessAllowed ? 'block' : 'none';\n",
              "\n",
              "      async function convertToInteractive(key) {\n",
              "        const element = document.querySelector('#df-01dd83b3-5886-48cb-bf28-a4ba86a9da49');\n",
              "        const dataTable =\n",
              "          await google.colab.kernel.invokeFunction('convertToInteractive',\n",
              "                                                    [key], {});\n",
              "        if (!dataTable) return;\n",
              "\n",
              "        const docLinkHtml = 'Like what you see? Visit the ' +\n",
              "          '<a target=\"_blank\" href=https://colab.research.google.com/notebooks/data_table.ipynb>data table notebook</a>'\n",
              "          + ' to learn more about interactive tables.';\n",
              "        element.innerHTML = '';\n",
              "        dataTable['output_type'] = 'display_data';\n",
              "        await google.colab.output.renderOutput(dataTable, element);\n",
              "        const docLink = document.createElement('div');\n",
              "        docLink.innerHTML = docLinkHtml;\n",
              "        element.appendChild(docLink);\n",
              "      }\n",
              "    </script>\n",
              "  </div>\n",
              "\n",
              "\n",
              "<div id=\"df-56d369d3-2402-47e5-a649-9090efeea0de\">\n",
              "  <button class=\"colab-df-quickchart\" onclick=\"quickchart('df-56d369d3-2402-47e5-a649-9090efeea0de')\"\n",
              "            title=\"Suggest charts\"\n",
              "            style=\"display:none;\">\n",
              "\n",
              "<svg xmlns=\"http://www.w3.org/2000/svg\" height=\"24px\"viewBox=\"0 0 24 24\"\n",
              "     width=\"24px\">\n",
              "    <g>\n",
              "        <path d=\"M19 3H5c-1.1 0-2 .9-2 2v14c0 1.1.9 2 2 2h14c1.1 0 2-.9 2-2V5c0-1.1-.9-2-2-2zM9 17H7v-7h2v7zm4 0h-2V7h2v10zm4 0h-2v-4h2v4z\"/>\n",
              "    </g>\n",
              "</svg>\n",
              "  </button>\n",
              "\n",
              "<style>\n",
              "  .colab-df-quickchart {\n",
              "      --bg-color: #E8F0FE;\n",
              "      --fill-color: #1967D2;\n",
              "      --hover-bg-color: #E2EBFA;\n",
              "      --hover-fill-color: #174EA6;\n",
              "      --disabled-fill-color: #AAA;\n",
              "      --disabled-bg-color: #DDD;\n",
              "  }\n",
              "\n",
              "  [theme=dark] .colab-df-quickchart {\n",
              "      --bg-color: #3B4455;\n",
              "      --fill-color: #D2E3FC;\n",
              "      --hover-bg-color: #434B5C;\n",
              "      --hover-fill-color: #FFFFFF;\n",
              "      --disabled-bg-color: #3B4455;\n",
              "      --disabled-fill-color: #666;\n",
              "  }\n",
              "\n",
              "  .colab-df-quickchart {\n",
              "    background-color: var(--bg-color);\n",
              "    border: none;\n",
              "    border-radius: 50%;\n",
              "    cursor: pointer;\n",
              "    display: none;\n",
              "    fill: var(--fill-color);\n",
              "    height: 32px;\n",
              "    padding: 0;\n",
              "    width: 32px;\n",
              "  }\n",
              "\n",
              "  .colab-df-quickchart:hover {\n",
              "    background-color: var(--hover-bg-color);\n",
              "    box-shadow: 0 1px 2px rgba(60, 64, 67, 0.3), 0 1px 3px 1px rgba(60, 64, 67, 0.15);\n",
              "    fill: var(--button-hover-fill-color);\n",
              "  }\n",
              "\n",
              "  .colab-df-quickchart-complete:disabled,\n",
              "  .colab-df-quickchart-complete:disabled:hover {\n",
              "    background-color: var(--disabled-bg-color);\n",
              "    fill: var(--disabled-fill-color);\n",
              "    box-shadow: none;\n",
              "  }\n",
              "\n",
              "  .colab-df-spinner {\n",
              "    border: 2px solid var(--fill-color);\n",
              "    border-color: transparent;\n",
              "    border-bottom-color: var(--fill-color);\n",
              "    animation:\n",
              "      spin 1s steps(1) infinite;\n",
              "  }\n",
              "\n",
              "  @keyframes spin {\n",
              "    0% {\n",
              "      border-color: transparent;\n",
              "      border-bottom-color: var(--fill-color);\n",
              "      border-left-color: var(--fill-color);\n",
              "    }\n",
              "    20% {\n",
              "      border-color: transparent;\n",
              "      border-left-color: var(--fill-color);\n",
              "      border-top-color: var(--fill-color);\n",
              "    }\n",
              "    30% {\n",
              "      border-color: transparent;\n",
              "      border-left-color: var(--fill-color);\n",
              "      border-top-color: var(--fill-color);\n",
              "      border-right-color: var(--fill-color);\n",
              "    }\n",
              "    40% {\n",
              "      border-color: transparent;\n",
              "      border-right-color: var(--fill-color);\n",
              "      border-top-color: var(--fill-color);\n",
              "    }\n",
              "    60% {\n",
              "      border-color: transparent;\n",
              "      border-right-color: var(--fill-color);\n",
              "    }\n",
              "    80% {\n",
              "      border-color: transparent;\n",
              "      border-right-color: var(--fill-color);\n",
              "      border-bottom-color: var(--fill-color);\n",
              "    }\n",
              "    90% {\n",
              "      border-color: transparent;\n",
              "      border-bottom-color: var(--fill-color);\n",
              "    }\n",
              "  }\n",
              "</style>\n",
              "\n",
              "  <script>\n",
              "    async function quickchart(key) {\n",
              "      const quickchartButtonEl =\n",
              "        document.querySelector('#' + key + ' button');\n",
              "      quickchartButtonEl.disabled = true;  // To prevent multiple clicks.\n",
              "      quickchartButtonEl.classList.add('colab-df-spinner');\n",
              "      try {\n",
              "        const charts = await google.colab.kernel.invokeFunction(\n",
              "            'suggestCharts', [key], {});\n",
              "      } catch (error) {\n",
              "        console.error('Error during call to suggestCharts:', error);\n",
              "      }\n",
              "      quickchartButtonEl.classList.remove('colab-df-spinner');\n",
              "      quickchartButtonEl.classList.add('colab-df-quickchart-complete');\n",
              "    }\n",
              "    (() => {\n",
              "      let quickchartButtonEl =\n",
              "        document.querySelector('#df-56d369d3-2402-47e5-a649-9090efeea0de button');\n",
              "      quickchartButtonEl.style.display =\n",
              "        google.colab.kernel.accessAllowed ? 'block' : 'none';\n",
              "    })();\n",
              "  </script>\n",
              "</div>\n",
              "\n",
              "    </div>\n",
              "  </div>\n"
            ],
            "application/vnd.google.colaboratory.intrinsic+json": {
              "type": "dataframe",
              "variable_name": "df",
              "summary": "{\n  \"name\": \"df\",\n  \"rows\": 100000,\n  \"fields\": [\n    {\n      \"column\": \"twitter_id\",\n      \"properties\": {\n        \"dtype\": \"string\",\n        \"num_unique_values\": 98314,\n        \"samples\": [\n          \"888693397178941440\",\n          \"888686361099849728\",\n          \"888695126939361281\"\n        ],\n        \"semantic_type\": \"\",\n        \"description\": \"\"\n      }\n    },\n    {\n      \"column\": \"latitude\",\n      \"properties\": {\n        \"dtype\": \"number\",\n        \"std\": 24.278920765180565,\n        \"min\": -89.43579825,\n        \"max\": 78.62645647,\n        \"num_unique_values\": 28179,\n        \"samples\": [\n          -28.762956,\n          -32.25103,\n          39.216885500000004\n        ],\n        \"semantic_type\": \"\",\n        \"description\": \"\"\n      }\n    },\n    {\n      \"column\": \"longitude\",\n      \"properties\": {\n        \"dtype\": \"number\",\n        \"std\": 78.91005176994298,\n        \"min\": -178.72606449,\n        \"max\": 178.45017672,\n        \"num_unique_values\": 28210,\n        \"samples\": [\n          132.76184775,\n          29.05390263,\n          131.0645745\n        ],\n        \"semantic_type\": \"\",\n        \"description\": \"\"\n      }\n    },\n    {\n      \"column\": \"country\",\n      \"properties\": {\n        \"dtype\": \"category\",\n        \"num_unique_values\": 444,\n        \"samples\": [\n          \"Germania\",\n          \"\\uc77c\\ubcf8\",\n          \"\\u0411\\u0435\\u043b\\u0430\\u0440\\u0443\\u0441\\u044c\"\n        ],\n        \"semantic_type\": \"\",\n        \"description\": \"\"\n      }\n    },\n    {\n      \"column\": \"bounding_box_coordinates\",\n      \"properties\": {\n        \"dtype\": \"object\",\n        \"semantic_type\": \"\",\n        \"description\": \"\"\n      }\n    },\n    {\n      \"column\": \"timestamp_ms\",\n      \"properties\": {\n        \"dtype\": \"string\",\n        \"num_unique_values\": 96528,\n        \"samples\": [\n          \"1500714660201\",\n          \"1500714641520\",\n          \"1500716491402\"\n        ],\n        \"semantic_type\": \"\",\n        \"description\": \"\"\n      }\n    },\n    {\n      \"column\": \"geometry\",\n      \"properties\": {\n        \"dtype\": \"category\",\n        \"num_unique_values\": 28336,\n        \"samples\": [\n          \"POINT (49.888383000000005 2.507187)\",\n          \"POINT (35.63869992 139.74003196)\",\n          \"POINT (35.715131 139.815545)\"\n        ],\n        \"semantic_type\": \"\",\n        \"description\": \"\"\n      }\n    }\n  ]\n}"
            }
          },
          "metadata": {},
          "execution_count": 189
        }
      ]
    },
    {
      "cell_type": "code",
      "source": [
        "# Remove rows if the column \"geometry\" is NULL\n",
        "df = df[df[\"twitter_id\"].notnull()]"
      ],
      "metadata": {
        "id": "zHKEwUeAauDB"
      },
      "execution_count": 190,
      "outputs": []
    },
    {
      "cell_type": "markdown",
      "source": [
        "## Milestone II: apply Hilbert Curve (Existing Hilbert Curve Library)"
      ],
      "metadata": {
        "id": "8Q-uWfInQ4I9"
      }
    },
    {
      "cell_type": "markdown",
      "source": [
        "reference: https://pypi.org/project/hilbertcurve/\n",
        "https://github.com/jokergoo/HilbertCurve"
      ],
      "metadata": {
        "id": "yKthZjKIS_Fl"
      }
    },
    {
      "cell_type": "code",
      "source": [
        "!pip install hilbertcurve"
      ],
      "metadata": {
        "colab": {
          "base_uri": "https://localhost:8080/"
        },
        "id": "uwQBFanNVHp8",
        "outputId": "c562c6f9-c795-41c6-8ca7-61e8c94da682"
      },
      "execution_count": 191,
      "outputs": [
        {
          "output_type": "stream",
          "name": "stdout",
          "text": [
            "Requirement already satisfied: hilbertcurve in /usr/local/lib/python3.10/dist-packages (2.0.5)\n",
            "Requirement already satisfied: numpy in /usr/local/lib/python3.10/dist-packages (from hilbertcurve) (1.26.4)\n"
          ]
        }
      ]
    },
    {
      "cell_type": "code",
      "source": [
        "# Extract the latitude and longitude information from the original dataframe\n",
        "points = df[[\"latitude\", \"longitude\"]].values\n",
        "# Check the first data point\n",
        "print(points[0])"
      ],
      "metadata": {
        "colab": {
          "base_uri": "https://localhost:8080/"
        },
        "id": "vQul_ZZ0tXuF",
        "outputId": "770afa57-4eb4-4979-cc7c-1d8a8935692b"
      },
      "execution_count": 192,
      "outputs": [
        {
          "output_type": "stream",
          "name": "stdout",
          "text": [
            "[53.4569525 -2.23348  ]\n"
          ]
        }
      ]
    },
    {
      "cell_type": "code",
      "source": [
        "# reference: https://docs.python.org/3/library/decimal.html\n",
        "from decimal import Decimal, ROUND_HALF_UP\n",
        "\n",
        "# Using the Hilbert Curve method, all data points must be integer and satisfy [>=0, >=0]\n",
        "# Thus we have to normalize our geometric data (for having negative and decimal points)\n",
        "def normalize(point):\n",
        "  # Input will be in form: (latitude, longitude)\n",
        "  # We will use decimal library to bypass the python digit precision error\n",
        "  # ROUND_HALF_UP is to keep consistence on the rounding method\n",
        "  # Since latitude ranges from [-90, 90], we will increment it by 90\n",
        "  # Since longitude ranges from [-180, 180], we will increment it by 180\n",
        "  # We times it by 100 to idicate that we will keep two decimal places for all the coordinates\n",
        "  latitude = point[0]\n",
        "  longitude = point[1]\n",
        "  latitude = int(100 * float(Decimal(latitude).quantize(Decimal(\"0.01\"), rounding = ROUND_HALF_UP) + Decimal(\"90.00\")))\n",
        "  longitude = int(100 * float(Decimal(longitude).quantize(Decimal(\"0.01\"), rounding = ROUND_HALF_UP) + Decimal(\"180.00\")))\n",
        "  return latitude, longitude"
      ],
      "metadata": {
        "id": "sJQel-JXk9gw"
      },
      "execution_count": 193,
      "outputs": []
    },
    {
      "cell_type": "code",
      "source": [
        "# Apply normalization on each data point\n",
        "for i in range(len(points)):\n",
        "  points[i] = normalize(points[i])\n",
        "\n",
        "# Check that the first data point is updated successfully\n",
        "print(points[0])"
      ],
      "metadata": {
        "colab": {
          "base_uri": "https://localhost:8080/"
        },
        "id": "R448UedXuhVJ",
        "outputId": "b24df5cc-db2f-49fe-c25f-a9e4977c47d8"
      },
      "execution_count": 194,
      "outputs": [
        {
          "output_type": "stream",
          "name": "stdout",
          "text": [
            "[14346. 17777.]\n"
          ]
        }
      ]
    },
    {
      "cell_type": "code",
      "source": [
        "# We will be utilizing the existing python library: https://pypi.org/project/hilbertcurve/\n",
        "from hilbertcurve.hilbertcurve import HilbertCurve\n",
        "\n",
        "# Number of iterations\n",
        "# Hilbert Curve must be N x N grid, and the side for our grid will be 2^p\n",
        "# I choose 16 because 2^16 = 65536\n",
        "# Longitude has higher range of [-180, 180], if we normalize it, it will become [0, 360]\n",
        "# We will keep 2 decimals for each coordinates, thus we need at least 36000 points on each axis\n",
        "p = 16\n",
        "# Number of dimension (2, since we are dealing with geometric data)\n",
        "n = 2\n",
        "# Call Hilbert Curve class\n",
        "hilbert_curve = HilbertCurve(p, n)"
      ],
      "metadata": {
        "id": "98vhv2tejGQx"
      },
      "execution_count": 195,
      "outputs": []
    },
    {
      "cell_type": "code",
      "source": [
        "# Sample run to ensure accuracy of the approach\n",
        "sample_points = [(-90, -180), (-90, -179.99), (-89.99, -179.99), (-89.99, -180), (90, 180), (89.99, 180), (90, 179.99), (89.99, 179.99)]\n",
        "# normalize sample_points\n",
        "for i in range(len(sample_points)):\n",
        "  sample_points[i] = normalize(sample_points[i])\n",
        "\n",
        "# Calculate distances along the Hilbert curve for all points\n",
        "distances = hilbert_curve.distances_from_points(sample_points)\n",
        "\n",
        "# Verify results:\n",
        "for point, dist in zip(sample_points, distances):\n",
        "  print(f\"Point: {point}, Distance: {dist}\")"
      ],
      "metadata": {
        "colab": {
          "base_uri": "https://localhost:8080/"
        },
        "id": "LmAXl4lqCGDp",
        "outputId": "a4cefe25-853e-4b43-d1cb-c47a32bf3239"
      },
      "execution_count": 196,
      "outputs": [
        {
          "output_type": "stream",
          "name": "stdout",
          "text": [
            "Point: (0, 0), Distance: 0\n",
            "Point: (0, 1), Distance: 3\n",
            "Point: (1, 1), Distance: 2\n",
            "Point: (1, 0), Distance: 1\n",
            "Point: (18000, 36000), Distance: 2051464618\n",
            "Point: (17999, 36000), Distance: 2051464789\n",
            "Point: (18000, 35999), Distance: 2051461717\n",
            "Point: (17999, 35999), Distance: 2051461546\n"
          ]
        }
      ]
    },
    {
      "cell_type": "markdown",
      "source": [
        "The results are totally expected and proves that the Hilbert Curve method works."
      ],
      "metadata": {
        "id": "YgqzzA12DYI-"
      }
    },
    {
      "cell_type": "code",
      "source": [
        "# Calculate distances along the Hilbert curve for all points\n",
        "distances = hilbert_curve.distances_from_points(points)\n",
        "\n",
        "# Assign distances/Hilbert Value back to dataset\n",
        "df[\"hilbert_value\"] = distances\n",
        "\n",
        "# Group with timestamp_ms to create new geometry column\n",
        "df[\"hilb_geometry\"] = df.apply(lambda x: Point(x[\"hilbert_value\"], x[\"timestamp_ms\"]), axis=1)"
      ],
      "metadata": {
        "id": "rnnh62OKDdgb"
      },
      "execution_count": 197,
      "outputs": []
    },
    {
      "cell_type": "code",
      "source": [
        "# Check our new dataframe\n",
        "df.head()"
      ],
      "metadata": {
        "colab": {
          "base_uri": "https://localhost:8080/",
          "height": 0
        },
        "id": "2X667JQHD2LC",
        "outputId": "28941ceb-5769-46b8-e96d-d05fb3a0e812"
      },
      "execution_count": 198,
      "outputs": [
        {
          "output_type": "execute_result",
          "data": {
            "text/plain": [
              "           twitter_id   latitude   longitude                     country  \\\n",
              "0  888685771020009472  53.456952   -2.233480              United Kingdom   \n",
              "1  888685771208613889  28.377247  129.493744                          日本   \n",
              "2  888685771602878465  10.496000  -66.898300                   Venezuela   \n",
              "3  888685767148544001  22.869936  113.419725  People's Republic of China   \n",
              "4  888685770881368069  35.701657  139.709181                          日本   \n",
              "\n",
              "                            bounding_box_coordinates   timestamp_ms  \\\n",
              "0  [[-2.319934, 53.343623], [-2.319934, 53.570282...  1500714173451   \n",
              "1  [[129.343186, 28.193773], [129.343186, 28.5307...  1500714173496   \n",
              "2  [[-66.998581, 10.440464], [-66.998581, 10.5266...  1500714173590   \n",
              "3  [[109.664659, 20.221264], [109.664659, 25.5186...  1500714172528   \n",
              "4  [[139.673228, 35.673404], [139.673228, 35.7299...  1500714173418   \n",
              "\n",
              "                                 geometry  hilbert_value  \\\n",
              "0             POINT (53.4569525 -2.23348)      896614247   \n",
              "1            POINT (28.377247 129.493744)      823587783   \n",
              "2                 POINT (10.496 -66.8983)      147830008   \n",
              "3  POINT (22.869936000000003 113.4197245)      838232297   \n",
              "4           POINT (35.701657 139.7091805)      821689672   \n",
              "\n",
              "                     hilb_geometry  \n",
              "0  POINT (896614247 1500714173451)  \n",
              "1  POINT (823587783 1500714173496)  \n",
              "2  POINT (147830008 1500714173590)  \n",
              "3  POINT (838232297 1500714172528)  \n",
              "4  POINT (821689672 1500714173418)  "
            ],
            "text/html": [
              "\n",
              "  <div id=\"df-d47e91d3-032b-4ef7-b775-1fdc4e1b051c\" class=\"colab-df-container\">\n",
              "    <div>\n",
              "<style scoped>\n",
              "    .dataframe tbody tr th:only-of-type {\n",
              "        vertical-align: middle;\n",
              "    }\n",
              "\n",
              "    .dataframe tbody tr th {\n",
              "        vertical-align: top;\n",
              "    }\n",
              "\n",
              "    .dataframe thead th {\n",
              "        text-align: right;\n",
              "    }\n",
              "</style>\n",
              "<table border=\"1\" class=\"dataframe\">\n",
              "  <thead>\n",
              "    <tr style=\"text-align: right;\">\n",
              "      <th></th>\n",
              "      <th>twitter_id</th>\n",
              "      <th>latitude</th>\n",
              "      <th>longitude</th>\n",
              "      <th>country</th>\n",
              "      <th>bounding_box_coordinates</th>\n",
              "      <th>timestamp_ms</th>\n",
              "      <th>geometry</th>\n",
              "      <th>hilbert_value</th>\n",
              "      <th>hilb_geometry</th>\n",
              "    </tr>\n",
              "  </thead>\n",
              "  <tbody>\n",
              "    <tr>\n",
              "      <th>0</th>\n",
              "      <td>888685771020009472</td>\n",
              "      <td>53.456952</td>\n",
              "      <td>-2.233480</td>\n",
              "      <td>United Kingdom</td>\n",
              "      <td>[[-2.319934, 53.343623], [-2.319934, 53.570282...</td>\n",
              "      <td>1500714173451</td>\n",
              "      <td>POINT (53.4569525 -2.23348)</td>\n",
              "      <td>896614247</td>\n",
              "      <td>POINT (896614247 1500714173451)</td>\n",
              "    </tr>\n",
              "    <tr>\n",
              "      <th>1</th>\n",
              "      <td>888685771208613889</td>\n",
              "      <td>28.377247</td>\n",
              "      <td>129.493744</td>\n",
              "      <td>日本</td>\n",
              "      <td>[[129.343186, 28.193773], [129.343186, 28.5307...</td>\n",
              "      <td>1500714173496</td>\n",
              "      <td>POINT (28.377247 129.493744)</td>\n",
              "      <td>823587783</td>\n",
              "      <td>POINT (823587783 1500714173496)</td>\n",
              "    </tr>\n",
              "    <tr>\n",
              "      <th>2</th>\n",
              "      <td>888685771602878465</td>\n",
              "      <td>10.496000</td>\n",
              "      <td>-66.898300</td>\n",
              "      <td>Venezuela</td>\n",
              "      <td>[[-66.998581, 10.440464], [-66.998581, 10.5266...</td>\n",
              "      <td>1500714173590</td>\n",
              "      <td>POINT (10.496 -66.8983)</td>\n",
              "      <td>147830008</td>\n",
              "      <td>POINT (147830008 1500714173590)</td>\n",
              "    </tr>\n",
              "    <tr>\n",
              "      <th>3</th>\n",
              "      <td>888685767148544001</td>\n",
              "      <td>22.869936</td>\n",
              "      <td>113.419725</td>\n",
              "      <td>People's Republic of China</td>\n",
              "      <td>[[109.664659, 20.221264], [109.664659, 25.5186...</td>\n",
              "      <td>1500714172528</td>\n",
              "      <td>POINT (22.869936000000003 113.4197245)</td>\n",
              "      <td>838232297</td>\n",
              "      <td>POINT (838232297 1500714172528)</td>\n",
              "    </tr>\n",
              "    <tr>\n",
              "      <th>4</th>\n",
              "      <td>888685770881368069</td>\n",
              "      <td>35.701657</td>\n",
              "      <td>139.709181</td>\n",
              "      <td>日本</td>\n",
              "      <td>[[139.673228, 35.673404], [139.673228, 35.7299...</td>\n",
              "      <td>1500714173418</td>\n",
              "      <td>POINT (35.701657 139.7091805)</td>\n",
              "      <td>821689672</td>\n",
              "      <td>POINT (821689672 1500714173418)</td>\n",
              "    </tr>\n",
              "  </tbody>\n",
              "</table>\n",
              "</div>\n",
              "    <div class=\"colab-df-buttons\">\n",
              "\n",
              "  <div class=\"colab-df-container\">\n",
              "    <button class=\"colab-df-convert\" onclick=\"convertToInteractive('df-d47e91d3-032b-4ef7-b775-1fdc4e1b051c')\"\n",
              "            title=\"Convert this dataframe to an interactive table.\"\n",
              "            style=\"display:none;\">\n",
              "\n",
              "  <svg xmlns=\"http://www.w3.org/2000/svg\" height=\"24px\" viewBox=\"0 -960 960 960\">\n",
              "    <path d=\"M120-120v-720h720v720H120Zm60-500h600v-160H180v160Zm220 220h160v-160H400v160Zm0 220h160v-160H400v160ZM180-400h160v-160H180v160Zm440 0h160v-160H620v160ZM180-180h160v-160H180v160Zm440 0h160v-160H620v160Z\"/>\n",
              "  </svg>\n",
              "    </button>\n",
              "\n",
              "  <style>\n",
              "    .colab-df-container {\n",
              "      display:flex;\n",
              "      gap: 12px;\n",
              "    }\n",
              "\n",
              "    .colab-df-convert {\n",
              "      background-color: #E8F0FE;\n",
              "      border: none;\n",
              "      border-radius: 50%;\n",
              "      cursor: pointer;\n",
              "      display: none;\n",
              "      fill: #1967D2;\n",
              "      height: 32px;\n",
              "      padding: 0 0 0 0;\n",
              "      width: 32px;\n",
              "    }\n",
              "\n",
              "    .colab-df-convert:hover {\n",
              "      background-color: #E2EBFA;\n",
              "      box-shadow: 0px 1px 2px rgba(60, 64, 67, 0.3), 0px 1px 3px 1px rgba(60, 64, 67, 0.15);\n",
              "      fill: #174EA6;\n",
              "    }\n",
              "\n",
              "    .colab-df-buttons div {\n",
              "      margin-bottom: 4px;\n",
              "    }\n",
              "\n",
              "    [theme=dark] .colab-df-convert {\n",
              "      background-color: #3B4455;\n",
              "      fill: #D2E3FC;\n",
              "    }\n",
              "\n",
              "    [theme=dark] .colab-df-convert:hover {\n",
              "      background-color: #434B5C;\n",
              "      box-shadow: 0px 1px 3px 1px rgba(0, 0, 0, 0.15);\n",
              "      filter: drop-shadow(0px 1px 2px rgba(0, 0, 0, 0.3));\n",
              "      fill: #FFFFFF;\n",
              "    }\n",
              "  </style>\n",
              "\n",
              "    <script>\n",
              "      const buttonEl =\n",
              "        document.querySelector('#df-d47e91d3-032b-4ef7-b775-1fdc4e1b051c button.colab-df-convert');\n",
              "      buttonEl.style.display =\n",
              "        google.colab.kernel.accessAllowed ? 'block' : 'none';\n",
              "\n",
              "      async function convertToInteractive(key) {\n",
              "        const element = document.querySelector('#df-d47e91d3-032b-4ef7-b775-1fdc4e1b051c');\n",
              "        const dataTable =\n",
              "          await google.colab.kernel.invokeFunction('convertToInteractive',\n",
              "                                                    [key], {});\n",
              "        if (!dataTable) return;\n",
              "\n",
              "        const docLinkHtml = 'Like what you see? Visit the ' +\n",
              "          '<a target=\"_blank\" href=https://colab.research.google.com/notebooks/data_table.ipynb>data table notebook</a>'\n",
              "          + ' to learn more about interactive tables.';\n",
              "        element.innerHTML = '';\n",
              "        dataTable['output_type'] = 'display_data';\n",
              "        await google.colab.output.renderOutput(dataTable, element);\n",
              "        const docLink = document.createElement('div');\n",
              "        docLink.innerHTML = docLinkHtml;\n",
              "        element.appendChild(docLink);\n",
              "      }\n",
              "    </script>\n",
              "  </div>\n",
              "\n",
              "\n",
              "<div id=\"df-9bcbad5d-0b60-4026-acf2-2bb8a768f4a4\">\n",
              "  <button class=\"colab-df-quickchart\" onclick=\"quickchart('df-9bcbad5d-0b60-4026-acf2-2bb8a768f4a4')\"\n",
              "            title=\"Suggest charts\"\n",
              "            style=\"display:none;\">\n",
              "\n",
              "<svg xmlns=\"http://www.w3.org/2000/svg\" height=\"24px\"viewBox=\"0 0 24 24\"\n",
              "     width=\"24px\">\n",
              "    <g>\n",
              "        <path d=\"M19 3H5c-1.1 0-2 .9-2 2v14c0 1.1.9 2 2 2h14c1.1 0 2-.9 2-2V5c0-1.1-.9-2-2-2zM9 17H7v-7h2v7zm4 0h-2V7h2v10zm4 0h-2v-4h2v4z\"/>\n",
              "    </g>\n",
              "</svg>\n",
              "  </button>\n",
              "\n",
              "<style>\n",
              "  .colab-df-quickchart {\n",
              "      --bg-color: #E8F0FE;\n",
              "      --fill-color: #1967D2;\n",
              "      --hover-bg-color: #E2EBFA;\n",
              "      --hover-fill-color: #174EA6;\n",
              "      --disabled-fill-color: #AAA;\n",
              "      --disabled-bg-color: #DDD;\n",
              "  }\n",
              "\n",
              "  [theme=dark] .colab-df-quickchart {\n",
              "      --bg-color: #3B4455;\n",
              "      --fill-color: #D2E3FC;\n",
              "      --hover-bg-color: #434B5C;\n",
              "      --hover-fill-color: #FFFFFF;\n",
              "      --disabled-bg-color: #3B4455;\n",
              "      --disabled-fill-color: #666;\n",
              "  }\n",
              "\n",
              "  .colab-df-quickchart {\n",
              "    background-color: var(--bg-color);\n",
              "    border: none;\n",
              "    border-radius: 50%;\n",
              "    cursor: pointer;\n",
              "    display: none;\n",
              "    fill: var(--fill-color);\n",
              "    height: 32px;\n",
              "    padding: 0;\n",
              "    width: 32px;\n",
              "  }\n",
              "\n",
              "  .colab-df-quickchart:hover {\n",
              "    background-color: var(--hover-bg-color);\n",
              "    box-shadow: 0 1px 2px rgba(60, 64, 67, 0.3), 0 1px 3px 1px rgba(60, 64, 67, 0.15);\n",
              "    fill: var(--button-hover-fill-color);\n",
              "  }\n",
              "\n",
              "  .colab-df-quickchart-complete:disabled,\n",
              "  .colab-df-quickchart-complete:disabled:hover {\n",
              "    background-color: var(--disabled-bg-color);\n",
              "    fill: var(--disabled-fill-color);\n",
              "    box-shadow: none;\n",
              "  }\n",
              "\n",
              "  .colab-df-spinner {\n",
              "    border: 2px solid var(--fill-color);\n",
              "    border-color: transparent;\n",
              "    border-bottom-color: var(--fill-color);\n",
              "    animation:\n",
              "      spin 1s steps(1) infinite;\n",
              "  }\n",
              "\n",
              "  @keyframes spin {\n",
              "    0% {\n",
              "      border-color: transparent;\n",
              "      border-bottom-color: var(--fill-color);\n",
              "      border-left-color: var(--fill-color);\n",
              "    }\n",
              "    20% {\n",
              "      border-color: transparent;\n",
              "      border-left-color: var(--fill-color);\n",
              "      border-top-color: var(--fill-color);\n",
              "    }\n",
              "    30% {\n",
              "      border-color: transparent;\n",
              "      border-left-color: var(--fill-color);\n",
              "      border-top-color: var(--fill-color);\n",
              "      border-right-color: var(--fill-color);\n",
              "    }\n",
              "    40% {\n",
              "      border-color: transparent;\n",
              "      border-right-color: var(--fill-color);\n",
              "      border-top-color: var(--fill-color);\n",
              "    }\n",
              "    60% {\n",
              "      border-color: transparent;\n",
              "      border-right-color: var(--fill-color);\n",
              "    }\n",
              "    80% {\n",
              "      border-color: transparent;\n",
              "      border-right-color: var(--fill-color);\n",
              "      border-bottom-color: var(--fill-color);\n",
              "    }\n",
              "    90% {\n",
              "      border-color: transparent;\n",
              "      border-bottom-color: var(--fill-color);\n",
              "    }\n",
              "  }\n",
              "</style>\n",
              "\n",
              "  <script>\n",
              "    async function quickchart(key) {\n",
              "      const quickchartButtonEl =\n",
              "        document.querySelector('#' + key + ' button');\n",
              "      quickchartButtonEl.disabled = true;  // To prevent multiple clicks.\n",
              "      quickchartButtonEl.classList.add('colab-df-spinner');\n",
              "      try {\n",
              "        const charts = await google.colab.kernel.invokeFunction(\n",
              "            'suggestCharts', [key], {});\n",
              "      } catch (error) {\n",
              "        console.error('Error during call to suggestCharts:', error);\n",
              "      }\n",
              "      quickchartButtonEl.classList.remove('colab-df-spinner');\n",
              "      quickchartButtonEl.classList.add('colab-df-quickchart-complete');\n",
              "    }\n",
              "    (() => {\n",
              "      let quickchartButtonEl =\n",
              "        document.querySelector('#df-9bcbad5d-0b60-4026-acf2-2bb8a768f4a4 button');\n",
              "      quickchartButtonEl.style.display =\n",
              "        google.colab.kernel.accessAllowed ? 'block' : 'none';\n",
              "    })();\n",
              "  </script>\n",
              "</div>\n",
              "\n",
              "    </div>\n",
              "  </div>\n"
            ],
            "application/vnd.google.colaboratory.intrinsic+json": {
              "type": "dataframe",
              "variable_name": "df",
              "summary": "{\n  \"name\": \"df\",\n  \"rows\": 98321,\n  \"fields\": [\n    {\n      \"column\": \"twitter_id\",\n      \"properties\": {\n        \"dtype\": \"string\",\n        \"num_unique_values\": 98314,\n        \"samples\": [\n          \"888693397178941440\",\n          \"888686361099849728\",\n          \"888695126939361281\"\n        ],\n        \"semantic_type\": \"\",\n        \"description\": \"\"\n      }\n    },\n    {\n      \"column\": \"latitude\",\n      \"properties\": {\n        \"dtype\": \"number\",\n        \"std\": 24.278920765180565,\n        \"min\": -89.43579825,\n        \"max\": 78.62645647,\n        \"num_unique_values\": 28179,\n        \"samples\": [\n          -28.762956,\n          -32.25103,\n          39.216885500000004\n        ],\n        \"semantic_type\": \"\",\n        \"description\": \"\"\n      }\n    },\n    {\n      \"column\": \"longitude\",\n      \"properties\": {\n        \"dtype\": \"number\",\n        \"std\": 78.91005176994298,\n        \"min\": -178.72606449,\n        \"max\": 178.45017672,\n        \"num_unique_values\": 28210,\n        \"samples\": [\n          132.76184775,\n          29.05390263,\n          131.0645745\n        ],\n        \"semantic_type\": \"\",\n        \"description\": \"\"\n      }\n    },\n    {\n      \"column\": \"country\",\n      \"properties\": {\n        \"dtype\": \"category\",\n        \"num_unique_values\": 444,\n        \"samples\": [\n          \"Germania\",\n          \"\\uc77c\\ubcf8\",\n          \"\\u0411\\u0435\\u043b\\u0430\\u0440\\u0443\\u0441\\u044c\"\n        ],\n        \"semantic_type\": \"\",\n        \"description\": \"\"\n      }\n    },\n    {\n      \"column\": \"bounding_box_coordinates\",\n      \"properties\": {\n        \"dtype\": \"object\",\n        \"semantic_type\": \"\",\n        \"description\": \"\"\n      }\n    },\n    {\n      \"column\": \"timestamp_ms\",\n      \"properties\": {\n        \"dtype\": \"string\",\n        \"num_unique_values\": 96528,\n        \"samples\": [\n          \"1500714660201\",\n          \"1500714641520\",\n          \"1500716491402\"\n        ],\n        \"semantic_type\": \"\",\n        \"description\": \"\"\n      }\n    },\n    {\n      \"column\": \"geometry\",\n      \"properties\": {\n        \"dtype\": \"category\",\n        \"num_unique_values\": 28335,\n        \"samples\": [\n          \"POINT (18.408172 98.87009)\",\n          \"POINT (52.060565 1.2748055)\",\n          \"POINT (34.471602000000004 -81.873955)\"\n        ],\n        \"semantic_type\": \"\",\n        \"description\": \"\"\n      }\n    },\n    {\n      \"column\": \"hilbert_value\",\n      \"properties\": {\n        \"dtype\": \"number\",\n        \"std\": 293929930,\n        \"min\": 10456075,\n        \"max\": 1171336461,\n        \"num_unique_values\": 23810,\n        \"samples\": [\n          102313628,\n          818132422,\n          821703086\n        ],\n        \"semantic_type\": \"\",\n        \"description\": \"\"\n      }\n    },\n    {\n      \"column\": \"hilb_geometry\",\n      \"properties\": {\n        \"dtype\": \"string\",\n        \"num_unique_values\": 98307,\n        \"samples\": [\n          \"POINT (896633101 1500714986681)\",\n          \"POINT (833288524 1500714384547)\",\n          \"POINT (903906666 1500716215355)\"\n        ],\n        \"semantic_type\": \"\",\n        \"description\": \"\"\n      }\n    }\n  ]\n}"
            }
          },
          "metadata": {},
          "execution_count": 198
        }
      ]
    },
    {
      "cell_type": "markdown",
      "source": [
        "## Milestone II: apply Hilbert Curve (Custom Hilbert Curve Library)"
      ],
      "metadata": {
        "id": "XHrrpYwiS5BG"
      }
    },
    {
      "cell_type": "code",
      "source": [
        "# Extract the latitude and longitude information from the original dataframe to a list\n",
        "points = df[[\"latitude\", \"longitude\"]].values.tolist()\n",
        "# Check the first data point\n",
        "print(points[0])"
      ],
      "metadata": {
        "colab": {
          "base_uri": "https://localhost:8080/"
        },
        "id": "w-r94I9nS7WF",
        "outputId": "d0942bc9-c91e-4f71-a633-66b38ac26a34"
      },
      "execution_count": 199,
      "outputs": [
        {
          "output_type": "stream",
          "name": "stdout",
          "text": [
            "[53.4569525, -2.23348]\n"
          ]
        }
      ]
    },
    {
      "cell_type": "code",
      "source": [
        "# reference: https://docs.python.org/3/library/decimal.html\n",
        "from decimal import Decimal, ROUND_HALF_UP\n",
        "\n",
        "# Using the Hilbert Curve method, all data points must be integer and satisfy [>=0, >=0]\n",
        "# Thus we have to normalize our geometric data (for having negative and decimal points)\n",
        "def normalize(point):\n",
        "  # Input will be in form: (latitude, longitude)\n",
        "  # We will use decimal library to bypass the python digit precision error\n",
        "  # ROUND_HALF_UP is to keep consistence on the rounding method\n",
        "  # Since latitude ranges from [-90, 90], we will increment it by 90\n",
        "  # Since longitude ranges from [-180, 180], we will increment it by 180\n",
        "  # We times it by 100 to idicate that we will keep two decimal places for all the coordinates\n",
        "  latitude = point[0]\n",
        "  longitude = point[1]\n",
        "  latitude = int(100 * float(Decimal(latitude).quantize(Decimal(\"0.01\"), rounding = ROUND_HALF_UP) + Decimal(\"90.00\")))\n",
        "  longitude = int(100 * float(Decimal(longitude).quantize(Decimal(\"0.01\"), rounding = ROUND_HALF_UP) + Decimal(\"180.00\")))\n",
        "  return latitude, longitude"
      ],
      "metadata": {
        "id": "0F8Sdkx6S-OU"
      },
      "execution_count": 200,
      "outputs": []
    },
    {
      "cell_type": "code",
      "source": [
        "# Apply normalization on each data point\n",
        "for i in range(len(points)):\n",
        "  points[i] = normalize(points[i])\n",
        "\n",
        "# Make sure all points are in form of list (not tuple) to match our implementation\n",
        "for i in range(len(points)):\n",
        "  points[i] = list(points[i])\n",
        "\n",
        "# Check that the first data point is updated successfully\n",
        "print(points[0])"
      ],
      "metadata": {
        "colab": {
          "base_uri": "https://localhost:8080/"
        },
        "id": "toQTeJt9TBuX",
        "outputId": "247d2bd1-6329-4ae7-c19b-10f580acd76b"
      },
      "execution_count": 201,
      "outputs": [
        {
          "output_type": "stream",
          "name": "stdout",
          "text": [
            "[14346, 17777]\n"
          ]
        }
      ]
    },
    {
      "cell_type": "markdown",
      "source": [
        "Python implementation, given coordinates, return the Hilbert Value along the 2^p X 2^p Hilbert Curve\\\n",
        "Code based on paper: \"Programming the Hilbert curve\" by John Skilling \\\n",
        "Reference: https://stackoverflow.com/questions/499166/mapping-n-dimensional-value-to-a-point-on-hilbert-curve \\\n",
        "Refernece: https://github.com/galtay/hilbertcurve \\\n",
        "Reference: https://pubs.aip.org/aip/acp/article-abstract/707/1/381/719611/Programming-the-Hilbert-curve?redirectedFrom=fulltext \\\n",
        "Reference: https://www.grant-trebbin.com/2017/03/calculating-hilbert-curve-coordinates.html"
      ],
      "metadata": {
        "id": "So6JwubPWHb1"
      }
    },
    {
      "cell_type": "code",
      "source": [
        "# Number of iterations\n",
        "# Hilbert Curve must be N x N grid, and the side for our grid will be 2^p\n",
        "# I choose 16 because 2^16 = 65536\n",
        "# Longitude has higher range of [-180, 180], if we normalize it, it will become [0, 360]\n",
        "# We will keep 2 decimals for each coordinates, thus we need at least 36000 points on each axis\n",
        "p = 16\n",
        "\n",
        "# Function to return the Hilbert Value, given iteration p and coordiante\n",
        "# Since we are only dealing with coordinates, the dimension is fixed 2\n",
        "def Get_Hilbert_value(point, bits):\n",
        "  # Initialize the parameter\n",
        "  hilbert_value = 0\n",
        "  # Copy the input coordinates\n",
        "  X = point[:]\n",
        "  # Get the highest bit mask\n",
        "  M = 1 << (bits - 1)\n",
        "  # Number of dimension, since we will work on geometric data, it is 2\n",
        "  n = 2\n",
        "\n",
        "  # Inverse Undo\n",
        "  Q = M\n",
        "  while Q > 1:\n",
        "    P = Q - 1\n",
        "    for i in range(n):\n",
        "      # If top bit of X[i] is OFF\n",
        "      if X[i] & Q:\n",
        "        # Invert\n",
        "        # More particularly, invert low bits of X_0\n",
        "        X[0] ^= P\n",
        "      else:\n",
        "        # If top bit of X[i] is ON\n",
        "        # Exchange\n",
        "        # More particularly, exchange low bits of X_0 with X_i\n",
        "        t = (X[0] ^ X[i]) & P\n",
        "        X[0] ^= t\n",
        "        X[i] ^= t\n",
        "    # Shift bit to the right\n",
        "    Q >>= 1\n",
        "\n",
        "  # Gray encode\n",
        "  # Applying Gray code to improve spatial locality\n",
        "  # The key is to: apply Gray code to all bits of the Hilbert integer at once\n",
        "  # Every coordinate XOR with previous one (except first one)\n",
        "  for i in range(1, n):\n",
        "    X[i] ^= X[i - 1]\n",
        "  # Check on the last coordinate\n",
        "  t = 0\n",
        "  Q = M\n",
        "  while Q > 1:\n",
        "    if X[n - 1] & Q:\n",
        "      t ^= Q - 1\n",
        "    Q >>= 1\n",
        "  # Final adjustment to ensure encoding correctness\n",
        "  for i in range(n):\n",
        "    X[i] ^= t\n",
        "\n",
        "  # X now stores the transposed Hilbert Indexes\n",
        "  # Decode the transposed Hilbert Index\n",
        "  # This is achieved by interleavingly join the bits among transposed Hilbert Index\n",
        "  # Get the binary representation of the coordinates, fill up to bits\n",
        "  # reference: https://stackoverflow.com/questions/10411085/converting-integer-to-binary-in-python\n",
        "  X_binary = [bin(x)[2:].zfill(bits) for x in X]\n",
        "  # Form new binary to interleavingly join the bits\n",
        "  bi_hilbert_value = \"\"\n",
        "  # We start with left most bit from first coordinate\n",
        "  for i in range (bits):\n",
        "    for j in range(len(X_binary)):\n",
        "      bi_hilbert_value += X_binary[j][i]\n",
        "  # Convert the Hilbert index to integer, which is our Hilbert Value\n",
        "  hilbert_value = int(bi_hilbert_value, 2)\n",
        "\n",
        "  return hilbert_value"
      ],
      "metadata": {
        "id": "7sWHsjHnTLxq"
      },
      "execution_count": 202,
      "outputs": []
    },
    {
      "cell_type": "code",
      "source": [
        "# Sample run to ensure accuracy of the approach\n",
        "sample_points = [(-90, -180), (-90, -179.99), (-89.99, -179.99), (-89.99, -180), (90, 180), (89.99, 180), (90, 179.99), (89.99, 179.99), (53.4569525, -2.23348)]\n",
        "# normalize sample_points\n",
        "for i in range(len(sample_points)):\n",
        "  sample_points[i] = list(normalize(sample_points[i]))\n",
        "\n",
        "# Calculate distances along the Hilbert curve for all points\n",
        "distances = []\n",
        "for point in sample_points:\n",
        "  distances.append(Get_Hilbert_value(point, p))\n",
        "\n",
        "# Verify results:\n",
        "for point, dist in zip(sample_points, distances):\n",
        "  print(f\"Point: {point}, Distance: {dist}\")"
      ],
      "metadata": {
        "colab": {
          "base_uri": "https://localhost:8080/"
        },
        "id": "cfk6FlAN04cH",
        "outputId": "14b81f2e-9192-4435-ffa4-ab0224537495"
      },
      "execution_count": 203,
      "outputs": [
        {
          "output_type": "stream",
          "name": "stdout",
          "text": [
            "Point: [0, 0], Distance: 0\n",
            "Point: [0, 1], Distance: 3\n",
            "Point: [1, 1], Distance: 2\n",
            "Point: [1, 0], Distance: 1\n",
            "Point: [18000, 36000], Distance: 2051464618\n",
            "Point: [17999, 36000], Distance: 2051464789\n",
            "Point: [18000, 35999], Distance: 2051461717\n",
            "Point: [17999, 35999], Distance: 2051461546\n",
            "Point: [14346, 17777], Distance: 896614247\n"
          ]
        }
      ]
    },
    {
      "cell_type": "markdown",
      "source": [
        "The results are totally expected, it matches the existing hilbertcurve library and proves that the Hilbert Curve method works."
      ],
      "metadata": {
        "id": "lUEJV9mA2T6A"
      }
    },
    {
      "cell_type": "code",
      "source": [
        "# Calculate distances along the Hilbert curve for all points\n",
        "distances = []\n",
        "for point in points:\n",
        "  distances.append(Get_Hilbert_value(point, p))\n",
        "\n",
        "# Assign distances/Hilbert Value back to dataset\n",
        "df[\"hilbert_value\"] = distances\n",
        "\n",
        "# Group with timestamp_ms to create new geometry column\n",
        "df[\"hilb_geometry\"] = df.apply(lambda x: Point(x[\"hilbert_value\"], x[\"timestamp_ms\"]), axis=1)"
      ],
      "metadata": {
        "id": "8VVVIiQZ2bxt"
      },
      "execution_count": 204,
      "outputs": []
    },
    {
      "cell_type": "code",
      "source": [
        "df.head()"
      ],
      "metadata": {
        "colab": {
          "base_uri": "https://localhost:8080/",
          "height": 0
        },
        "id": "pQsr7iPo2kIB",
        "outputId": "b623501b-a953-4b4c-afeb-0ed2971327b7"
      },
      "execution_count": 205,
      "outputs": [
        {
          "output_type": "execute_result",
          "data": {
            "text/plain": [
              "           twitter_id   latitude   longitude                     country  \\\n",
              "0  888685771020009472  53.456952   -2.233480              United Kingdom   \n",
              "1  888685771208613889  28.377247  129.493744                          日本   \n",
              "2  888685771602878465  10.496000  -66.898300                   Venezuela   \n",
              "3  888685767148544001  22.869936  113.419725  People's Republic of China   \n",
              "4  888685770881368069  35.701657  139.709181                          日本   \n",
              "\n",
              "                            bounding_box_coordinates   timestamp_ms  \\\n",
              "0  [[-2.319934, 53.343623], [-2.319934, 53.570282...  1500714173451   \n",
              "1  [[129.343186, 28.193773], [129.343186, 28.5307...  1500714173496   \n",
              "2  [[-66.998581, 10.440464], [-66.998581, 10.5266...  1500714173590   \n",
              "3  [[109.664659, 20.221264], [109.664659, 25.5186...  1500714172528   \n",
              "4  [[139.673228, 35.673404], [139.673228, 35.7299...  1500714173418   \n",
              "\n",
              "                                 geometry  hilbert_value  \\\n",
              "0             POINT (53.4569525 -2.23348)      896614247   \n",
              "1            POINT (28.377247 129.493744)      823587783   \n",
              "2                 POINT (10.496 -66.8983)      147830008   \n",
              "3  POINT (22.869936000000003 113.4197245)      838232297   \n",
              "4           POINT (35.701657 139.7091805)      821689672   \n",
              "\n",
              "                     hilb_geometry  \n",
              "0  POINT (896614247 1500714173451)  \n",
              "1  POINT (823587783 1500714173496)  \n",
              "2  POINT (147830008 1500714173590)  \n",
              "3  POINT (838232297 1500714172528)  \n",
              "4  POINT (821689672 1500714173418)  "
            ],
            "text/html": [
              "\n",
              "  <div id=\"df-bad66106-7150-488c-9a72-db191ae129a6\" class=\"colab-df-container\">\n",
              "    <div>\n",
              "<style scoped>\n",
              "    .dataframe tbody tr th:only-of-type {\n",
              "        vertical-align: middle;\n",
              "    }\n",
              "\n",
              "    .dataframe tbody tr th {\n",
              "        vertical-align: top;\n",
              "    }\n",
              "\n",
              "    .dataframe thead th {\n",
              "        text-align: right;\n",
              "    }\n",
              "</style>\n",
              "<table border=\"1\" class=\"dataframe\">\n",
              "  <thead>\n",
              "    <tr style=\"text-align: right;\">\n",
              "      <th></th>\n",
              "      <th>twitter_id</th>\n",
              "      <th>latitude</th>\n",
              "      <th>longitude</th>\n",
              "      <th>country</th>\n",
              "      <th>bounding_box_coordinates</th>\n",
              "      <th>timestamp_ms</th>\n",
              "      <th>geometry</th>\n",
              "      <th>hilbert_value</th>\n",
              "      <th>hilb_geometry</th>\n",
              "    </tr>\n",
              "  </thead>\n",
              "  <tbody>\n",
              "    <tr>\n",
              "      <th>0</th>\n",
              "      <td>888685771020009472</td>\n",
              "      <td>53.456952</td>\n",
              "      <td>-2.233480</td>\n",
              "      <td>United Kingdom</td>\n",
              "      <td>[[-2.319934, 53.343623], [-2.319934, 53.570282...</td>\n",
              "      <td>1500714173451</td>\n",
              "      <td>POINT (53.4569525 -2.23348)</td>\n",
              "      <td>896614247</td>\n",
              "      <td>POINT (896614247 1500714173451)</td>\n",
              "    </tr>\n",
              "    <tr>\n",
              "      <th>1</th>\n",
              "      <td>888685771208613889</td>\n",
              "      <td>28.377247</td>\n",
              "      <td>129.493744</td>\n",
              "      <td>日本</td>\n",
              "      <td>[[129.343186, 28.193773], [129.343186, 28.5307...</td>\n",
              "      <td>1500714173496</td>\n",
              "      <td>POINT (28.377247 129.493744)</td>\n",
              "      <td>823587783</td>\n",
              "      <td>POINT (823587783 1500714173496)</td>\n",
              "    </tr>\n",
              "    <tr>\n",
              "      <th>2</th>\n",
              "      <td>888685771602878465</td>\n",
              "      <td>10.496000</td>\n",
              "      <td>-66.898300</td>\n",
              "      <td>Venezuela</td>\n",
              "      <td>[[-66.998581, 10.440464], [-66.998581, 10.5266...</td>\n",
              "      <td>1500714173590</td>\n",
              "      <td>POINT (10.496 -66.8983)</td>\n",
              "      <td>147830008</td>\n",
              "      <td>POINT (147830008 1500714173590)</td>\n",
              "    </tr>\n",
              "    <tr>\n",
              "      <th>3</th>\n",
              "      <td>888685767148544001</td>\n",
              "      <td>22.869936</td>\n",
              "      <td>113.419725</td>\n",
              "      <td>People's Republic of China</td>\n",
              "      <td>[[109.664659, 20.221264], [109.664659, 25.5186...</td>\n",
              "      <td>1500714172528</td>\n",
              "      <td>POINT (22.869936000000003 113.4197245)</td>\n",
              "      <td>838232297</td>\n",
              "      <td>POINT (838232297 1500714172528)</td>\n",
              "    </tr>\n",
              "    <tr>\n",
              "      <th>4</th>\n",
              "      <td>888685770881368069</td>\n",
              "      <td>35.701657</td>\n",
              "      <td>139.709181</td>\n",
              "      <td>日本</td>\n",
              "      <td>[[139.673228, 35.673404], [139.673228, 35.7299...</td>\n",
              "      <td>1500714173418</td>\n",
              "      <td>POINT (35.701657 139.7091805)</td>\n",
              "      <td>821689672</td>\n",
              "      <td>POINT (821689672 1500714173418)</td>\n",
              "    </tr>\n",
              "  </tbody>\n",
              "</table>\n",
              "</div>\n",
              "    <div class=\"colab-df-buttons\">\n",
              "\n",
              "  <div class=\"colab-df-container\">\n",
              "    <button class=\"colab-df-convert\" onclick=\"convertToInteractive('df-bad66106-7150-488c-9a72-db191ae129a6')\"\n",
              "            title=\"Convert this dataframe to an interactive table.\"\n",
              "            style=\"display:none;\">\n",
              "\n",
              "  <svg xmlns=\"http://www.w3.org/2000/svg\" height=\"24px\" viewBox=\"0 -960 960 960\">\n",
              "    <path d=\"M120-120v-720h720v720H120Zm60-500h600v-160H180v160Zm220 220h160v-160H400v160Zm0 220h160v-160H400v160ZM180-400h160v-160H180v160Zm440 0h160v-160H620v160ZM180-180h160v-160H180v160Zm440 0h160v-160H620v160Z\"/>\n",
              "  </svg>\n",
              "    </button>\n",
              "\n",
              "  <style>\n",
              "    .colab-df-container {\n",
              "      display:flex;\n",
              "      gap: 12px;\n",
              "    }\n",
              "\n",
              "    .colab-df-convert {\n",
              "      background-color: #E8F0FE;\n",
              "      border: none;\n",
              "      border-radius: 50%;\n",
              "      cursor: pointer;\n",
              "      display: none;\n",
              "      fill: #1967D2;\n",
              "      height: 32px;\n",
              "      padding: 0 0 0 0;\n",
              "      width: 32px;\n",
              "    }\n",
              "\n",
              "    .colab-df-convert:hover {\n",
              "      background-color: #E2EBFA;\n",
              "      box-shadow: 0px 1px 2px rgba(60, 64, 67, 0.3), 0px 1px 3px 1px rgba(60, 64, 67, 0.15);\n",
              "      fill: #174EA6;\n",
              "    }\n",
              "\n",
              "    .colab-df-buttons div {\n",
              "      margin-bottom: 4px;\n",
              "    }\n",
              "\n",
              "    [theme=dark] .colab-df-convert {\n",
              "      background-color: #3B4455;\n",
              "      fill: #D2E3FC;\n",
              "    }\n",
              "\n",
              "    [theme=dark] .colab-df-convert:hover {\n",
              "      background-color: #434B5C;\n",
              "      box-shadow: 0px 1px 3px 1px rgba(0, 0, 0, 0.15);\n",
              "      filter: drop-shadow(0px 1px 2px rgba(0, 0, 0, 0.3));\n",
              "      fill: #FFFFFF;\n",
              "    }\n",
              "  </style>\n",
              "\n",
              "    <script>\n",
              "      const buttonEl =\n",
              "        document.querySelector('#df-bad66106-7150-488c-9a72-db191ae129a6 button.colab-df-convert');\n",
              "      buttonEl.style.display =\n",
              "        google.colab.kernel.accessAllowed ? 'block' : 'none';\n",
              "\n",
              "      async function convertToInteractive(key) {\n",
              "        const element = document.querySelector('#df-bad66106-7150-488c-9a72-db191ae129a6');\n",
              "        const dataTable =\n",
              "          await google.colab.kernel.invokeFunction('convertToInteractive',\n",
              "                                                    [key], {});\n",
              "        if (!dataTable) return;\n",
              "\n",
              "        const docLinkHtml = 'Like what you see? Visit the ' +\n",
              "          '<a target=\"_blank\" href=https://colab.research.google.com/notebooks/data_table.ipynb>data table notebook</a>'\n",
              "          + ' to learn more about interactive tables.';\n",
              "        element.innerHTML = '';\n",
              "        dataTable['output_type'] = 'display_data';\n",
              "        await google.colab.output.renderOutput(dataTable, element);\n",
              "        const docLink = document.createElement('div');\n",
              "        docLink.innerHTML = docLinkHtml;\n",
              "        element.appendChild(docLink);\n",
              "      }\n",
              "    </script>\n",
              "  </div>\n",
              "\n",
              "\n",
              "<div id=\"df-07fb7d8f-8b5b-4933-a415-2823e9cbe662\">\n",
              "  <button class=\"colab-df-quickchart\" onclick=\"quickchart('df-07fb7d8f-8b5b-4933-a415-2823e9cbe662')\"\n",
              "            title=\"Suggest charts\"\n",
              "            style=\"display:none;\">\n",
              "\n",
              "<svg xmlns=\"http://www.w3.org/2000/svg\" height=\"24px\"viewBox=\"0 0 24 24\"\n",
              "     width=\"24px\">\n",
              "    <g>\n",
              "        <path d=\"M19 3H5c-1.1 0-2 .9-2 2v14c0 1.1.9 2 2 2h14c1.1 0 2-.9 2-2V5c0-1.1-.9-2-2-2zM9 17H7v-7h2v7zm4 0h-2V7h2v10zm4 0h-2v-4h2v4z\"/>\n",
              "    </g>\n",
              "</svg>\n",
              "  </button>\n",
              "\n",
              "<style>\n",
              "  .colab-df-quickchart {\n",
              "      --bg-color: #E8F0FE;\n",
              "      --fill-color: #1967D2;\n",
              "      --hover-bg-color: #E2EBFA;\n",
              "      --hover-fill-color: #174EA6;\n",
              "      --disabled-fill-color: #AAA;\n",
              "      --disabled-bg-color: #DDD;\n",
              "  }\n",
              "\n",
              "  [theme=dark] .colab-df-quickchart {\n",
              "      --bg-color: #3B4455;\n",
              "      --fill-color: #D2E3FC;\n",
              "      --hover-bg-color: #434B5C;\n",
              "      --hover-fill-color: #FFFFFF;\n",
              "      --disabled-bg-color: #3B4455;\n",
              "      --disabled-fill-color: #666;\n",
              "  }\n",
              "\n",
              "  .colab-df-quickchart {\n",
              "    background-color: var(--bg-color);\n",
              "    border: none;\n",
              "    border-radius: 50%;\n",
              "    cursor: pointer;\n",
              "    display: none;\n",
              "    fill: var(--fill-color);\n",
              "    height: 32px;\n",
              "    padding: 0;\n",
              "    width: 32px;\n",
              "  }\n",
              "\n",
              "  .colab-df-quickchart:hover {\n",
              "    background-color: var(--hover-bg-color);\n",
              "    box-shadow: 0 1px 2px rgba(60, 64, 67, 0.3), 0 1px 3px 1px rgba(60, 64, 67, 0.15);\n",
              "    fill: var(--button-hover-fill-color);\n",
              "  }\n",
              "\n",
              "  .colab-df-quickchart-complete:disabled,\n",
              "  .colab-df-quickchart-complete:disabled:hover {\n",
              "    background-color: var(--disabled-bg-color);\n",
              "    fill: var(--disabled-fill-color);\n",
              "    box-shadow: none;\n",
              "  }\n",
              "\n",
              "  .colab-df-spinner {\n",
              "    border: 2px solid var(--fill-color);\n",
              "    border-color: transparent;\n",
              "    border-bottom-color: var(--fill-color);\n",
              "    animation:\n",
              "      spin 1s steps(1) infinite;\n",
              "  }\n",
              "\n",
              "  @keyframes spin {\n",
              "    0% {\n",
              "      border-color: transparent;\n",
              "      border-bottom-color: var(--fill-color);\n",
              "      border-left-color: var(--fill-color);\n",
              "    }\n",
              "    20% {\n",
              "      border-color: transparent;\n",
              "      border-left-color: var(--fill-color);\n",
              "      border-top-color: var(--fill-color);\n",
              "    }\n",
              "    30% {\n",
              "      border-color: transparent;\n",
              "      border-left-color: var(--fill-color);\n",
              "      border-top-color: var(--fill-color);\n",
              "      border-right-color: var(--fill-color);\n",
              "    }\n",
              "    40% {\n",
              "      border-color: transparent;\n",
              "      border-right-color: var(--fill-color);\n",
              "      border-top-color: var(--fill-color);\n",
              "    }\n",
              "    60% {\n",
              "      border-color: transparent;\n",
              "      border-right-color: var(--fill-color);\n",
              "    }\n",
              "    80% {\n",
              "      border-color: transparent;\n",
              "      border-right-color: var(--fill-color);\n",
              "      border-bottom-color: var(--fill-color);\n",
              "    }\n",
              "    90% {\n",
              "      border-color: transparent;\n",
              "      border-bottom-color: var(--fill-color);\n",
              "    }\n",
              "  }\n",
              "</style>\n",
              "\n",
              "  <script>\n",
              "    async function quickchart(key) {\n",
              "      const quickchartButtonEl =\n",
              "        document.querySelector('#' + key + ' button');\n",
              "      quickchartButtonEl.disabled = true;  // To prevent multiple clicks.\n",
              "      quickchartButtonEl.classList.add('colab-df-spinner');\n",
              "      try {\n",
              "        const charts = await google.colab.kernel.invokeFunction(\n",
              "            'suggestCharts', [key], {});\n",
              "      } catch (error) {\n",
              "        console.error('Error during call to suggestCharts:', error);\n",
              "      }\n",
              "      quickchartButtonEl.classList.remove('colab-df-spinner');\n",
              "      quickchartButtonEl.classList.add('colab-df-quickchart-complete');\n",
              "    }\n",
              "    (() => {\n",
              "      let quickchartButtonEl =\n",
              "        document.querySelector('#df-07fb7d8f-8b5b-4933-a415-2823e9cbe662 button');\n",
              "      quickchartButtonEl.style.display =\n",
              "        google.colab.kernel.accessAllowed ? 'block' : 'none';\n",
              "    })();\n",
              "  </script>\n",
              "</div>\n",
              "\n",
              "    </div>\n",
              "  </div>\n"
            ],
            "application/vnd.google.colaboratory.intrinsic+json": {
              "type": "dataframe",
              "variable_name": "df",
              "summary": "{\n  \"name\": \"df\",\n  \"rows\": 98321,\n  \"fields\": [\n    {\n      \"column\": \"twitter_id\",\n      \"properties\": {\n        \"dtype\": \"string\",\n        \"num_unique_values\": 98314,\n        \"samples\": [\n          \"888693397178941440\",\n          \"888686361099849728\",\n          \"888695126939361281\"\n        ],\n        \"semantic_type\": \"\",\n        \"description\": \"\"\n      }\n    },\n    {\n      \"column\": \"latitude\",\n      \"properties\": {\n        \"dtype\": \"number\",\n        \"std\": 24.278920765180565,\n        \"min\": -89.43579825,\n        \"max\": 78.62645647,\n        \"num_unique_values\": 28179,\n        \"samples\": [\n          -28.762956,\n          -32.25103,\n          39.216885500000004\n        ],\n        \"semantic_type\": \"\",\n        \"description\": \"\"\n      }\n    },\n    {\n      \"column\": \"longitude\",\n      \"properties\": {\n        \"dtype\": \"number\",\n        \"std\": 78.91005176994298,\n        \"min\": -178.72606449,\n        \"max\": 178.45017672,\n        \"num_unique_values\": 28210,\n        \"samples\": [\n          132.76184775,\n          29.05390263,\n          131.0645745\n        ],\n        \"semantic_type\": \"\",\n        \"description\": \"\"\n      }\n    },\n    {\n      \"column\": \"country\",\n      \"properties\": {\n        \"dtype\": \"category\",\n        \"num_unique_values\": 444,\n        \"samples\": [\n          \"Germania\",\n          \"\\uc77c\\ubcf8\",\n          \"\\u0411\\u0435\\u043b\\u0430\\u0440\\u0443\\u0441\\u044c\"\n        ],\n        \"semantic_type\": \"\",\n        \"description\": \"\"\n      }\n    },\n    {\n      \"column\": \"bounding_box_coordinates\",\n      \"properties\": {\n        \"dtype\": \"object\",\n        \"semantic_type\": \"\",\n        \"description\": \"\"\n      }\n    },\n    {\n      \"column\": \"timestamp_ms\",\n      \"properties\": {\n        \"dtype\": \"string\",\n        \"num_unique_values\": 96528,\n        \"samples\": [\n          \"1500714660201\",\n          \"1500714641520\",\n          \"1500716491402\"\n        ],\n        \"semantic_type\": \"\",\n        \"description\": \"\"\n      }\n    },\n    {\n      \"column\": \"geometry\",\n      \"properties\": {\n        \"dtype\": \"category\",\n        \"num_unique_values\": 28335,\n        \"samples\": [\n          \"POINT (18.408172 98.87009)\",\n          \"POINT (52.060565 1.2748055)\",\n          \"POINT (34.471602000000004 -81.873955)\"\n        ],\n        \"semantic_type\": \"\",\n        \"description\": \"\"\n      }\n    },\n    {\n      \"column\": \"hilbert_value\",\n      \"properties\": {\n        \"dtype\": \"number\",\n        \"std\": 293929930,\n        \"min\": 10456075,\n        \"max\": 1171336461,\n        \"num_unique_values\": 23810,\n        \"samples\": [\n          102313628,\n          818132422,\n          821703086\n        ],\n        \"semantic_type\": \"\",\n        \"description\": \"\"\n      }\n    },\n    {\n      \"column\": \"hilb_geometry\",\n      \"properties\": {\n        \"dtype\": \"string\",\n        \"num_unique_values\": 98307,\n        \"samples\": [\n          \"POINT (896633101 1500714986681)\",\n          \"POINT (833288524 1500714384547)\",\n          \"POINT (903906666 1500716215355)\"\n        ],\n        \"semantic_type\": \"\",\n        \"description\": \"\"\n      }\n    }\n  ]\n}"
            }
          },
          "metadata": {},
          "execution_count": 205
        }
      ]
    },
    {
      "cell_type": "markdown",
      "source": [
        "## Partition and Index the data"
      ],
      "metadata": {
        "id": "Vp59AiE1NU0P"
      }
    },
    {
      "cell_type": "code",
      "source": [
        "# Convert pandas DataFrame to spark DataFrame\n",
        "spark_df = spark.createDataFrame(df)"
      ],
      "metadata": {
        "id": "KuH_u40ZNWSY"
      },
      "execution_count": 206,
      "outputs": []
    },
    {
      "cell_type": "code",
      "source": [
        "# Check Spark DataFrame\n",
        "spark_df.show()"
      ],
      "metadata": {
        "colab": {
          "base_uri": "https://localhost:8080/"
        },
        "id": "4hrPEi5qNxOG",
        "outputId": "a03b9a70-2ab7-4cd9-85c0-55d3c6dfb270"
      },
      "execution_count": 207,
      "outputs": [
        {
          "output_type": "stream",
          "name": "stdout",
          "text": [
            "+------------------+------------------+-------------------+--------------------+------------------------+-------------+--------------------+-------------+--------------------+\n",
            "|        twitter_id|          latitude|          longitude|             country|bounding_box_coordinates| timestamp_ms|            geometry|hilbert_value|       hilb_geometry|\n",
            "+------------------+------------------+-------------------+--------------------+------------------------+-------------+--------------------+-------------+--------------------+\n",
            "|888685771020009472|        53.4569525|           -2.23348|      United Kingdom|    [[-2.319934, 53.3...|1500714173451|POINT (53.4569525...|    896614247|POINT (896614247 ...|\n",
            "|888685771208613889|         28.377247|         129.493744|                日本|    [[129.343186, 28....|1500714173496|POINT (28.377247 ...|    823587783|POINT (823587783 ...|\n",
            "|888685771602878465|            10.496|           -66.8983|           Venezuela|    [[-66.998581, 10....|1500714173590|POINT (10.496 -66...|    147830008|POINT (147830008 ...|\n",
            "|888685767148544001|22.869936000000003|        113.4197245|People's Republic...|    [[109.664659, 20....|1500714172528|POINT (22.8699360...|    838232297|POINT (838232297 ...|\n",
            "|888685770881368069|         35.701657|        139.7091805|                日本|    [[139.673228, 35....|1500714173418|POINT (35.701657 ...|    821689672|POINT (821689672 ...|\n",
            "|888685769400791041|          35.67375|         139.716598|                日本|    [[139.716598, 35....|1500714173065|POINT (35.67375 1...|    821689647|POINT (821689647 ...|\n",
            "|888685771745636353|18.817911000000002|          76.771244|               India|    [[72.64293, 15.60...|1500714173624|POINT (18.8179110...|    853463133|POINT (853463133 ...|\n",
            "|888685771863068673|         46.226715| 2.2091190000000003|              France|    [[-5.141593, 41.3...|1500714173652|POINT (46.226715 ...|    897885037|POINT (897885037 ...|\n",
            "|888685772219576320|         38.236216|-0.6463220000000001|              España|    [[-0.782491, 38.1...|1500714173737|POINT (38.236216 ...|    901251519|POINT (901251519 ...|\n",
            "|888685771846189056|         15.552757|          48.174765|               Yemen|    [[41.815344, 12.1...|1500714173648|POINT (15.552757 ...|    931268940|POINT (931268940 ...|\n",
            "|888685772227915777|        38.9566025|           35.24322|             Türkiye|    [[25.668509, 35.8...|1500714173739|POINT (38.9566025...|    882654522|POINT (882654522 ...|\n",
            "|888685772575883264|        14.4480255| 120.90750299999999|Republic of the P...|    [[120.883855, 14....|1500714173822|POINT (14.4480255...|    835924148|POINT (835924148 ...|\n",
            "|888685772701814784|         28.377247|         129.493744|                日本|    [[129.343186, 28....|1500714173852|POINT (28.377247 ...|    823587783|POINT (823587783 ...|\n",
            "|888685772441780224|51.457876999999996|-2.5853900000000003|      United Kingdom|    [[-2.659936, 51.3...|1500714173790|POINT (51.4578769...|    898506999|POINT (898506999 ...|\n",
            "|888685772659871744|      -34.85916667|       149.69333333|           Australia|    [[149.606253, -34...|1500714173842|POINT (-34.859166...|   1135721005|POINT (1135721005...|\n",
            "|888685772680941568|        53.4368015|         -2.5511835|      United Kingdom|    [[-2.559912, 53.4...|1500714173847|POINT (53.4368015...|    896613187|POINT (896613187 ...|\n",
            "|888685772366376960|          37.32551|         -121.94462|       United States|    [[-122.035311, 37...|1500714173772|POINT (37.32551 -...|    213721357|POINT (213721357 ...|\n",
            "|888685772961849344|31.279915000000003| 121.41581099999999|      中华人民共和国|    [[120.858322, 30....|1500714173914|POINT (31.2799150...|    837606396|POINT (837606396 ...|\n",
            "|888685773121138689|         34.133783|         -118.03082|       United States|    [[-118.06946, 34....|1500714173952|POINT (34.133783 ...|    213916258|POINT (213916258 ...|\n",
            "|888685772810981376|46.441860500000004|        -93.3613205|       United States|    [[-97.239256, 43....|1500714173878|POINT (46.4418605...|    196266266|POINT (196266266 ...|\n",
            "+------------------+------------------+-------------------+--------------------+------------------------+-------------+--------------------+-------------+--------------------+\n",
            "only showing top 20 rows\n",
            "\n"
          ]
        }
      ]
    },
    {
      "cell_type": "code",
      "source": [
        "# Create a temporary SQL view from Spark Dataframe\n",
        "spark_df.createOrReplaceTempView(\"twitter\")"
      ],
      "metadata": {
        "id": "XD5beV7VNxj8"
      },
      "execution_count": 208,
      "outputs": []
    },
    {
      "cell_type": "code",
      "source": [
        "# Create SedonaSQL DataFrame\n",
        "# We will only take Spatio-temporal data and an identifier for each data point\n",
        "# We have now converted spatiotemporal point (xy, t) into 2D point (h_value, t)\n",
        "spatial_df = spark.sql(\n",
        "    \"\"\"\n",
        "        SELECT twitter_id, hilb_geometry\n",
        "        FROM twitter\n",
        "    \"\"\"\n",
        ")\n",
        "spatial_df.printSchema()"
      ],
      "metadata": {
        "colab": {
          "base_uri": "https://localhost:8080/"
        },
        "id": "AURib_-RN81k",
        "outputId": "83cfbfa4-f221-4b92-f7b0-164342e625d5"
      },
      "execution_count": 209,
      "outputs": [
        {
          "output_type": "stream",
          "name": "stdout",
          "text": [
            "root\n",
            " |-- twitter_id: string (nullable = true)\n",
            " |-- hilb_geometry: geometry (nullable = true)\n",
            "\n"
          ]
        }
      ]
    },
    {
      "cell_type": "code",
      "source": [
        "# We will use SedonaSQL DataFrame-RDD Adapter to convert a DataFrame to an SpatialRDD\n",
        "# SpatialRDD carry non-spatial attributes, twitter_id and timestamp_ms are in the UserData, separated by \"\\t\"\n",
        "spatial_rdd = Adapter.toSpatialRdd(spatial_df, \"hilb_geometry\")\n",
        "spatial_rdd.analyze()\n",
        "\n",
        "# spatial_rdd.boundaryEnvelope"
      ],
      "metadata": {
        "colab": {
          "base_uri": "https://localhost:8080/"
        },
        "id": "Gnuq-ViJOR--",
        "outputId": "ea07e8dc-18f0-44f0-b231-a210683d2a88"
      },
      "execution_count": 210,
      "outputs": [
        {
          "output_type": "execute_result",
          "data": {
            "text/plain": [
              "True"
            ]
          },
          "metadata": {},
          "execution_count": 210
        }
      ]
    },
    {
      "cell_type": "code",
      "source": [
        "# We can check our UserData() field here\n",
        "# Should only have an data point identifier, which is the twitter ID\n",
        "spatial_rdd.rawSpatialRDD.map(lambda x: x.getUserData()).take(1)"
      ],
      "metadata": {
        "colab": {
          "base_uri": "https://localhost:8080/"
        },
        "id": "nUFLiEVoOYVJ",
        "outputId": "c673863c-7fed-45a0-9a80-e101de6c2fff"
      },
      "execution_count": 211,
      "outputs": [
        {
          "output_type": "execute_result",
          "data": {
            "text/plain": [
              "['888685771020009472']"
            ]
          },
          "metadata": {},
          "execution_count": 211
        }
      ]
    },
    {
      "cell_type": "code",
      "source": [
        "# Use spatialPartitioning function to partition the data across the nodes\n",
        "# GridType does not have RTREE, we use default KDBTREE\n",
        "spatial_rdd.spatialPartitioning(GridType.KDBTREE)\n",
        "# Check if partition is successful\n",
        "print(spatial_rdd.getPartitioner())"
      ],
      "metadata": {
        "colab": {
          "base_uri": "https://localhost:8080/"
        },
        "id": "RkCX2dFEOdTw",
        "outputId": "a70f1c47-afed-4177-9f08-64d13b0ff732"
      },
      "execution_count": 212,
      "outputs": [
        {
          "output_type": "stream",
          "name": "stdout",
          "text": [
            "SpatialPartitioner(name='KDBTreePartitioner', jvm_partitioner=JavaObject id=o371)\n"
          ]
        }
      ]
    },
    {
      "cell_type": "code",
      "source": [
        "# Build an R-Tree index on each data partition\n",
        "# RDD will be indexed based on spatial coordinates\n",
        "# According to Laila, we don't need to run join query\n",
        "build_on_spatial_partitioned_rdd = False ## Set to TRUE only if run join query\n",
        "spatial_rdd.buildIndex(IndexType.RTREE, build_on_spatial_partitioned_rdd)"
      ],
      "metadata": {
        "id": "89ltcZUrOguL"
      },
      "execution_count": 213,
      "outputs": []
    },
    {
      "cell_type": "markdown",
      "source": [
        "## Run Range query with time lter on the data"
      ],
      "metadata": {
        "id": "OiPsicdcOnHe"
      }
    },
    {
      "cell_type": "markdown",
      "source": [
        "### Filter Step: Enlarge the query, convert corners to Hilbert Value and run range query"
      ],
      "metadata": {
        "id": "jEtm6yJiQOEf"
      }
    },
    {
      "cell_type": "code",
      "source": [
        "# We want to match our previous range query\n",
        "# Which has:\n",
        "# Latitude range\n",
        "# x_min: 18.198, x_max: 53.459\n",
        "# Longitude range\n",
        "# y_min: 73.675, y_max = 135.026\n",
        "# Timestamp range\n",
        "# t_min: 1500714201569, t_max: 1500715081002\n",
        "\n",
        "# Since our grid are with two decimal space\n",
        "# The smallest enclosing rectangle should have corner:\n",
        "high_point = (53.46, 135.03)\n",
        "low_point = (18.19, 73.67)"
      ],
      "metadata": {
        "id": "ehXDHg75OzpX"
      },
      "execution_count": 214,
      "outputs": []
    },
    {
      "cell_type": "code",
      "source": [
        "# Normalize the points\n",
        "high_point = list(normalize(high_point))\n",
        "low_point = list(normalize(low_point))"
      ],
      "metadata": {
        "id": "0io0nzo-SSYl"
      },
      "execution_count": 215,
      "outputs": []
    },
    {
      "cell_type": "code",
      "source": [
        "print(\"For normalized high point:\", high_point, \", its corresponding Hilbert Value is:\", Get_Hilbert_value(high_point, p))\n",
        "print(\"For normalized low point:\", low_point, \", its corresponding Hilbert Value is:\", Get_Hilbert_value(low_point, p))"
      ],
      "metadata": {
        "colab": {
          "base_uri": "https://localhost:8080/"
        },
        "id": "qwneQ1RDkQ84",
        "outputId": "2ed6d2e8-3cec-46d5-df8f-a8acc6c2efdc"
      },
      "execution_count": 216,
      "outputs": [
        {
          "output_type": "stream",
          "name": "stdout",
          "text": [
            "For normalized high point: [14346, 31502] , its corresponding Hilbert Value is: 807774776\n",
            "For normalized low point: [10819, 25367] , its corresponding Hilbert Value is: 852204314\n"
          ]
        }
      ]
    },
    {
      "cell_type": "code",
      "source": [
        "# Envelope (x_min, x_max, y_min, y_max)\n",
        "# We will try cover China\n",
        "# We will replace range with:\n",
        "# x: Hilbert Value, y: timestamp\n",
        "range_query_window = Envelope(807774776, 852204314, 1500714201569, 1500715081002)\n",
        "# Only return gemeotries fully covered by the window\n",
        "consider_boundary_intersection = False\n",
        "using_index = True\n",
        "\n",
        "query_start = timeit.default_timer()\n",
        "query_result = RangeQuery.SpatialRangeQuery(\n",
        "    spatial_rdd,\n",
        "    range_query_window,\n",
        "    consider_boundary_intersection,\n",
        "    using_index\n",
        ")\n",
        "query_end = timeit.default_timer()\n",
        "# Get query time for querying through spatiotemporal data\n",
        "query_time = query_end - query_start"
      ],
      "metadata": {
        "id": "olyot3AxOwdZ"
      },
      "execution_count": 217,
      "outputs": []
    },
    {
      "cell_type": "code",
      "source": [
        "# Transforme query result to GeoPandas GeoDataFrame for better interpretation\n",
        "new_geo_df = gpd.GeoDataFrame(\n",
        "    # We will split the userData back to twitter_id and timestamp_ms\n",
        "    # And here, we will change timestamp_ms's type to int\n",
        "    query_result.map(lambda pt: [pt.userData, int(pt.geom.x), int(pt.geom.y)]).collect(),\n",
        "    columns=[\"twitter_id\", \"hilb_value\", \"timestamp\"]\n",
        ")"
      ],
      "metadata": {
        "id": "wU1ghWR2T2EA"
      },
      "execution_count": 218,
      "outputs": []
    },
    {
      "cell_type": "code",
      "source": [
        "new_geo_df.head()"
      ],
      "metadata": {
        "colab": {
          "base_uri": "https://localhost:8080/",
          "height": 206
        },
        "id": "1rVM62gfUG0y",
        "outputId": "3c87dcb5-78de-4c1c-bcb8-1f0a4e84a118"
      },
      "execution_count": 219,
      "outputs": [
        {
          "output_type": "execute_result",
          "data": {
            "text/plain": [
              "           twitter_id  hilb_value      timestamp\n",
              "0  888685908450353152   833258361  1500714206217\n",
              "1  888685913240293377   833002040  1500714207359\n",
              "2  888685915018809345   831409330  1500714207783\n",
              "3  888685889349705729   821705912  1500714201663\n",
              "4  888685903706640384   823427275  1500714205086"
            ],
            "text/html": [
              "\n",
              "  <div id=\"df-c60beca2-342e-4e3a-a306-4ddde3f692e4\" class=\"colab-df-container\">\n",
              "    <div>\n",
              "<style scoped>\n",
              "    .dataframe tbody tr th:only-of-type {\n",
              "        vertical-align: middle;\n",
              "    }\n",
              "\n",
              "    .dataframe tbody tr th {\n",
              "        vertical-align: top;\n",
              "    }\n",
              "\n",
              "    .dataframe thead th {\n",
              "        text-align: right;\n",
              "    }\n",
              "</style>\n",
              "<table border=\"1\" class=\"dataframe\">\n",
              "  <thead>\n",
              "    <tr style=\"text-align: right;\">\n",
              "      <th></th>\n",
              "      <th>twitter_id</th>\n",
              "      <th>hilb_value</th>\n",
              "      <th>timestamp</th>\n",
              "    </tr>\n",
              "  </thead>\n",
              "  <tbody>\n",
              "    <tr>\n",
              "      <th>0</th>\n",
              "      <td>888685908450353152</td>\n",
              "      <td>833258361</td>\n",
              "      <td>1500714206217</td>\n",
              "    </tr>\n",
              "    <tr>\n",
              "      <th>1</th>\n",
              "      <td>888685913240293377</td>\n",
              "      <td>833002040</td>\n",
              "      <td>1500714207359</td>\n",
              "    </tr>\n",
              "    <tr>\n",
              "      <th>2</th>\n",
              "      <td>888685915018809345</td>\n",
              "      <td>831409330</td>\n",
              "      <td>1500714207783</td>\n",
              "    </tr>\n",
              "    <tr>\n",
              "      <th>3</th>\n",
              "      <td>888685889349705729</td>\n",
              "      <td>821705912</td>\n",
              "      <td>1500714201663</td>\n",
              "    </tr>\n",
              "    <tr>\n",
              "      <th>4</th>\n",
              "      <td>888685903706640384</td>\n",
              "      <td>823427275</td>\n",
              "      <td>1500714205086</td>\n",
              "    </tr>\n",
              "  </tbody>\n",
              "</table>\n",
              "</div>\n",
              "    <div class=\"colab-df-buttons\">\n",
              "\n",
              "  <div class=\"colab-df-container\">\n",
              "    <button class=\"colab-df-convert\" onclick=\"convertToInteractive('df-c60beca2-342e-4e3a-a306-4ddde3f692e4')\"\n",
              "            title=\"Convert this dataframe to an interactive table.\"\n",
              "            style=\"display:none;\">\n",
              "\n",
              "  <svg xmlns=\"http://www.w3.org/2000/svg\" height=\"24px\" viewBox=\"0 -960 960 960\">\n",
              "    <path d=\"M120-120v-720h720v720H120Zm60-500h600v-160H180v160Zm220 220h160v-160H400v160Zm0 220h160v-160H400v160ZM180-400h160v-160H180v160Zm440 0h160v-160H620v160ZM180-180h160v-160H180v160Zm440 0h160v-160H620v160Z\"/>\n",
              "  </svg>\n",
              "    </button>\n",
              "\n",
              "  <style>\n",
              "    .colab-df-container {\n",
              "      display:flex;\n",
              "      gap: 12px;\n",
              "    }\n",
              "\n",
              "    .colab-df-convert {\n",
              "      background-color: #E8F0FE;\n",
              "      border: none;\n",
              "      border-radius: 50%;\n",
              "      cursor: pointer;\n",
              "      display: none;\n",
              "      fill: #1967D2;\n",
              "      height: 32px;\n",
              "      padding: 0 0 0 0;\n",
              "      width: 32px;\n",
              "    }\n",
              "\n",
              "    .colab-df-convert:hover {\n",
              "      background-color: #E2EBFA;\n",
              "      box-shadow: 0px 1px 2px rgba(60, 64, 67, 0.3), 0px 1px 3px 1px rgba(60, 64, 67, 0.15);\n",
              "      fill: #174EA6;\n",
              "    }\n",
              "\n",
              "    .colab-df-buttons div {\n",
              "      margin-bottom: 4px;\n",
              "    }\n",
              "\n",
              "    [theme=dark] .colab-df-convert {\n",
              "      background-color: #3B4455;\n",
              "      fill: #D2E3FC;\n",
              "    }\n",
              "\n",
              "    [theme=dark] .colab-df-convert:hover {\n",
              "      background-color: #434B5C;\n",
              "      box-shadow: 0px 1px 3px 1px rgba(0, 0, 0, 0.15);\n",
              "      filter: drop-shadow(0px 1px 2px rgba(0, 0, 0, 0.3));\n",
              "      fill: #FFFFFF;\n",
              "    }\n",
              "  </style>\n",
              "\n",
              "    <script>\n",
              "      const buttonEl =\n",
              "        document.querySelector('#df-c60beca2-342e-4e3a-a306-4ddde3f692e4 button.colab-df-convert');\n",
              "      buttonEl.style.display =\n",
              "        google.colab.kernel.accessAllowed ? 'block' : 'none';\n",
              "\n",
              "      async function convertToInteractive(key) {\n",
              "        const element = document.querySelector('#df-c60beca2-342e-4e3a-a306-4ddde3f692e4');\n",
              "        const dataTable =\n",
              "          await google.colab.kernel.invokeFunction('convertToInteractive',\n",
              "                                                    [key], {});\n",
              "        if (!dataTable) return;\n",
              "\n",
              "        const docLinkHtml = 'Like what you see? Visit the ' +\n",
              "          '<a target=\"_blank\" href=https://colab.research.google.com/notebooks/data_table.ipynb>data table notebook</a>'\n",
              "          + ' to learn more about interactive tables.';\n",
              "        element.innerHTML = '';\n",
              "        dataTable['output_type'] = 'display_data';\n",
              "        await google.colab.output.renderOutput(dataTable, element);\n",
              "        const docLink = document.createElement('div');\n",
              "        docLink.innerHTML = docLinkHtml;\n",
              "        element.appendChild(docLink);\n",
              "      }\n",
              "    </script>\n",
              "  </div>\n",
              "\n",
              "\n",
              "<div id=\"df-8c0995c7-a992-4520-86ee-b2798f12ce7b\">\n",
              "  <button class=\"colab-df-quickchart\" onclick=\"quickchart('df-8c0995c7-a992-4520-86ee-b2798f12ce7b')\"\n",
              "            title=\"Suggest charts\"\n",
              "            style=\"display:none;\">\n",
              "\n",
              "<svg xmlns=\"http://www.w3.org/2000/svg\" height=\"24px\"viewBox=\"0 0 24 24\"\n",
              "     width=\"24px\">\n",
              "    <g>\n",
              "        <path d=\"M19 3H5c-1.1 0-2 .9-2 2v14c0 1.1.9 2 2 2h14c1.1 0 2-.9 2-2V5c0-1.1-.9-2-2-2zM9 17H7v-7h2v7zm4 0h-2V7h2v10zm4 0h-2v-4h2v4z\"/>\n",
              "    </g>\n",
              "</svg>\n",
              "  </button>\n",
              "\n",
              "<style>\n",
              "  .colab-df-quickchart {\n",
              "      --bg-color: #E8F0FE;\n",
              "      --fill-color: #1967D2;\n",
              "      --hover-bg-color: #E2EBFA;\n",
              "      --hover-fill-color: #174EA6;\n",
              "      --disabled-fill-color: #AAA;\n",
              "      --disabled-bg-color: #DDD;\n",
              "  }\n",
              "\n",
              "  [theme=dark] .colab-df-quickchart {\n",
              "      --bg-color: #3B4455;\n",
              "      --fill-color: #D2E3FC;\n",
              "      --hover-bg-color: #434B5C;\n",
              "      --hover-fill-color: #FFFFFF;\n",
              "      --disabled-bg-color: #3B4455;\n",
              "      --disabled-fill-color: #666;\n",
              "  }\n",
              "\n",
              "  .colab-df-quickchart {\n",
              "    background-color: var(--bg-color);\n",
              "    border: none;\n",
              "    border-radius: 50%;\n",
              "    cursor: pointer;\n",
              "    display: none;\n",
              "    fill: var(--fill-color);\n",
              "    height: 32px;\n",
              "    padding: 0;\n",
              "    width: 32px;\n",
              "  }\n",
              "\n",
              "  .colab-df-quickchart:hover {\n",
              "    background-color: var(--hover-bg-color);\n",
              "    box-shadow: 0 1px 2px rgba(60, 64, 67, 0.3), 0 1px 3px 1px rgba(60, 64, 67, 0.15);\n",
              "    fill: var(--button-hover-fill-color);\n",
              "  }\n",
              "\n",
              "  .colab-df-quickchart-complete:disabled,\n",
              "  .colab-df-quickchart-complete:disabled:hover {\n",
              "    background-color: var(--disabled-bg-color);\n",
              "    fill: var(--disabled-fill-color);\n",
              "    box-shadow: none;\n",
              "  }\n",
              "\n",
              "  .colab-df-spinner {\n",
              "    border: 2px solid var(--fill-color);\n",
              "    border-color: transparent;\n",
              "    border-bottom-color: var(--fill-color);\n",
              "    animation:\n",
              "      spin 1s steps(1) infinite;\n",
              "  }\n",
              "\n",
              "  @keyframes spin {\n",
              "    0% {\n",
              "      border-color: transparent;\n",
              "      border-bottom-color: var(--fill-color);\n",
              "      border-left-color: var(--fill-color);\n",
              "    }\n",
              "    20% {\n",
              "      border-color: transparent;\n",
              "      border-left-color: var(--fill-color);\n",
              "      border-top-color: var(--fill-color);\n",
              "    }\n",
              "    30% {\n",
              "      border-color: transparent;\n",
              "      border-left-color: var(--fill-color);\n",
              "      border-top-color: var(--fill-color);\n",
              "      border-right-color: var(--fill-color);\n",
              "    }\n",
              "    40% {\n",
              "      border-color: transparent;\n",
              "      border-right-color: var(--fill-color);\n",
              "      border-top-color: var(--fill-color);\n",
              "    }\n",
              "    60% {\n",
              "      border-color: transparent;\n",
              "      border-right-color: var(--fill-color);\n",
              "    }\n",
              "    80% {\n",
              "      border-color: transparent;\n",
              "      border-right-color: var(--fill-color);\n",
              "      border-bottom-color: var(--fill-color);\n",
              "    }\n",
              "    90% {\n",
              "      border-color: transparent;\n",
              "      border-bottom-color: var(--fill-color);\n",
              "    }\n",
              "  }\n",
              "</style>\n",
              "\n",
              "  <script>\n",
              "    async function quickchart(key) {\n",
              "      const quickchartButtonEl =\n",
              "        document.querySelector('#' + key + ' button');\n",
              "      quickchartButtonEl.disabled = true;  // To prevent multiple clicks.\n",
              "      quickchartButtonEl.classList.add('colab-df-spinner');\n",
              "      try {\n",
              "        const charts = await google.colab.kernel.invokeFunction(\n",
              "            'suggestCharts', [key], {});\n",
              "      } catch (error) {\n",
              "        console.error('Error during call to suggestCharts:', error);\n",
              "      }\n",
              "      quickchartButtonEl.classList.remove('colab-df-spinner');\n",
              "      quickchartButtonEl.classList.add('colab-df-quickchart-complete');\n",
              "    }\n",
              "    (() => {\n",
              "      let quickchartButtonEl =\n",
              "        document.querySelector('#df-8c0995c7-a992-4520-86ee-b2798f12ce7b button');\n",
              "      quickchartButtonEl.style.display =\n",
              "        google.colab.kernel.accessAllowed ? 'block' : 'none';\n",
              "    })();\n",
              "  </script>\n",
              "</div>\n",
              "\n",
              "    </div>\n",
              "  </div>\n"
            ],
            "application/vnd.google.colaboratory.intrinsic+json": {
              "type": "dataframe",
              "variable_name": "new_geo_df",
              "summary": "{\n  \"name\": \"new_geo_df\",\n  \"rows\": 9970,\n  \"fields\": [\n    {\n      \"column\": \"twitter_id\",\n      \"properties\": {\n        \"dtype\": \"string\",\n        \"num_unique_values\": 9969,\n        \"samples\": [\n          \"888686373913337858\",\n          \"888688643623223296\",\n          \"888689391559823360\"\n        ],\n        \"semantic_type\": \"\",\n        \"description\": \"\"\n      }\n    },\n    {\n      \"column\": \"hilb_value\",\n      \"properties\": {\n        \"dtype\": \"number\",\n        \"std\": 10259481,\n        \"min\": 808403268,\n        \"max\": 852203436,\n        \"num_unique_values\": 3754,\n        \"samples\": [\n          823401642,\n          818268321,\n          852005590\n        ],\n        \"semantic_type\": \"\",\n        \"description\": \"\"\n      }\n    },\n    {\n      \"column\": \"timestamp\",\n      \"properties\": {\n        \"dtype\": \"number\",\n        \"std\": 254581,\n        \"min\": 1500714201599,\n        \"max\": 1500715080944,\n        \"num_unique_values\": 9911,\n        \"samples\": [\n          1500714957875,\n          1500714713282,\n          1500714259421\n        ],\n        \"semantic_type\": \"\",\n        \"description\": \"\"\n      }\n    }\n  ]\n}"
            }
          },
          "metadata": {},
          "execution_count": 219
        }
      ]
    },
    {
      "cell_type": "code",
      "source": [
        "new_geo_df.shape"
      ],
      "metadata": {
        "colab": {
          "base_uri": "https://localhost:8080/"
        },
        "id": "3bxJdC12UMUj",
        "outputId": "87d2d6b6-26e2-46da-ef45-2fb90af33eaa"
      },
      "execution_count": 220,
      "outputs": [
        {
          "output_type": "execute_result",
          "data": {
            "text/plain": [
              "(9970, 3)"
            ]
          },
          "metadata": {},
          "execution_count": 220
        }
      ]
    },
    {
      "cell_type": "markdown",
      "source": [
        "We can see that the results it provided does not exactly match our previous result, so we will need a refinement/validation step to remove all the false positives"
      ],
      "metadata": {
        "id": "jYl6Rz9AUZzF"
      }
    },
    {
      "cell_type": "markdown",
      "source": [
        "### Refinement Step: Convert result values back and remove false positive"
      ],
      "metadata": {
        "id": "Ne-v7zG4Q-4I"
      }
    },
    {
      "cell_type": "code",
      "source": [
        "# Denormalize the input coordinates\n",
        "# Input will be in form: (latitude, longitude)\n",
        "# We will use this function to reverse the normalize step\n",
        "def denormalize(point):\n",
        "  # Decrement latitude by 90\n",
        "  # Decrement longtitude by 180\n",
        "  latitude = point[0]\n",
        "  longitude = point[1]\n",
        "  latitude = float(Decimal(latitude / 100).quantize(Decimal(\"0.01\"), rounding = ROUND_HALF_UP) - Decimal(\"90.00\"))\n",
        "  longitude = float(Decimal(longitude / 100).quantize(Decimal(\"0.01\"), rounding = ROUND_HALF_UP) - Decimal(\"180.00\"))\n",
        "  return latitude, longitude"
      ],
      "metadata": {
        "id": "6NTrrP_jREgO"
      },
      "execution_count": 221,
      "outputs": []
    },
    {
      "cell_type": "markdown",
      "source": [
        "#### Convert Hilbert Value back to Coordinates using existing Python Library"
      ],
      "metadata": {
        "id": "yyVm0EwKasb9"
      }
    },
    {
      "cell_type": "code",
      "source": [
        "# Using existing Hilbert Curve Library to convert Hilbert Value back to Coordinates\n",
        "# reference: https://pypi.org/project/hilbertcurve/\n",
        "hilbert_curve = HilbertCurve(16, 2)"
      ],
      "metadata": {
        "id": "W7FzmN79YOKb"
      },
      "execution_count": 222,
      "outputs": []
    },
    {
      "cell_type": "code",
      "source": [
        "# Check the correctness\n",
        "distances = (807774776, 852204314)\n",
        "points = hilbert_curve.points_from_distances(distances)\n",
        "for point, dist in zip(points, distances):\n",
        "  print(f\"Point: {point}, Distance: {dist}\")\n",
        "\n",
        "# For normalized high point: [14346, 31502] , its corresponding Hilbert Value is: 807774776\n",
        "# For normalized low point: [10819, 25367] , its corresponding Hilbert Value is: 852204314"
      ],
      "metadata": {
        "colab": {
          "base_uri": "https://localhost:8080/"
        },
        "id": "HZZJHaQNoHqZ",
        "outputId": "a2805d51-0e64-4413-95cf-bd60144ea92c"
      },
      "execution_count": 223,
      "outputs": [
        {
          "output_type": "stream",
          "name": "stdout",
          "text": [
            "Point: [14346, 31502], Distance: 807774776\n",
            "Point: [10819, 25367], Distance: 852204314\n"
          ]
        }
      ]
    },
    {
      "cell_type": "code",
      "source": [
        "# Retrieve Hilbert Value from the Dataframe\n",
        "hilb_values = new_geo_df[\"hilb_value\"]\n",
        "\n",
        "convertion_start = timeit.default_timer()\n",
        "# Convert the Hilbert Values to Points\n",
        "points = hilbert_curve.points_from_distances(hilb_values)\n",
        "\n",
        "latitude_list = []\n",
        "longitude_list = []\n",
        "# Loop through the points list\n",
        "for point in points:\n",
        "  # Denormalize point\n",
        "  point = denormalize(point)\n",
        "  # Append the coordinates to lists\n",
        "  latitude_list.append(point[0])\n",
        "  longitude_list.append(point[1])\n",
        "convertion_end = timeit.default_timer()\n",
        "# Get time for converting data back from 2D to 3D\n",
        "convertion_time = convertion_end - convertion_start\n",
        "\n",
        "# Add the lists as columns to the Dataframe\n",
        "new_geo_df[\"latitude\"] = latitude_list\n",
        "new_geo_df[\"longitude\"] = longitude_list"
      ],
      "metadata": {
        "id": "OFzSjtBOoD_Q"
      },
      "execution_count": 224,
      "outputs": []
    },
    {
      "cell_type": "code",
      "source": [
        "new_geo_df.head()"
      ],
      "metadata": {
        "colab": {
          "base_uri": "https://localhost:8080/",
          "height": 206
        },
        "id": "pTo1kTj3alnA",
        "outputId": "9dbb0606-9e42-43e5-dc8a-42a2667efb8e"
      },
      "execution_count": 225,
      "outputs": [
        {
          "output_type": "execute_result",
          "data": {
            "text/plain": [
              "           twitter_id  hilb_value      timestamp  latitude  longitude\n",
              "0  888685908450353152   833258361  1500714206217     -6.92     107.77\n",
              "1  888685913240293377   833002040  1500714207359     -7.98     112.62\n",
              "2  888685915018809345   831409330  1500714207783      6.49     124.85\n",
              "3  888685889349705729   821705912  1500714201663     35.30     138.94\n",
              "4  888685903706640384   823427275  1500714205086     31.47     130.98"
            ],
            "text/html": [
              "\n",
              "  <div id=\"df-5583221d-687a-42b6-8186-de2f59c55073\" class=\"colab-df-container\">\n",
              "    <div>\n",
              "<style scoped>\n",
              "    .dataframe tbody tr th:only-of-type {\n",
              "        vertical-align: middle;\n",
              "    }\n",
              "\n",
              "    .dataframe tbody tr th {\n",
              "        vertical-align: top;\n",
              "    }\n",
              "\n",
              "    .dataframe thead th {\n",
              "        text-align: right;\n",
              "    }\n",
              "</style>\n",
              "<table border=\"1\" class=\"dataframe\">\n",
              "  <thead>\n",
              "    <tr style=\"text-align: right;\">\n",
              "      <th></th>\n",
              "      <th>twitter_id</th>\n",
              "      <th>hilb_value</th>\n",
              "      <th>timestamp</th>\n",
              "      <th>latitude</th>\n",
              "      <th>longitude</th>\n",
              "    </tr>\n",
              "  </thead>\n",
              "  <tbody>\n",
              "    <tr>\n",
              "      <th>0</th>\n",
              "      <td>888685908450353152</td>\n",
              "      <td>833258361</td>\n",
              "      <td>1500714206217</td>\n",
              "      <td>-6.92</td>\n",
              "      <td>107.77</td>\n",
              "    </tr>\n",
              "    <tr>\n",
              "      <th>1</th>\n",
              "      <td>888685913240293377</td>\n",
              "      <td>833002040</td>\n",
              "      <td>1500714207359</td>\n",
              "      <td>-7.98</td>\n",
              "      <td>112.62</td>\n",
              "    </tr>\n",
              "    <tr>\n",
              "      <th>2</th>\n",
              "      <td>888685915018809345</td>\n",
              "      <td>831409330</td>\n",
              "      <td>1500714207783</td>\n",
              "      <td>6.49</td>\n",
              "      <td>124.85</td>\n",
              "    </tr>\n",
              "    <tr>\n",
              "      <th>3</th>\n",
              "      <td>888685889349705729</td>\n",
              "      <td>821705912</td>\n",
              "      <td>1500714201663</td>\n",
              "      <td>35.30</td>\n",
              "      <td>138.94</td>\n",
              "    </tr>\n",
              "    <tr>\n",
              "      <th>4</th>\n",
              "      <td>888685903706640384</td>\n",
              "      <td>823427275</td>\n",
              "      <td>1500714205086</td>\n",
              "      <td>31.47</td>\n",
              "      <td>130.98</td>\n",
              "    </tr>\n",
              "  </tbody>\n",
              "</table>\n",
              "</div>\n",
              "    <div class=\"colab-df-buttons\">\n",
              "\n",
              "  <div class=\"colab-df-container\">\n",
              "    <button class=\"colab-df-convert\" onclick=\"convertToInteractive('df-5583221d-687a-42b6-8186-de2f59c55073')\"\n",
              "            title=\"Convert this dataframe to an interactive table.\"\n",
              "            style=\"display:none;\">\n",
              "\n",
              "  <svg xmlns=\"http://www.w3.org/2000/svg\" height=\"24px\" viewBox=\"0 -960 960 960\">\n",
              "    <path d=\"M120-120v-720h720v720H120Zm60-500h600v-160H180v160Zm220 220h160v-160H400v160Zm0 220h160v-160H400v160ZM180-400h160v-160H180v160Zm440 0h160v-160H620v160ZM180-180h160v-160H180v160Zm440 0h160v-160H620v160Z\"/>\n",
              "  </svg>\n",
              "    </button>\n",
              "\n",
              "  <style>\n",
              "    .colab-df-container {\n",
              "      display:flex;\n",
              "      gap: 12px;\n",
              "    }\n",
              "\n",
              "    .colab-df-convert {\n",
              "      background-color: #E8F0FE;\n",
              "      border: none;\n",
              "      border-radius: 50%;\n",
              "      cursor: pointer;\n",
              "      display: none;\n",
              "      fill: #1967D2;\n",
              "      height: 32px;\n",
              "      padding: 0 0 0 0;\n",
              "      width: 32px;\n",
              "    }\n",
              "\n",
              "    .colab-df-convert:hover {\n",
              "      background-color: #E2EBFA;\n",
              "      box-shadow: 0px 1px 2px rgba(60, 64, 67, 0.3), 0px 1px 3px 1px rgba(60, 64, 67, 0.15);\n",
              "      fill: #174EA6;\n",
              "    }\n",
              "\n",
              "    .colab-df-buttons div {\n",
              "      margin-bottom: 4px;\n",
              "    }\n",
              "\n",
              "    [theme=dark] .colab-df-convert {\n",
              "      background-color: #3B4455;\n",
              "      fill: #D2E3FC;\n",
              "    }\n",
              "\n",
              "    [theme=dark] .colab-df-convert:hover {\n",
              "      background-color: #434B5C;\n",
              "      box-shadow: 0px 1px 3px 1px rgba(0, 0, 0, 0.15);\n",
              "      filter: drop-shadow(0px 1px 2px rgba(0, 0, 0, 0.3));\n",
              "      fill: #FFFFFF;\n",
              "    }\n",
              "  </style>\n",
              "\n",
              "    <script>\n",
              "      const buttonEl =\n",
              "        document.querySelector('#df-5583221d-687a-42b6-8186-de2f59c55073 button.colab-df-convert');\n",
              "      buttonEl.style.display =\n",
              "        google.colab.kernel.accessAllowed ? 'block' : 'none';\n",
              "\n",
              "      async function convertToInteractive(key) {\n",
              "        const element = document.querySelector('#df-5583221d-687a-42b6-8186-de2f59c55073');\n",
              "        const dataTable =\n",
              "          await google.colab.kernel.invokeFunction('convertToInteractive',\n",
              "                                                    [key], {});\n",
              "        if (!dataTable) return;\n",
              "\n",
              "        const docLinkHtml = 'Like what you see? Visit the ' +\n",
              "          '<a target=\"_blank\" href=https://colab.research.google.com/notebooks/data_table.ipynb>data table notebook</a>'\n",
              "          + ' to learn more about interactive tables.';\n",
              "        element.innerHTML = '';\n",
              "        dataTable['output_type'] = 'display_data';\n",
              "        await google.colab.output.renderOutput(dataTable, element);\n",
              "        const docLink = document.createElement('div');\n",
              "        docLink.innerHTML = docLinkHtml;\n",
              "        element.appendChild(docLink);\n",
              "      }\n",
              "    </script>\n",
              "  </div>\n",
              "\n",
              "\n",
              "<div id=\"df-f4ee68ac-130b-411f-96dd-a8ecc01676a6\">\n",
              "  <button class=\"colab-df-quickchart\" onclick=\"quickchart('df-f4ee68ac-130b-411f-96dd-a8ecc01676a6')\"\n",
              "            title=\"Suggest charts\"\n",
              "            style=\"display:none;\">\n",
              "\n",
              "<svg xmlns=\"http://www.w3.org/2000/svg\" height=\"24px\"viewBox=\"0 0 24 24\"\n",
              "     width=\"24px\">\n",
              "    <g>\n",
              "        <path d=\"M19 3H5c-1.1 0-2 .9-2 2v14c0 1.1.9 2 2 2h14c1.1 0 2-.9 2-2V5c0-1.1-.9-2-2-2zM9 17H7v-7h2v7zm4 0h-2V7h2v10zm4 0h-2v-4h2v4z\"/>\n",
              "    </g>\n",
              "</svg>\n",
              "  </button>\n",
              "\n",
              "<style>\n",
              "  .colab-df-quickchart {\n",
              "      --bg-color: #E8F0FE;\n",
              "      --fill-color: #1967D2;\n",
              "      --hover-bg-color: #E2EBFA;\n",
              "      --hover-fill-color: #174EA6;\n",
              "      --disabled-fill-color: #AAA;\n",
              "      --disabled-bg-color: #DDD;\n",
              "  }\n",
              "\n",
              "  [theme=dark] .colab-df-quickchart {\n",
              "      --bg-color: #3B4455;\n",
              "      --fill-color: #D2E3FC;\n",
              "      --hover-bg-color: #434B5C;\n",
              "      --hover-fill-color: #FFFFFF;\n",
              "      --disabled-bg-color: #3B4455;\n",
              "      --disabled-fill-color: #666;\n",
              "  }\n",
              "\n",
              "  .colab-df-quickchart {\n",
              "    background-color: var(--bg-color);\n",
              "    border: none;\n",
              "    border-radius: 50%;\n",
              "    cursor: pointer;\n",
              "    display: none;\n",
              "    fill: var(--fill-color);\n",
              "    height: 32px;\n",
              "    padding: 0;\n",
              "    width: 32px;\n",
              "  }\n",
              "\n",
              "  .colab-df-quickchart:hover {\n",
              "    background-color: var(--hover-bg-color);\n",
              "    box-shadow: 0 1px 2px rgba(60, 64, 67, 0.3), 0 1px 3px 1px rgba(60, 64, 67, 0.15);\n",
              "    fill: var(--button-hover-fill-color);\n",
              "  }\n",
              "\n",
              "  .colab-df-quickchart-complete:disabled,\n",
              "  .colab-df-quickchart-complete:disabled:hover {\n",
              "    background-color: var(--disabled-bg-color);\n",
              "    fill: var(--disabled-fill-color);\n",
              "    box-shadow: none;\n",
              "  }\n",
              "\n",
              "  .colab-df-spinner {\n",
              "    border: 2px solid var(--fill-color);\n",
              "    border-color: transparent;\n",
              "    border-bottom-color: var(--fill-color);\n",
              "    animation:\n",
              "      spin 1s steps(1) infinite;\n",
              "  }\n",
              "\n",
              "  @keyframes spin {\n",
              "    0% {\n",
              "      border-color: transparent;\n",
              "      border-bottom-color: var(--fill-color);\n",
              "      border-left-color: var(--fill-color);\n",
              "    }\n",
              "    20% {\n",
              "      border-color: transparent;\n",
              "      border-left-color: var(--fill-color);\n",
              "      border-top-color: var(--fill-color);\n",
              "    }\n",
              "    30% {\n",
              "      border-color: transparent;\n",
              "      border-left-color: var(--fill-color);\n",
              "      border-top-color: var(--fill-color);\n",
              "      border-right-color: var(--fill-color);\n",
              "    }\n",
              "    40% {\n",
              "      border-color: transparent;\n",
              "      border-right-color: var(--fill-color);\n",
              "      border-top-color: var(--fill-color);\n",
              "    }\n",
              "    60% {\n",
              "      border-color: transparent;\n",
              "      border-right-color: var(--fill-color);\n",
              "    }\n",
              "    80% {\n",
              "      border-color: transparent;\n",
              "      border-right-color: var(--fill-color);\n",
              "      border-bottom-color: var(--fill-color);\n",
              "    }\n",
              "    90% {\n",
              "      border-color: transparent;\n",
              "      border-bottom-color: var(--fill-color);\n",
              "    }\n",
              "  }\n",
              "</style>\n",
              "\n",
              "  <script>\n",
              "    async function quickchart(key) {\n",
              "      const quickchartButtonEl =\n",
              "        document.querySelector('#' + key + ' button');\n",
              "      quickchartButtonEl.disabled = true;  // To prevent multiple clicks.\n",
              "      quickchartButtonEl.classList.add('colab-df-spinner');\n",
              "      try {\n",
              "        const charts = await google.colab.kernel.invokeFunction(\n",
              "            'suggestCharts', [key], {});\n",
              "      } catch (error) {\n",
              "        console.error('Error during call to suggestCharts:', error);\n",
              "      }\n",
              "      quickchartButtonEl.classList.remove('colab-df-spinner');\n",
              "      quickchartButtonEl.classList.add('colab-df-quickchart-complete');\n",
              "    }\n",
              "    (() => {\n",
              "      let quickchartButtonEl =\n",
              "        document.querySelector('#df-f4ee68ac-130b-411f-96dd-a8ecc01676a6 button');\n",
              "      quickchartButtonEl.style.display =\n",
              "        google.colab.kernel.accessAllowed ? 'block' : 'none';\n",
              "    })();\n",
              "  </script>\n",
              "</div>\n",
              "\n",
              "    </div>\n",
              "  </div>\n"
            ],
            "application/vnd.google.colaboratory.intrinsic+json": {
              "type": "dataframe",
              "variable_name": "new_geo_df",
              "summary": "{\n  \"name\": \"new_geo_df\",\n  \"rows\": 9970,\n  \"fields\": [\n    {\n      \"column\": \"twitter_id\",\n      \"properties\": {\n        \"dtype\": \"string\",\n        \"num_unique_values\": 9969,\n        \"samples\": [\n          \"888686373913337858\",\n          \"888688643623223296\",\n          \"888689391559823360\"\n        ],\n        \"semantic_type\": \"\",\n        \"description\": \"\"\n      }\n    },\n    {\n      \"column\": \"hilb_value\",\n      \"properties\": {\n        \"dtype\": \"number\",\n        \"std\": 10259481,\n        \"min\": 808403268,\n        \"max\": 852203436,\n        \"num_unique_values\": 3754,\n        \"samples\": [\n          823401642,\n          818268321,\n          852005590\n        ],\n        \"semantic_type\": \"\",\n        \"description\": \"\"\n      }\n    },\n    {\n      \"column\": \"timestamp\",\n      \"properties\": {\n        \"dtype\": \"number\",\n        \"std\": 254581,\n        \"min\": 1500714201599,\n        \"max\": 1500715080944,\n        \"num_unique_values\": 9911,\n        \"samples\": [\n          1500714957875,\n          1500714713282,\n          1500714259421\n        ],\n        \"semantic_type\": \"\",\n        \"description\": \"\"\n      }\n    },\n    {\n      \"column\": \"latitude\",\n      \"properties\": {\n        \"dtype\": \"number\",\n        \"std\": 15.013849850284572,\n        \"min\": -8.06,\n        \"max\": 66.3,\n        \"num_unique_values\": 1672,\n        \"samples\": [\n          39.94,\n          11.17,\n          -7.17\n        ],\n        \"semantic_type\": \"\",\n        \"description\": \"\"\n      }\n    },\n    {\n      \"column\": \"longitude\",\n      \"properties\": {\n        \"dtype\": \"number\",\n        \"std\": 17.072359276890015,\n        \"min\": 70.11,\n        \"max\": 146.45,\n        \"num_unique_values\": 1614,\n        \"samples\": [\n          139.68,\n          120.6,\n          138.6\n        ],\n        \"semantic_type\": \"\",\n        \"description\": \"\"\n      }\n    }\n  ]\n}"
            }
          },
          "metadata": {},
          "execution_count": 225
        }
      ]
    },
    {
      "cell_type": "markdown",
      "source": [
        "#### Convert Hilbert Value back to Coordinates using custom function"
      ],
      "metadata": {
        "id": "RQpLTIPMgOLj"
      }
    },
    {
      "cell_type": "code",
      "source": [
        "# Main reference: https://pubs.aip.org/aip/acp/article-abstract/707/1/381/719611/Programming-the-Hilbert-curve?redirectedFrom=fulltext\n",
        "# Function to return the point value, given iteration p and Hilbert Value\n",
        "# Since we are only dealing with coordinates, the dimension is fixed 2\n",
        "def Get_Coordinates(hilb_value, bits):\n",
        "  # Number of dimension, since we will work on geometric data, it is 2\n",
        "  n = 2\n",
        "  # Number of iterations, same as bits\n",
        "  p = bits\n",
        "  N = 2 << (p - 1)\n",
        "\n",
        "  # Convert the Hilbert Value back to Hilbert Index\n",
        "  # First convert Hilbert Value to its binary representation, length should be n * p\n",
        "  hilbert_binary = bin(hilb_value)[2:].zfill(n * p)\n",
        "  # The Hilbert Index is formed by interleaving bits among the coordinates\n",
        "  # Undo this interleaving step and get a list of binaries for the coordiantes (length should be n)\n",
        "  # Initialize X_binary with n empty strings\n",
        "  X_binary = [\"\"] * n\n",
        "  # We start with left most bit from first coordinate\n",
        "  for i in range (len(hilbert_binary)):\n",
        "    X_binary[i % n] += hilbert_binary[i]\n",
        "  # Convert back to transposed Hilbert Indexes in integer form\n",
        "  X = [int(x, 2) for x in X_binary]\n",
        "\n",
        "  # Gray decode by H ^ (H/2)\n",
        "  t = X[n - 1] >> 1\n",
        "  # Range decrement from n-1 to > 0 (not >= 0 as written in original paper)\n",
        "  # Error in original paper that \"the X array is accessed using a negative index when the variable i becomes zero\"\n",
        "  # Reference of change: https://stackoverflow.com/questions/499166/mapping-n-dimensional-value-to-a-point-on-hilbert-curve\n",
        "  for i in range(n-1, 0, -1):\n",
        "    # XOR coordinates with previous one\n",
        "    X[i] ^= X[i - 1]\n",
        "  # Final XOR\n",
        "  X[0] ^= t\n",
        "\n",
        "  # Undo excess work\n",
        "  Q = 2\n",
        "  while Q != N:\n",
        "    P = Q - 1\n",
        "    # Range decrement from n-1 to >= 0\n",
        "    for i in range(n-1, -1, -1):\n",
        "      if X[i] & Q:\n",
        "        # Invert Step\n",
        "        X[0] ^= P\n",
        "      else:\n",
        "        # Exchange Step\n",
        "        t = (X[0] ^ X[i]) & P\n",
        "        X[0] ^= t\n",
        "        X[i] ^= t\n",
        "    Q <<= 1\n",
        "\n",
        "  # Return the transformed Coordinates\n",
        "  return X"
      ],
      "metadata": {
        "id": "ZnFzhJolgSmT"
      },
      "execution_count": 226,
      "outputs": []
    },
    {
      "cell_type": "code",
      "source": [
        "# Test correctness of our implementation\n",
        "print(\"Converting back the high point:\", Get_Coordinates(807774776, 16))\n",
        "print(\"Converting back the low point:\", Get_Coordinates(852204314, 16))\n",
        "\n",
        "# For normalized high point: [14346, 31502] , its corresponding Hilbert Value is: 807774776\n",
        "# For normalized low point: [10819, 25367] , its corresponding Hilbert Value is: 852204314"
      ],
      "metadata": {
        "colab": {
          "base_uri": "https://localhost:8080/"
        },
        "id": "xi25QJlPkJYg",
        "outputId": "958dfe6f-4f59-427e-e98a-dc937f8a76a5"
      },
      "execution_count": 227,
      "outputs": [
        {
          "output_type": "stream",
          "name": "stdout",
          "text": [
            "Converting back the high point: [14346, 31502]\n",
            "Converting back the low point: [10819, 25367]\n"
          ]
        }
      ]
    },
    {
      "cell_type": "code",
      "source": [
        "# Retrieve Hilbert Value from the Dataframe\n",
        "hilb_values = new_geo_df[\"hilb_value\"]\n",
        "\n",
        "convertion_start = timeit.default_timer()\n",
        "points = []\n",
        "# Convert the Hilbert Values to Points using our implemented function\n",
        "for hilb_value in hilb_values:\n",
        "  points.append(Get_Coordinates(hilb_value, 16))\n",
        "\n",
        "latitude_list = []\n",
        "longitude_list = []\n",
        "# Loop through the points list\n",
        "for point in points:\n",
        "  # Denormalize point\n",
        "  point = denormalize(point)\n",
        "  # Append the coordinates to lists\n",
        "  latitude_list.append(point[0])\n",
        "  longitude_list.append(point[1])\n",
        "convertion_end = timeit.default_timer()\n",
        "# Get time for converting data back from 2D to 3D\n",
        "convertion_time = convertion_end - convertion_start\n",
        "\n",
        "# Add the lists as columns to the Dataframe\n",
        "new_geo_df[\"latitude\"] = latitude_list\n",
        "new_geo_df[\"longitude\"] = longitude_list"
      ],
      "metadata": {
        "id": "5qRG7XuboT13"
      },
      "execution_count": 228,
      "outputs": []
    },
    {
      "cell_type": "code",
      "source": [
        "new_geo_df.head()"
      ],
      "metadata": {
        "colab": {
          "base_uri": "https://localhost:8080/",
          "height": 206
        },
        "id": "9Jjn8GrdonWM",
        "outputId": "4fb733ec-9f24-4c22-f706-b788d37ea3b0"
      },
      "execution_count": 229,
      "outputs": [
        {
          "output_type": "execute_result",
          "data": {
            "text/plain": [
              "           twitter_id  hilb_value      timestamp  latitude  longitude\n",
              "0  888685908450353152   833258361  1500714206217     -6.92     107.77\n",
              "1  888685913240293377   833002040  1500714207359     -7.98     112.62\n",
              "2  888685915018809345   831409330  1500714207783      6.49     124.85\n",
              "3  888685889349705729   821705912  1500714201663     35.30     138.94\n",
              "4  888685903706640384   823427275  1500714205086     31.47     130.98"
            ],
            "text/html": [
              "\n",
              "  <div id=\"df-eef155ce-e4c4-4c9b-8aea-7fe7e4c43062\" class=\"colab-df-container\">\n",
              "    <div>\n",
              "<style scoped>\n",
              "    .dataframe tbody tr th:only-of-type {\n",
              "        vertical-align: middle;\n",
              "    }\n",
              "\n",
              "    .dataframe tbody tr th {\n",
              "        vertical-align: top;\n",
              "    }\n",
              "\n",
              "    .dataframe thead th {\n",
              "        text-align: right;\n",
              "    }\n",
              "</style>\n",
              "<table border=\"1\" class=\"dataframe\">\n",
              "  <thead>\n",
              "    <tr style=\"text-align: right;\">\n",
              "      <th></th>\n",
              "      <th>twitter_id</th>\n",
              "      <th>hilb_value</th>\n",
              "      <th>timestamp</th>\n",
              "      <th>latitude</th>\n",
              "      <th>longitude</th>\n",
              "    </tr>\n",
              "  </thead>\n",
              "  <tbody>\n",
              "    <tr>\n",
              "      <th>0</th>\n",
              "      <td>888685908450353152</td>\n",
              "      <td>833258361</td>\n",
              "      <td>1500714206217</td>\n",
              "      <td>-6.92</td>\n",
              "      <td>107.77</td>\n",
              "    </tr>\n",
              "    <tr>\n",
              "      <th>1</th>\n",
              "      <td>888685913240293377</td>\n",
              "      <td>833002040</td>\n",
              "      <td>1500714207359</td>\n",
              "      <td>-7.98</td>\n",
              "      <td>112.62</td>\n",
              "    </tr>\n",
              "    <tr>\n",
              "      <th>2</th>\n",
              "      <td>888685915018809345</td>\n",
              "      <td>831409330</td>\n",
              "      <td>1500714207783</td>\n",
              "      <td>6.49</td>\n",
              "      <td>124.85</td>\n",
              "    </tr>\n",
              "    <tr>\n",
              "      <th>3</th>\n",
              "      <td>888685889349705729</td>\n",
              "      <td>821705912</td>\n",
              "      <td>1500714201663</td>\n",
              "      <td>35.30</td>\n",
              "      <td>138.94</td>\n",
              "    </tr>\n",
              "    <tr>\n",
              "      <th>4</th>\n",
              "      <td>888685903706640384</td>\n",
              "      <td>823427275</td>\n",
              "      <td>1500714205086</td>\n",
              "      <td>31.47</td>\n",
              "      <td>130.98</td>\n",
              "    </tr>\n",
              "  </tbody>\n",
              "</table>\n",
              "</div>\n",
              "    <div class=\"colab-df-buttons\">\n",
              "\n",
              "  <div class=\"colab-df-container\">\n",
              "    <button class=\"colab-df-convert\" onclick=\"convertToInteractive('df-eef155ce-e4c4-4c9b-8aea-7fe7e4c43062')\"\n",
              "            title=\"Convert this dataframe to an interactive table.\"\n",
              "            style=\"display:none;\">\n",
              "\n",
              "  <svg xmlns=\"http://www.w3.org/2000/svg\" height=\"24px\" viewBox=\"0 -960 960 960\">\n",
              "    <path d=\"M120-120v-720h720v720H120Zm60-500h600v-160H180v160Zm220 220h160v-160H400v160Zm0 220h160v-160H400v160ZM180-400h160v-160H180v160Zm440 0h160v-160H620v160ZM180-180h160v-160H180v160Zm440 0h160v-160H620v160Z\"/>\n",
              "  </svg>\n",
              "    </button>\n",
              "\n",
              "  <style>\n",
              "    .colab-df-container {\n",
              "      display:flex;\n",
              "      gap: 12px;\n",
              "    }\n",
              "\n",
              "    .colab-df-convert {\n",
              "      background-color: #E8F0FE;\n",
              "      border: none;\n",
              "      border-radius: 50%;\n",
              "      cursor: pointer;\n",
              "      display: none;\n",
              "      fill: #1967D2;\n",
              "      height: 32px;\n",
              "      padding: 0 0 0 0;\n",
              "      width: 32px;\n",
              "    }\n",
              "\n",
              "    .colab-df-convert:hover {\n",
              "      background-color: #E2EBFA;\n",
              "      box-shadow: 0px 1px 2px rgba(60, 64, 67, 0.3), 0px 1px 3px 1px rgba(60, 64, 67, 0.15);\n",
              "      fill: #174EA6;\n",
              "    }\n",
              "\n",
              "    .colab-df-buttons div {\n",
              "      margin-bottom: 4px;\n",
              "    }\n",
              "\n",
              "    [theme=dark] .colab-df-convert {\n",
              "      background-color: #3B4455;\n",
              "      fill: #D2E3FC;\n",
              "    }\n",
              "\n",
              "    [theme=dark] .colab-df-convert:hover {\n",
              "      background-color: #434B5C;\n",
              "      box-shadow: 0px 1px 3px 1px rgba(0, 0, 0, 0.15);\n",
              "      filter: drop-shadow(0px 1px 2px rgba(0, 0, 0, 0.3));\n",
              "      fill: #FFFFFF;\n",
              "    }\n",
              "  </style>\n",
              "\n",
              "    <script>\n",
              "      const buttonEl =\n",
              "        document.querySelector('#df-eef155ce-e4c4-4c9b-8aea-7fe7e4c43062 button.colab-df-convert');\n",
              "      buttonEl.style.display =\n",
              "        google.colab.kernel.accessAllowed ? 'block' : 'none';\n",
              "\n",
              "      async function convertToInteractive(key) {\n",
              "        const element = document.querySelector('#df-eef155ce-e4c4-4c9b-8aea-7fe7e4c43062');\n",
              "        const dataTable =\n",
              "          await google.colab.kernel.invokeFunction('convertToInteractive',\n",
              "                                                    [key], {});\n",
              "        if (!dataTable) return;\n",
              "\n",
              "        const docLinkHtml = 'Like what you see? Visit the ' +\n",
              "          '<a target=\"_blank\" href=https://colab.research.google.com/notebooks/data_table.ipynb>data table notebook</a>'\n",
              "          + ' to learn more about interactive tables.';\n",
              "        element.innerHTML = '';\n",
              "        dataTable['output_type'] = 'display_data';\n",
              "        await google.colab.output.renderOutput(dataTable, element);\n",
              "        const docLink = document.createElement('div');\n",
              "        docLink.innerHTML = docLinkHtml;\n",
              "        element.appendChild(docLink);\n",
              "      }\n",
              "    </script>\n",
              "  </div>\n",
              "\n",
              "\n",
              "<div id=\"df-df544f33-95fa-4107-9fd0-81514d820003\">\n",
              "  <button class=\"colab-df-quickchart\" onclick=\"quickchart('df-df544f33-95fa-4107-9fd0-81514d820003')\"\n",
              "            title=\"Suggest charts\"\n",
              "            style=\"display:none;\">\n",
              "\n",
              "<svg xmlns=\"http://www.w3.org/2000/svg\" height=\"24px\"viewBox=\"0 0 24 24\"\n",
              "     width=\"24px\">\n",
              "    <g>\n",
              "        <path d=\"M19 3H5c-1.1 0-2 .9-2 2v14c0 1.1.9 2 2 2h14c1.1 0 2-.9 2-2V5c0-1.1-.9-2-2-2zM9 17H7v-7h2v7zm4 0h-2V7h2v10zm4 0h-2v-4h2v4z\"/>\n",
              "    </g>\n",
              "</svg>\n",
              "  </button>\n",
              "\n",
              "<style>\n",
              "  .colab-df-quickchart {\n",
              "      --bg-color: #E8F0FE;\n",
              "      --fill-color: #1967D2;\n",
              "      --hover-bg-color: #E2EBFA;\n",
              "      --hover-fill-color: #174EA6;\n",
              "      --disabled-fill-color: #AAA;\n",
              "      --disabled-bg-color: #DDD;\n",
              "  }\n",
              "\n",
              "  [theme=dark] .colab-df-quickchart {\n",
              "      --bg-color: #3B4455;\n",
              "      --fill-color: #D2E3FC;\n",
              "      --hover-bg-color: #434B5C;\n",
              "      --hover-fill-color: #FFFFFF;\n",
              "      --disabled-bg-color: #3B4455;\n",
              "      --disabled-fill-color: #666;\n",
              "  }\n",
              "\n",
              "  .colab-df-quickchart {\n",
              "    background-color: var(--bg-color);\n",
              "    border: none;\n",
              "    border-radius: 50%;\n",
              "    cursor: pointer;\n",
              "    display: none;\n",
              "    fill: var(--fill-color);\n",
              "    height: 32px;\n",
              "    padding: 0;\n",
              "    width: 32px;\n",
              "  }\n",
              "\n",
              "  .colab-df-quickchart:hover {\n",
              "    background-color: var(--hover-bg-color);\n",
              "    box-shadow: 0 1px 2px rgba(60, 64, 67, 0.3), 0 1px 3px 1px rgba(60, 64, 67, 0.15);\n",
              "    fill: var(--button-hover-fill-color);\n",
              "  }\n",
              "\n",
              "  .colab-df-quickchart-complete:disabled,\n",
              "  .colab-df-quickchart-complete:disabled:hover {\n",
              "    background-color: var(--disabled-bg-color);\n",
              "    fill: var(--disabled-fill-color);\n",
              "    box-shadow: none;\n",
              "  }\n",
              "\n",
              "  .colab-df-spinner {\n",
              "    border: 2px solid var(--fill-color);\n",
              "    border-color: transparent;\n",
              "    border-bottom-color: var(--fill-color);\n",
              "    animation:\n",
              "      spin 1s steps(1) infinite;\n",
              "  }\n",
              "\n",
              "  @keyframes spin {\n",
              "    0% {\n",
              "      border-color: transparent;\n",
              "      border-bottom-color: var(--fill-color);\n",
              "      border-left-color: var(--fill-color);\n",
              "    }\n",
              "    20% {\n",
              "      border-color: transparent;\n",
              "      border-left-color: var(--fill-color);\n",
              "      border-top-color: var(--fill-color);\n",
              "    }\n",
              "    30% {\n",
              "      border-color: transparent;\n",
              "      border-left-color: var(--fill-color);\n",
              "      border-top-color: var(--fill-color);\n",
              "      border-right-color: var(--fill-color);\n",
              "    }\n",
              "    40% {\n",
              "      border-color: transparent;\n",
              "      border-right-color: var(--fill-color);\n",
              "      border-top-color: var(--fill-color);\n",
              "    }\n",
              "    60% {\n",
              "      border-color: transparent;\n",
              "      border-right-color: var(--fill-color);\n",
              "    }\n",
              "    80% {\n",
              "      border-color: transparent;\n",
              "      border-right-color: var(--fill-color);\n",
              "      border-bottom-color: var(--fill-color);\n",
              "    }\n",
              "    90% {\n",
              "      border-color: transparent;\n",
              "      border-bottom-color: var(--fill-color);\n",
              "    }\n",
              "  }\n",
              "</style>\n",
              "\n",
              "  <script>\n",
              "    async function quickchart(key) {\n",
              "      const quickchartButtonEl =\n",
              "        document.querySelector('#' + key + ' button');\n",
              "      quickchartButtonEl.disabled = true;  // To prevent multiple clicks.\n",
              "      quickchartButtonEl.classList.add('colab-df-spinner');\n",
              "      try {\n",
              "        const charts = await google.colab.kernel.invokeFunction(\n",
              "            'suggestCharts', [key], {});\n",
              "      } catch (error) {\n",
              "        console.error('Error during call to suggestCharts:', error);\n",
              "      }\n",
              "      quickchartButtonEl.classList.remove('colab-df-spinner');\n",
              "      quickchartButtonEl.classList.add('colab-df-quickchart-complete');\n",
              "    }\n",
              "    (() => {\n",
              "      let quickchartButtonEl =\n",
              "        document.querySelector('#df-df544f33-95fa-4107-9fd0-81514d820003 button');\n",
              "      quickchartButtonEl.style.display =\n",
              "        google.colab.kernel.accessAllowed ? 'block' : 'none';\n",
              "    })();\n",
              "  </script>\n",
              "</div>\n",
              "\n",
              "    </div>\n",
              "  </div>\n"
            ],
            "application/vnd.google.colaboratory.intrinsic+json": {
              "type": "dataframe",
              "variable_name": "new_geo_df",
              "summary": "{\n  \"name\": \"new_geo_df\",\n  \"rows\": 9970,\n  \"fields\": [\n    {\n      \"column\": \"twitter_id\",\n      \"properties\": {\n        \"dtype\": \"string\",\n        \"num_unique_values\": 9969,\n        \"samples\": [\n          \"888686373913337858\",\n          \"888688643623223296\",\n          \"888689391559823360\"\n        ],\n        \"semantic_type\": \"\",\n        \"description\": \"\"\n      }\n    },\n    {\n      \"column\": \"hilb_value\",\n      \"properties\": {\n        \"dtype\": \"number\",\n        \"std\": 10259481,\n        \"min\": 808403268,\n        \"max\": 852203436,\n        \"num_unique_values\": 3754,\n        \"samples\": [\n          823401642,\n          818268321,\n          852005590\n        ],\n        \"semantic_type\": \"\",\n        \"description\": \"\"\n      }\n    },\n    {\n      \"column\": \"timestamp\",\n      \"properties\": {\n        \"dtype\": \"number\",\n        \"std\": 254581,\n        \"min\": 1500714201599,\n        \"max\": 1500715080944,\n        \"num_unique_values\": 9911,\n        \"samples\": [\n          1500714957875,\n          1500714713282,\n          1500714259421\n        ],\n        \"semantic_type\": \"\",\n        \"description\": \"\"\n      }\n    },\n    {\n      \"column\": \"latitude\",\n      \"properties\": {\n        \"dtype\": \"number\",\n        \"std\": 15.013849850284572,\n        \"min\": -8.06,\n        \"max\": 66.3,\n        \"num_unique_values\": 1672,\n        \"samples\": [\n          39.94,\n          11.17,\n          -7.17\n        ],\n        \"semantic_type\": \"\",\n        \"description\": \"\"\n      }\n    },\n    {\n      \"column\": \"longitude\",\n      \"properties\": {\n        \"dtype\": \"number\",\n        \"std\": 17.072359276890015,\n        \"min\": 70.11,\n        \"max\": 146.45,\n        \"num_unique_values\": 1614,\n        \"samples\": [\n          139.68,\n          120.6,\n          138.6\n        ],\n        \"semantic_type\": \"\",\n        \"description\": \"\"\n      }\n    }\n  ]\n}"
            }
          },
          "metadata": {},
          "execution_count": 229
        }
      ]
    },
    {
      "cell_type": "markdown",
      "source": [
        "#### Validation based on convert latitude/longitude, final observation"
      ],
      "metadata": {
        "id": "JXPRTuWYa15E"
      }
    },
    {
      "cell_type": "code",
      "source": [
        "# Loop through Dataframe and check if:\n",
        "# Latitude in range: [18.198, 53.459]\n",
        "# Longitude in range: [73.675, 135.026]\n",
        "# Timestamp in range: [1500714201569, 1500715081002]\n",
        "# Only keep the valid points/rows\n",
        "valid_rows = []\n",
        "validation_start = timeit.default_timer()\n",
        "for index, row in new_geo_df.iterrows():\n",
        "  if row[\"latitude\"] >= 18.198 and row[\"latitude\"] <= 53.459:\n",
        "    if row[\"longitude\"] >= 73.675 and row[\"longitude\"] <= 135.026:\n",
        "      if row[\"timestamp\"] >= 1500714201569 and row[\"timestamp\"] <= 1500715081002:\n",
        "        valid_rows.append(row)\n",
        "validation_end = timeit.default_timer()\n",
        "# Get time for validation\n",
        "validation_time = validation_end - validation_start\n",
        "\n",
        "# Create a new GeoDataframe with these validpoints\n",
        "new_final_result_df = gpd.GeoDataFrame(valid_rows, columns=[\"twitter_id\", \"hilb_value\", \"timestamp\", \"latitude\", \"longitude\"])"
      ],
      "metadata": {
        "id": "DQ8Thsuyaqp8"
      },
      "execution_count": 230,
      "outputs": []
    },
    {
      "cell_type": "code",
      "source": [
        "new_final_result_df.shape"
      ],
      "metadata": {
        "colab": {
          "base_uri": "https://localhost:8080/"
        },
        "id": "PN7vzrY4cD1t",
        "outputId": "510073be-8eb9-4a8a-fb9d-05e2cea6259a"
      },
      "execution_count": 231,
      "outputs": [
        {
          "output_type": "execute_result",
          "data": {
            "text/plain": [
              "(1284, 5)"
            ]
          },
          "metadata": {},
          "execution_count": 231
        }
      ]
    },
    {
      "cell_type": "code",
      "source": [
        "# We can run another evaluation step\n",
        "# See how many points in the new Dataframe is included in old Dataframe\n",
        "\n",
        "# List of twitter ids from old Dataframe\n",
        "old_ids = final_result_df[\"twitter_id\"].tolist()\n",
        "# List of twitter ids from new Dataframe\n",
        "new_ids = new_final_result_df[\"twitter_id\"].tolist()\n",
        "\n",
        "count = 0\n",
        "for id in new_ids:\n",
        "  if id in old_ids:\n",
        "    count += 1\n",
        "\n",
        "print(count)"
      ],
      "metadata": {
        "colab": {
          "base_uri": "https://localhost:8080/"
        },
        "id": "oNZnccECcQCQ",
        "outputId": "dbfcb49d-49dd-448e-f575-75c9b3e7a2af"
      },
      "execution_count": 232,
      "outputs": [
        {
          "output_type": "stream",
          "name": "stdout",
          "text": [
            "1284\n"
          ]
        }
      ]
    },
    {
      "cell_type": "markdown",
      "source": [
        "From the validation, we have removed around 87% spurious points that does not belong in the range query (false positive). \\\n",
        "We can see all the remaining points are indeed included in the original dataframe result, but there are a few of them missing, and the missing fraction is about: 23%."
      ],
      "metadata": {
        "id": "4M1cAZSAcp4J"
      }
    },
    {
      "cell_type": "code",
      "source": [
        "# Running time\n",
        "print(f\"Time used to query the spatiotemporal data: {query_time} seconds\")\n",
        "print(f\"Time used to convert the 3D data back to 2D data: {convertion_time} seconds\")\n",
        "print(f\"Time used to validate the queried result: {validation_time} seconds\")\n",
        "print(f\"Total time needed to query through spatio-temporal data with the new method is: {query_time + convertion_time + validation_time} seconds\")"
      ],
      "metadata": {
        "colab": {
          "base_uri": "https://localhost:8080/"
        },
        "id": "NnwE3LL6dIDO",
        "outputId": "f7e47453-3457-41cb-acac-9f8e2397eb2c"
      },
      "execution_count": 233,
      "outputs": [
        {
          "output_type": "stream",
          "name": "stdout",
          "text": [
            "Time used to query the spatiotemporal data: 0.01456455100014864 seconds\n",
            "Time used to convert the 3D data back to 2D data: 0.5266086520005047 seconds\n",
            "Time used to validate the queried result: 1.075355649998528 seconds\n",
            "Total time needed to query through spatio-temporal data with the new method is: 1.6165288529991813 seconds\n"
          ]
        }
      ]
    },
    {
      "cell_type": "markdown",
      "source": [
        "We can see the query time is significant shorter, but there is additional overhead when trying to validate the data, and cause the overful query time much longer. \\\n",
        "Maybe a more careful/better designed algorithm may reduce this overhead."
      ],
      "metadata": {
        "id": "xrggSRAbu4uA"
      }
    }
  ]
}